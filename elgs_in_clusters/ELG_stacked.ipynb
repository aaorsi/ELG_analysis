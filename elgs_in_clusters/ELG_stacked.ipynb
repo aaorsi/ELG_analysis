{
 "cells": [
  {
   "cell_type": "code",
   "execution_count": 1,
   "metadata": {},
   "outputs": [
    {
     "name": "stderr",
     "output_type": "stream",
     "text": [
      "j-plus [INFO]: Fetching J-PLUS Tile list\n",
      "j-plus [INFO]:    Loading /home/CEFCA/aaorsi/photoz/jplus_data/objects_tile_list_test2_dual.h5\n"
     ]
    }
   ],
   "source": [
    "%matplotlib notebook\n",
    "import os\n",
    "\n",
    "import jplus\n",
    "#jplus_dir         =  '/home/CEFCA/aaorsi/work/j-plus/'\n",
    "elg_analysis_dir  = '/home/CEFCA/aaorsi/work/elg_jplus/'\n",
    "elgdata           = '%s/out/elgs.dat' % elg_analysis_dir\n",
    "redmapper_dir     = '/home/CEFCA/aaorsi/work/redmapper/'\n",
    "redmapperdata     = redmapper_dir + 'redmapper_dr8_public_v6.3_catalog.fits'\n",
    "#tilesdata         = '%s/tiles/tiles_data_new.tsv' % elg_analysis_dir\n",
    "\n",
    "\n",
    "cwd = os.getcwd()\n",
    "import sys\n",
    "\n",
    "#sys.path.append(jplus_dir)\n",
    "sys.path.append(elg_analysis_dir)\n",
    "\n",
    "import numpy as np\n",
    "import matplotlib\n",
    "import matplotlib.pyplot as plt\n",
    "from astropy.io import fits\n",
    "\n",
    "#import elg_analysis as elg\n",
    "import elgtools as tools_elg\n",
    "import learn_elgs as learn_elg\n",
    "import pickle\n",
    "\n",
    "from astropy import units as u\n",
    "from astropy.coordinates import SkyCoord\n",
    "\n",
    "tile_scale = 1.40\n",
    "\n",
    "rmin = -2\n",
    "rmax =np.log10(tile_scale/2.)\n",
    "nbins = 20\n",
    "\n",
    "rarr = np.linspace(rmin, rmax, nbins)\n",
    "dr = rarr[1] - rarr[0]\n",
    "\n",
    "#t_info = np.loadtxt(tilesdata) ## Old tile list info, don't use\n",
    "#print 'tiles info read'\n",
    "tiles = jplus.datasets.fetch_jplus_tile_list(db='test2',overwrite=False)\n"
   ]
  },
  {
   "cell_type": "code",
   "execution_count": 2,
   "metadata": {},
   "outputs": [
    {
     "data": {
      "text/plain": [
       "['ncombined',\n",
       " 'noise',\n",
       " 'min_ra',\n",
       " 'ADUlevel',\n",
       " 'tileIDs',\n",
       " 'texposed',\n",
       " 'min_dec',\n",
       " 'ref_tileID',\n",
       " 'filter',\n",
       " 'depth',\n",
       " 'effectime',\n",
       " 'max_dec',\n",
       " 'ra',\n",
       " 'SQL',\n",
       " 'date',\n",
       " 'max_ra',\n",
       " 'dec',\n",
       " 'fwhmg']"
      ]
     },
     "execution_count": 2,
     "metadata": {},
     "output_type": "execute_result"
    }
   ],
   "source": [
    "tiles.keys()\n"
   ]
  },
  {
   "cell_type": "code",
   "execution_count": 3,
   "metadata": {
    "collapsed": true
   },
   "outputs": [],
   "source": [
    "def get_distance(ra1, dec1, ra2, dec2):\n",
    "  ra1 *= np.pi/180.\n",
    "  ra2 *= np.pi/180.\n",
    "  dec1 *= np.pi/180.\n",
    "  dec2 *= np.pi/180.\n",
    "  \n",
    "# Angular distance for two sets of coordinates\n",
    "  cosg = (np.cos(np.pi/2. - dec1)*np.cos(np.pi/2. - dec2) +\n",
    "          np.sin(np.pi/2. - dec1)*np.sin(np.pi/2.-dec2)*np.cos(ra1 - ra2))\n",
    "  \n",
    "  return np.arccos(cosg)\n",
    "\n",
    "\n",
    "def quick_dist(ra1, dec1, ra2, dec2, units='deg'):\n",
    "  return np.sqrt( ((ra1 - ra2)*np.cos(dec1*np.pi/180))**2 + (dec1 - dec2)**2)\n",
    "\n",
    "def haversine_dist(ra1, dec1, ra2, dec2):\n",
    "  th1 = np.pi/2. - dec1 * np.pi/180.0\n",
    "  th2 = np.pi/2. - dec2 * np.pi/180.0\n",
    "\n",
    "  ph1 = ra1 * np.pi/180.0\n",
    "  ph2 = ra2 * np.pi/180.0\n",
    "\n",
    "  dph = np.abs(ph1 - ph2)\n",
    "  dth = np.abs(th1 - th2)\n",
    "\n",
    "  harg = np.sin(dph/2)**2 + np.cos(ph1)*np.cos(ph2) * np.sin(dth/2.)**2\n",
    "\n",
    "  return 2 *np.arcsin(np.sqrt(harg)) * 180./np.pi  # Return distance in degrees\n",
    "\n",
    "\n",
    "def skydist(ra1,dec1,ra2,dec2, units='deg'):\n",
    "  \n",
    "  n2 = len(ra2)\n",
    "\n",
    "  if n2 != len(dec2):\n",
    "    raise ValueError('ra, dec arrays have different number of elements')\n",
    "  \n",
    "  dist = np.zeros(n2)\n",
    "\n",
    "  c1 = SkyCoord(ra1,dec1,unit=units)\n",
    "  for i in range(n2):\n",
    "    c2 = SkyCoord(ra2[i], dec2[i], unit=units)\n",
    "    dist[i] = c1.separation(c2).radian\n",
    "\n",
    "  return dist\n",
    "\n",
    "def load_catalogues(elgfile = elgdata, centralobj = redmapperdata, centralobjtype = 'fits', \n",
    "                    zrange=[.3,.35]):\n",
    "\n",
    "\n",
    "# Function to load elgs and redmapper catalogues\n",
    "\n",
    "  elgs = pickle.load(open(elgfile))\n",
    "  print 'ELG catalogue loaded'\n",
    "\n",
    "  if centralobjtype == 'fits':\n",
    "    raw_central = fits.open(centralobj)\n",
    "    central0     = raw_central[1].data\n",
    "    zsel = np.where((central0['z_lambda'] > zrange[0]) & (central0['z_lambda'] < zrange[1]))[0]\n",
    "    ncentral = len(zsel)\n",
    "    central = central0[zsel]\n",
    "  else:\n",
    "    central = centralobj\n",
    "    ncentral = len(central['ra'])\n",
    "    zsel     = np.arange(ncentral)\n",
    "\n",
    "  \n",
    "  return {'elgs':elgs, 'central':central}\n",
    "\n",
    "  \n",
    "def get_density(datadic, tiles, dfunc = haversine_dist):  \n",
    "  \n",
    "  gal_arr = np.zeros(nbins)\n",
    "  central = datadic['central']\n",
    "  elgs    = datadic['elgs']\n",
    "  ncentral  = len(central['ra'])\n",
    "  nelgs    = len(elgs)\n",
    "    \n",
    "  # dfunc = quick_dist  # Define which distance calculator to use\n",
    "  # dfunc = haversine_dist # get_distance  # Define which distance calculator to use\n",
    "  \n",
    "  print 'central objects loaded, %d clusters' % ncentral\n",
    "\n",
    "  # Select only those central objects \n",
    "  # near a J-PLUS tile\n",
    "  \n",
    "  \n",
    "  elgtiles = np.unique(elgs['tile_id'])\n",
    "        \n",
    "  ntiles = len(elgtiles)\n",
    "  print 'ELG sample is contained in %d tiles' % ntiles\n",
    "  print 'scanning tiles..'\n",
    " \n",
    "  ktot = 0\n",
    "  for i in range(ncentral):\n",
    "    idc = i\n",
    "\n",
    "    dist = dfunc(central['ra'][idc], central['dec'][idc], tiles['ra'], \n",
    "                tiles['dec'])\n",
    "    idist = np.argmin(dist)\n",
    "    mindist = dist[idist]\n",
    "    \n",
    "    if mindist < tile_scale:\n",
    "      idtt = np.where(elgtiles == tiles['tileIDs'][idist])[0] # Tile with central obj contains ELGs\n",
    "      \n",
    "      if len(idtt) != 1:\n",
    "        continue # len(idtt) = 0 would mean that this tile is empty -- not observed or bad photometry\n",
    "\n",
    "      sel_tile = np.where(elgs['tile_id'] == tiles['tileIDs'][idist])[0]\n",
    "      ngals = len(sel_tile)\n",
    "  \n",
    "      ktot += 1.0 # Tile contains central galaxy + ELGs around it.\n",
    "\n",
    "      for k in range(ngals):\n",
    "        idg = sel_tile[k]\n",
    "        dist = np.log10(dfunc(central['ra'][idc], central['dec'][idc], \n",
    "        elgs['coords'][idg,0], elgs['coords'][idg,1]))\n",
    "\n",
    "        if dist < rmax:\n",
    "          dbin = int((dist  - rmin)/dr)\n",
    "          gal_arr[dbin:] += 1\n",
    "\n",
    "#    if ktot == 79:\n",
    "#      break\n",
    "\n",
    "  print gal_arr/ktot\n",
    "\n",
    "  print 'N centers: ',ktot\n",
    "  return gal_arr/ktot\n",
    "\n",
    "\n",
    "def plot_densities(d1,label):\n",
    "  import matplotlib.pyplot as plt\n",
    "  vol_r = 1 #np.pi*(10**rarr)**2\n",
    "\n",
    "  for d, l in zip(d1, label):\n",
    "      plt.semilogy(rarr, d/vol_r,label=l,linewidth=3)\n",
    "\n",
    "  plt.legend(fontsize=20)\n",
    "\n",
    "  plt.xlabel(r'$\\log(\\theta [{\\rm deg}])$',fontsize=20)\n",
    "  plt.ylabel(r'$\\langle n \\rangle (\\leq r) [{\\rm deg}^{-2}]$',fontsize=20)\n",
    "\n",
    "  plt.xlim([rarr.min(),rarr.max()])\n",
    "  #plt.ylim([np.min([d1v,d2v]), d2v.max()])\n",
    "\n",
    "  plt.show()\n",
    "\n",
    "  return 1\n"
   ]
  },
  {
   "cell_type": "code",
   "execution_count": null,
   "metadata": {},
   "outputs": [
    {
     "name": "stderr",
     "output_type": "stream",
     "text": [
      "j-plus [INFO]: Fetching J-PLUS Tile list\n",
      "j-plus [INFO]:    Loading /home/CEFCA/aaorsi/photoz/jplus_data/objects_tile_list_test2_dual.h5\n",
      "j-plus [INFO]:    Loading /home/CEFCA/aaorsi/photoz/jplus_data/jplus_objects_to_mask_test2_dual.h5\n",
      "j-plus [INFO]: Reading Mangle Mask /home/CEFCA/aaorsi/photoz/jplus_data/mask_data/jplus_mask.pol\n",
      "j-plus [INFO]: Creating random points\n"
     ]
    }
   ],
   "source": [
    "\n",
    "#def elg_clusters():\n",
    "\n",
    "CreateRandoms = True\n",
    "RanFile = 'random_mask.dat'\n",
    "\n",
    "mastercat = load_catalogues()\n",
    "tcenter = {'ra':tiles['ra'], 'dec':tiles['dec']}\n",
    "tilecat = load_catalogues(centralobj=tcenter, centralobjtype='')\n",
    "\n",
    "\n",
    "elgs = mastercat['elgs']\n",
    "import pymangle\n",
    "\n",
    "tiles = jplus.datasets.fetch_jplus_tile_list(db='test2',overwrite=False)\n",
    "stars = jplus.datasets.fetch_jplus_objects_to_mask(db='test2',overwrite=False)\n",
    "mask  = jplus.mangle.Mask(tiles,stars, overwrite=False)\n",
    "\n",
    "\n",
    "if CreateRandoms:\n",
    "    print 'Creating random mask file...'\n",
    "    ran = mask.create_random(1e6)\n",
    "    with open(RanFile,'wb') as outfile:\n",
    "        pickle.dump(ran,outfile,protocol=pickle.HIGHEST_PROTOCOL)\n",
    "else:\n",
    "    print 'Reading random mask file ...'\n",
    "    ran = pickle.load(RanFile)\n",
    "    \n",
    "                \n",
    "good = mask.contains(elgs['coords'])\n",
    "\n",
    "nran = len(ran['coords'])\n",
    "ran_tile_id = np.zeros(nran)\n",
    "for i in range(nran):\n",
    "    rc = ran['coords']\n",
    "    dist = haversine_dist(rc[i,0], rc[i,1], tiles['ra'], \n",
    "                tiles['dec'])\n",
    "    idist = np.argmin(dist)\n",
    "    mindist = dist[idist]\n",
    "    ran_tile_id[i] = tiles['tileIDs'][idist]\n",
    "\n",
    "\n",
    "randict = {'coords':ran['coords'], 'tile_id':ran_tile_id}    \n",
    "\n",
    "mask_clusters = {}  # Mask density around ELGs\n",
    "mask_clusters['elgs'] = randict\n",
    "mask_clusters['central'] = mastercat['central']\n",
    "\n",
    "\n",
    "mask_tile = {}\n",
    "mask_tile['elgs'] = randict\n",
    "mask_tile['central'] = tilecat['central']\n",
    "\n",
    "\n",
    "  "
   ]
  },
  {
   "cell_type": "code",
   "execution_count": null,
   "metadata": {},
   "outputs": [],
   "source": [
    "os.path.expandvars('$MANGLEBINDIR')\n"
   ]
  },
  {
   "cell_type": "code",
   "execution_count": null,
   "metadata": {},
   "outputs": [],
   "source": [
    "hp = jplus.healpix.HealpixMap(elgs['coords'][:,:], average=False, nside=256)#, value=obj_jplus['rJAVA'][good,0])\n",
    "hmap = hp.plot(interactive=False, title=\"Average J0660 magnitude\")"
   ]
  },
  {
   "cell_type": "code",
   "execution_count": null,
   "metadata": {},
   "outputs": [],
   "source": [
    "hp = jplus.healpix.HealpixMap(randict['coords'][:,:], average=False, nside=256)#, value=obj_jplus['rJAVA'][good,0])\n",
    "hmap = hp.plot(interactive=False, title=\"Average J0660 magnitude\")"
   ]
  },
  {
   "cell_type": "code",
   "execution_count": null,
   "metadata": {
    "collapsed": true
   },
   "outputs": [],
   "source": [
    "print g4"
   ]
  },
  {
   "cell_type": "code",
   "execution_count": null,
   "metadata": {},
   "outputs": [],
   "source": [
    "plt.figure(12)\n",
    "plt.plot(randict['coords'][:,0],randict['coords'][:,1], '.',color='gray')\n",
    "plt.plot(elgs['coords'][:,0],elgs['coords'][:,1], ',',color='yellow')\n",
    "plt.show()\n",
    "\n"
   ]
  },
  {
   "cell_type": "code",
   "execution_count": null,
   "metadata": {},
   "outputs": [],
   "source": [
    "g1 = get_density(mastercat, tiles)\n",
    "g2 = get_density(tilecat, tiles)\n",
    "\n",
    "g3 = get_density(mask_clusters, tiles)\n",
    "g4 = get_density(mask_tile, tiles)\n",
    "\n"
   ]
  },
  {
   "cell_type": "code",
   "execution_count": null,
   "metadata": {},
   "outputs": [],
   "source": [
    "plt.figure(11)\n",
    "plot_densities([g1,g2,g3,g4],['clusters','tile centers', 'mask', 'mask around tile center'])\n",
    "plt.figure(22)\n",
    "plot_densities([g1/g3,g2/g4],['clusters','tile centers'])"
   ]
  },
  {
   "cell_type": "code",
   "execution_count": null,
   "metadata": {},
   "outputs": [],
   "source": [
    "plt.figure()\n",
    "\n",
    "tnumber = 0\n",
    "tid = tiles['tileIDs'][tnumber]\n",
    "print tid\n",
    "mask = randict['tile_id'] == randict['tile_id'][0]\n",
    "print mask[mask == True]\n",
    "plt.plot(ran['coords'][mask,0]-tiles['ra'][tnumber],ran['coords'][mask,1]-tiles['dec'][tnumber],'o')"
   ]
  },
  {
   "cell_type": "code",
   "execution_count": null,
   "metadata": {},
   "outputs": [],
   "source": [
    "tile, mag, total = jplus.plotting.groupbytile(elgs['tile_id'], elgs['J0660'][:,0])\n",
    "plt.figure()\n",
    "plt.plot(tile, mag,'o')\n",
    "print tile, total"
   ]
  },
  {
   "cell_type": "code",
   "execution_count": null,
   "metadata": {
    "collapsed": true
   },
   "outputs": [],
   "source": [
    "elgs[]"
   ]
  },
  {
   "cell_type": "code",
   "execution_count": null,
   "metadata": {
    "collapsed": true
   },
   "outputs": [],
   "source": []
  }
 ],
 "metadata": {
  "anaconda-cloud": {},
  "kernelspec": {
   "display_name": "Python 2",
   "language": "python",
   "name": "python2"
  },
  "language_info": {
   "codemirror_mode": {
    "name": "ipython",
    "version": 2
   },
   "file_extension": ".py",
   "mimetype": "text/x-python",
   "name": "python",
   "nbconvert_exporter": "python",
   "pygments_lexer": "ipython2",
   "version": "2.7.13"
  }
 },
 "nbformat": 4,
 "nbformat_minor": 1
}
