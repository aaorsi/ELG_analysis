{
 "cells": [
  {
   "cell_type": "code",
   "execution_count": 1,
   "metadata": {
    "collapsed": true
   },
   "outputs": [],
   "source": [
    "%matplotlib inline\n",
    "import jplus\n",
    "import os\n",
    "import pickle\n",
    "import elgtools as elg\n",
    "import numpy as np\n",
    "import matplotlib.pyplot as plt\n",
    "import Read_Mocks as read\n",
    "import MockJPLUS as mtools\n",
    "import matplotlib.gridspec as gsc\n",
    "\n",
    "Mockpath = '/home/CEFCA/aaorsi/work/JPLUS_Mock/'\n",
    "namelc   = 'LightCone_SA_0_'\n",
    "\n",
    "plt.rcParams['figure.figsize'] = 25, 25\n"
   ]
  },
  {
   "cell_type": "code",
   "execution_count": 2,
   "metadata": {},
   "outputs": [
    {
     "name": "stderr",
     "output_type": "stream",
     "text": [
      "j-plus [INFO]: Fetching SDSS galaxies\n",
      "j-plus [INFO]:    Loading /home/CEFCA/aaorsi/photoz/jplus_data/coords_sdss_photgalaxies_none_magmax21.0.h5\n",
      "j-plus [INFO]: Fetching SDSS galaxies\n",
      "j-plus [INFO]:    Loading /home/CEFCA/aaorsi/photoz/jplus_data/r_i_sdss_photgalaxies_aperMags_magmax21.0.h5\n"
     ]
    },
    {
     "name": "stdout",
     "output_type": "stream",
     "text": [
      "SDSS coordinates loaded\n"
     ]
    },
    {
     "name": "stderr",
     "output_type": "stream",
     "text": [
      "j-plus [INFO]: Fetching SDSS galaxies\n",
      "j-plus [INFO]:    Loading /home/CEFCA/aaorsi/photoz/jplus_data/ugz_sdss_photgalaxies_aperMags_magmax21.0.h5\n"
     ]
    },
    {
     "name": "stdout",
     "output_type": "stream",
     "text": [
      "SDSS ri loaded\n",
      "SDSS ugz loaded\n"
     ]
    },
    {
     "name": "stderr",
     "output_type": "stream",
     "text": [
      "j-plus [INFO]: Fetching SDSS galaxies\n",
      "j-plus [INFO]:    Loading /home/CEFCA/aaorsi/photoz/jplus_data/r_i_err_sdss_photgalaxies_aperMags_magmax21.0.h5\n"
     ]
    },
    {
     "name": "stdout",
     "output_type": "stream",
     "text": [
      "SDSS ri errors loaded\n"
     ]
    }
   ],
   "source": [
    "# Loading SDSS data first\n",
    "\n",
    "Load_coords = True\n",
    "Load_ri     = True\n",
    "Load_ugz    = True\n",
    "Load_ri_err = True\n",
    "\n",
    "if Load_coords:\n",
    "    gal_sdss_coords  = jplus.datasets.fetch_custom_sdss(mag_type=\"none\",overwrite=False,mag_limit=[16,21], extinction=False,\n",
    "                                                          clean = True, nchunks = 10, spectroscopic=False, \n",
    "                                                    casjobs=True, object_name=\"photgalaxies\",get_r=False, get_i=False,\n",
    "                                                    runname='coords', get_coords=True) \n",
    "    id_obj = np.argsort(gal_sdss_coords['object_id'])\n",
    "    gal_sdss_coords['object_id'] = gal_sdss_coords['object_id'][id_obj]\n",
    "    gal_sdss_coords['coords'] = gal_sdss_coords['coords'][id_obj,:]\n",
    "    print 'SDSS coordinates loaded'\n",
    "    \n",
    "if Load_ri:\n",
    "    gal_sdss_r_i  = jplus.datasets.fetch_custom_sdss(mag_type=\"aperMags\",overwrite=False,mag_limit=[16,21], extinction=False,\n",
    "                                                          clean = True, nchunks = 10, spectroscopic=False, \n",
    "                                                    casjobs=True, object_name=\"photgalaxies\",get_r=True, get_i=True,\n",
    "                                                    runname='r_i', get_coords=False)  \n",
    "    id_obj = np.argsort(gal_sdss_r_i['object_id'])\n",
    "    gal_sdss_r_i['object_id'] = gal_sdss_r_i['object_id'][id_obj]\n",
    "    gal_sdss_r_i['rSDSS'] = gal_sdss_r_i['rSDSS'][id_obj,:]\n",
    "    gal_sdss_r_i['iSDSS'] = gal_sdss_r_i['iSDSS'][id_obj,:]\n",
    "    \n",
    "    print 'SDSS ri loaded'\n",
    "\n",
    "if Load_ugz:\n",
    "    gal_sdss_ugz  = jplus.datasets.fetch_custom_sdss(mag_type=\"aperMags\",overwrite=False,mag_limit=[16,21], extinction=False,\n",
    "                                                          clean = True, nchunks = 10, spectroscopic=False, \n",
    "                                                    casjobs=True, object_name=\"photgalaxies\",get_u=True, get_g=True,get_z=True,\n",
    "                                                    runname='ugz', get_coords=False)    \n",
    "    print 'SDSS ugz loaded'\n",
    "\n",
    "    id_obj = np.argsort(gal_sdss_ugz['object_id'])\n",
    "    gal_sdss_ugz['object_id'] = gal_sdss_ugz['object_id'][id_obj]\n",
    "    gal_sdss_ugz['uSDSS'] = gal_sdss_ugz['uSDSS'][id_obj,:]\n",
    "    gal_sdss_ugz['gSDSS'] = gal_sdss_ugz['gSDSS'][id_obj,:]\n",
    "    gal_sdss_ugz['zSDSS'] = gal_sdss_ugz['zSDSS'][id_obj,:]\n",
    "\n",
    "if Load_ri_err:    \n",
    "    gal_sdss_r_i_err = jplus.datasets.fetch_custom_sdss(mag_type=\"aperMags\",overwrite=False,mag_limit=[16,21], extinction=False,\n",
    "                                                          clean = True, nchunks = 10, spectroscopic=False, \n",
    "                                                    casjobs=True, object_name=\"photgalaxies\",get_r_err=True, get_i_err=True,\n",
    "                                                    runname='r_i_err', get_coords=False)\n",
    "    print 'SDSS ri errors loaded'\n",
    "\n",
    "    id_obj = np.argsort(gal_sdss_r_i_err['object_id'])\n",
    "    gal_sdss_r_i_err['object_id'] = gal_sdss_r_i_err['object_id'][id_obj]\n",
    "    gal_sdss_r_i_err['rSDSS'] = gal_sdss_r_i_err['rSDSS'][id_obj,:]\n",
    "    gal_sdss_r_i_err['iSDSS'] = gal_sdss_r_i_err['iSDSS'][id_obj,:]\n",
    "    \n",
    "    \n",
    "    \n",
    "#gal_sdss_r_i_err = jplus.datasets.fetch_custom_sdss(mag_type=\"aperMags\",overwrite=False,mag_limit=[16,21], extinction=False,\n",
    "#                                                          clean = True, nchunks = 10, spectroscopic=False, \n",
    "#                                                    casjobs=True, object_name=\"photgalaxies\",get_r_err=True, get_i_err=True,\n",
    "#                                                    runname='r_i_err', get_coords=False)    \n"
   ]
  },
  {
   "cell_type": "code",
   "execution_count": null,
   "metadata": {},
   "outputs": [],
   "source": []
  },
  {
   "cell_type": "code",
   "execution_count": 3,
   "metadata": {},
   "outputs": [
    {
     "name": "stderr",
     "output_type": "stream",
     "text": [
      "j-plus [INFO]: Fetching J-PLUS galaxies\n",
      "j-plus [INFO]:    Loading /home/CEFCA/aaorsi/photoz/jplus_data/jplus_allELGs_gpsfMags_upad_dual_magmax24.0.h5\n"
     ]
    }
   ],
   "source": [
    "# Load J-PLUS catalogue\n",
    "LoadJPLUSCat = False # if True loads a ELG catalogue of JPLUS already built\n",
    "mag_type = 'gpsfMags' # or wpsfMags\n",
    "\n",
    "\n",
    "if LoadJPLUSCat:\n",
    "    gal_elgs = pickle.load(open(fout))\n",
    "else:\n",
    "    mag_excess = \"AND (m.MAG_APER_3_0[jplus::rSDSS]- m.MAG_APER_3_0[jplus::J0660]) > 0\"\n",
    "    gal_jplus0 = jplus.datasets.fetch_jplus_objects(mag_type=mag_type, overwrite=False, \n",
    "                                                 object_name=\"allELGs\", nchunks=20, mag_limit=[16,24],\n",
    "                                                extra_where_conds='',db='upad')\n"
   ]
  },
  {
   "cell_type": "code",
   "execution_count": null,
   "metadata": {},
   "outputs": [],
   "source": []
  },
  {
   "cell_type": "code",
   "execution_count": null,
   "metadata": {},
   "outputs": [],
   "source": []
  },
  {
   "cell_type": "code",
   "execution_count": 4,
   "metadata": {},
   "outputs": [
    {
     "name": "stdout",
     "output_type": "stream",
     "text": [
      "Original ELG selection contains 7675428 candidates\n",
      "After removing non-single detections and masked objects, 5002422\n",
      "that is a fraction 0.651745 \n"
     ]
    }
   ],
   "source": [
    "# Further selection cuts of ELGs:\n",
    "\n",
    "fnames = jplus.datasets.jplus_filter_names()\n",
    "\n",
    "snr_limit = 5 # Minimum SNR for r, i and J0660\n",
    "\n",
    "\n",
    "mc = ((gal_jplus0['mask_flags_rJAVA'] == 0) &\n",
    "     (gal_jplus0['mask_flags_iJAVA'] == 0) &\n",
    "     (gal_jplus0['mask_flags_J0660'] == 0) &\n",
    "     (gal_jplus0['single_detect_J0660'] != 0) &\n",
    "     (gal_jplus0['single_detect_iJAVA'] != 0) &\n",
    "     (1./gal_jplus0['J0660'][:,1] > snr_limit)) \n",
    "    \n",
    "\n",
    "jp0 = jplus.tools.select_object(gal_jplus0, mc)\n",
    "    \n",
    "        \n",
    "print 'Original ELG selection contains %ld candidates' % len(gal_jplus0['tile_id'])\n",
    "print 'After removing non-single detections and masked objects, %ld' % len(jp0['tile_id'])\n",
    "frac = (len(jp0['tile_id']) + 0.0)/(len(gal_jplus0['tile_id'])+0.0)\n",
    "print 'that is a fraction %f ' % frac\n",
    "\n",
    "\n",
    "          "
   ]
  },
  {
   "cell_type": "code",
   "execution_count": 5,
   "metadata": {
    "scrolled": false
   },
   "outputs": [
    {
     "name": "stdout",
     "output_type": "stream",
     "text": [
      "Cross-match of SDSS phot with J-PLUS ...\n",
      "Cross-match in 5002422 galaxies,\n",
      "SDSS: 38167240\n",
      "nJPLUS: 5002422\n",
      "xmatch catalogue contains 1234729 galaxies\n"
     ]
    },
    {
     "data": {
      "text/plain": [
       "<matplotlib.figure.Figure at 0x7f4f8057bd90>"
      ]
     },
     "metadata": {},
     "output_type": "display_data"
    },
    {
     "data": {
      "image/png": "[encoded data removed]",
      "text/plain": [
       "<matplotlib.figure.Figure at 0x7f4f805110d0>"
      ]
     },
     "metadata": {},
     "output_type": "display_data"
    },
    {
     "name": "stdout",
     "output_type": "stream",
     "text": [
      "fraction of outliers in rJAVA - rSDSS: 0.003564\n",
      "fraction of outliers in iJAVA - iSDSS: 0.006175\n",
      "J-PLUS ELG catalogue loaded\n"
     ]
    }
   ],
   "source": [
    "# Cross-match with SDSS\n",
    "\n",
    "\n",
    "elgdir   = os.getcwd()\n",
    "fout = '%s/out/elgs.dat' % elgdir\n",
    "z_oii = [0.73, 0.79]\n",
    "\n",
    "UseSDSSPhot = True # Use SDSS BB photometry instead of J-PLUS?\n",
    "AddedPlots = False\n",
    "AddedPlots2 = True\n",
    "\n",
    "if AddedPlots or AddedPlots2:\n",
    "    plt.figure('PlotSDSSPhotometry')\n",
    "    \n",
    "    gs = gsc.GridSpec(1,2)\n",
    "    gs.update(wspace=0.0, hspace=0.0)\n",
    "\n",
    "    ijlim = -10\n",
    "    rjlim = -10\n",
    "    \n",
    "    if UseSDSSPhot:\n",
    "        \n",
    "           \n",
    "              \n",
    "       \n",
    "        \n",
    "        print 'Cross-match of SDSS phot with J-PLUS ...'\n",
    "        d,ind = jplus.tools.crossmatch_angular(jp0['coords'],gal_sdss_coords['coords'],max_distance=3e-4)\n",
    "        m = ((d != np.inf))\n",
    "        print 'Cross-match in %ld galaxies,\\nSDSS: %ld\\nnJPLUS: %ld' % (len(m), len(gal_sdss_coords['coords']), \n",
    "                                                                        len(jp0['coords']))\n",
    "        \n",
    "        jgal = jplus.tools.select_object(jp0, m)\n",
    "\n",
    "        \n",
    "        print 'xmatch catalogue contains %ld galaxies' % len(jgal['tile_id'])\n",
    "        #jplus['in_sdss'] = m\n",
    "        # Adding SDSS magnitudes\n",
    "        jgal['rSDSS'] = gal_sdss_r_i['rSDSS'][ind[m]]\n",
    "        jgal['iSDSS'] = gal_sdss_r_i['iSDSS'][ind[m]]\n",
    "        jgal['uSDSS'] = gal_sdss_ugz['uSDSS'][ind[m]]\n",
    "        jgal['gSDSS'] = gal_sdss_ugz['gSDSS'][ind[m]]\n",
    "        jgal['zSDSS'] = gal_sdss_ugz['zSDSS'][ind[m]]\n",
    "        \n",
    "        jgal['rSDSS'][:,1] = gal_sdss_r_i_err['rSDSS'][ind[m],1]\n",
    "        jgal['iSDSS'][:,1] = gal_sdss_r_i_err['iSDSS'][ind[m],1]\n",
    "        \n",
    "        # and their errors ...\n",
    "#        jgal['rSDSS'][:,1] = gal_sdss_r_i_err['rSDSS'][:,1][ind[m]]\n",
    "#        jgal['iSDSS'][:,1] = gal_sdss_r_i_err['iSDSS'][:,1][ind[m]]\n",
    "        \n",
    "        # Now removing those datasets to save memory\n",
    "       \n",
    "        \n",
    "        nxmatch = len(jgal['rSDSS'][:,0])\n",
    "        if AddedPlots2:\n",
    "        \n",
    "            delta_r = jgal['rJAVA'][:,0] - jgal['rSDSS'][:,0]\n",
    "            delta_i = jgal['iJAVA'][:,0] - jgal['iSDSS'][:,0]\n",
    "            \n",
    "            outliers_r = np.where(np.fabs(delta_r) > .5)[0]\n",
    "            outliers_i = np.where(np.fabs(delta_i) > .5)[0]\n",
    "            \n",
    "            plt.figure('SDSSvsJ-PLUS')\n",
    "            ax = plt.subplot(gs[0,0])\n",
    "            ax.plot(jgal['rJAVA'][:,0],delta_r ,',',color='black')\n",
    "            ax.plot([16,23],[0,0],'--',color='red')\n",
    "            ax.plot([16,23],[.5,.5],'--',color='blue')\n",
    "            ax.plot([16,23],[-.5,-.5],'--',color='blue')\n",
    "            ax.set_ylim([-5,5])\n",
    "            ax.set_xlabel('rJAVA',fontsize=15)\n",
    "            ax.set_ylabel('J-PLUS - SDSS',fontsize=15)\n",
    "            ax = plt.subplot(gs[0,1])\n",
    "            ax.plot(jgal['iJAVA'][:,0], delta_i, ',',color='black')\n",
    "            ax.plot([16,23],[0,0],'--',color='red')\n",
    "            ax.plot([16,23],[.5,.5],'--',color='blue')\n",
    "            ax.plot([16,23],[-.5,-.5],'--',color='blue')\n",
    "            ax.set_ylim([-5,5])\n",
    "            ax.set_xlabel('iJAVA',fontsize=15)\n",
    "            plt.show()\n",
    "            \n",
    "            print 'fraction of outliers in rJAVA - rSDSS: %f' % (len(outliers_r)/(0. + nxmatch))\n",
    "            print 'fraction of outliers in iJAVA - iSDSS: %f' % (len(outliers_i)/(0. + nxmatch))\n",
    "        ix = 0\n",
    "        iy = 0\n",
    "\n",
    "\n",
    "\n",
    "print 'J-PLUS ELG catalogue loaded'\n",
    "\n",
    "\n",
    "\n"
   ]
  },
  {
   "cell_type": "code",
   "execution_count": 6,
   "metadata": {},
   "outputs": [
    {
     "name": "stdout",
     "output_type": "stream",
     "text": [
      "Number of clean xmatches: 797725\n",
      "Original catalogue has 1234729\n"
     ]
    }
   ],
   "source": [
    "clean_xmatch = (np.fabs(delta_r) < 2) & (np.fabs(delta_i) < 2) & (jgal['rSDSS'][:,0] < 21) & (jgal['rSDSS'][:,0] > 16) \n",
    "jplus_clean = jplus.tools.select_object(jgal, clean_xmatch)\n",
    "\n",
    "print 'Number of clean xmatches: %ld\\nOriginal catalogue has %ld' % (len(jplus_clean['tile_id']), len(jgal['tile_id']))\n",
    "\n"
   ]
  },
  {
   "cell_type": "code",
   "execution_count": 7,
   "metadata": {},
   "outputs": [
    {
     "data": {
      "image/png": "[encoded data removed]",
      "text/plain": [
       "<matplotlib.figure.Figure at 0x7f4f8055f050>"
      ]
     },
     "metadata": {},
     "output_type": "display_data"
    },
    {
     "name": "stdout",
     "output_type": "stream",
     "text": [
      "154.1079\n"
     ]
    }
   ],
   "source": [
    "plt.figure('Errors')\n",
    "\n",
    "plt.plot(jgal['rJAVA'][:,0], jgal['rSDSS'][:,1] - jgal['rJAVA'][:,1], 'k,')\n",
    "plt.xlabel('rJAVA',fontsize=20)\n",
    "plt.ylabel('rSDSS_err - rJAVA_err',fontsize=20)\n",
    "\n",
    "plt.xlim([16,22])\n",
    "plt.ylim([-.1,.1])\n",
    "plt.plot([0,30],[0,0],linewidth=5,color='yellow')\n",
    "\n",
    "plt.show()\n",
    "\n",
    "print np.max(gal_sdss_r_i_err['rSDSS'][:,1])\n",
    "\n",
    "\n"
   ]
  },
  {
   "cell_type": "code",
   "execution_count": null,
   "metadata": {},
   "outputs": [],
   "source": []
  },
  {
   "cell_type": "code",
   "execution_count": 8,
   "metadata": {},
   "outputs": [
    {
     "ename": "NameError",
     "evalue": "name 'jgal0' is not defined",
     "output_type": "error",
     "traceback": [
      "\u001b[0;31m---------------------------------------------------------------------------\u001b[0m",
      "\u001b[0;31mNameError\u001b[0m                                 Traceback (most recent call last)",
      "\u001b[0;32m<ipython-input-8-73e92dd4e03c>\u001b[0m in \u001b[0;36m<module>\u001b[0;34m()\u001b[0m\n\u001b[1;32m      5\u001b[0m \u001b[0;32mdel\u001b[0m \u001b[0mgal_sdss_r_i\u001b[0m\u001b[0;34m\u001b[0m\u001b[0m\n\u001b[1;32m      6\u001b[0m \u001b[0;32mdel\u001b[0m \u001b[0mgal_sdss_r_i_err\u001b[0m\u001b[0;34m\u001b[0m\u001b[0m\n\u001b[0;32m----> 7\u001b[0;31m \u001b[0;32mdel\u001b[0m \u001b[0mjgal0\u001b[0m\u001b[0;34m\u001b[0m\u001b[0m\n\u001b[0m",
      "\u001b[0;31mNameError\u001b[0m: name 'jgal0' is not defined"
     ]
    }
   ],
   "source": [
    "# Removing databases that are not used any further\n",
    "\n",
    "del gal_jplus0\n",
    "del jp0\n",
    "del gal_sdss_r_i\n",
    "del gal_sdss_r_i_err\n",
    "del jgal0\n"
   ]
  },
  {
   "cell_type": "code",
   "execution_count": null,
   "metadata": {},
   "outputs": [],
   "source": [
    "# Loading Lightcone galaxies\n",
    "nCone = 512\n",
    "lcone = []\n",
    "\n",
    "Mockpath = '/home/CEFCA/aaorsi/work/JPLUS_Mock/new/Lines/'\n",
    "namelc   = 'LightCone_SA_0_'\n",
    "\n",
    "print 'reading Lightcone...'\n",
    "for i in range(nCone): #nCone):\n",
    "    nameIn = '%s%s%d' % (Mockpath, namelc, i)\n",
    "    ilc = read.readmock_chunk_PythonCut(nameIn, zspace = True)\n",
    "    lcone.append(ilc[0])\n",
    "    \n",
    "dcone = np.concatenate(lcone)\n"
   ]
  },
  {
   "cell_type": "code",
   "execution_count": 9,
   "metadata": {},
   "outputs": [
    {
     "name": "stdout",
     "output_type": "stream",
     "text": [
      "[('Type', '<i4'), ('Mvir', '<f4'), ('pos', '<f4', (3,)), ('vel', '<f4', (3,)), ('sfr', '<f4'), ('sfr_inst', '<f4'), ('BulgeMass', '<f4'), ('DiskMass', '<f4'), ('Time', '<f4'), ('redshift', '<f4'), ('BlackholeMass', '<f4'), ('MetalColdGas', '<f4'), ('ColdGas', '<f4'), ('MassWeightAge', '<f4'), ('ObsMagDust', '<f4', (12,))]\n"
     ]
    }
   ],
   "source": [
    "print dcone.dtype"
   ]
  },
  {
   "cell_type": "code",
   "execution_count": 10,
   "metadata": {},
   "outputs": [
    {
     "name": "stdout",
     "output_type": "stream",
     "text": [
      "done\n"
     ]
    }
   ],
   "source": [
    "\n",
    "\n",
    "\n",
    "\n",
    "print 'done'\n",
    "\n"
   ]
  },
  {
   "cell_type": "code",
   "execution_count": null,
   "metadata": {},
   "outputs": [],
   "source": [
    "# Loading Convolved spectra\n",
    "\n",
    "import learn_elgs as learn\n",
    "tfout = '/home/CEFCA/aaorsi/work/elg_jplus/trainspec.dat'\n",
    "allspec, photo_spec = learn.LoadSample(tfout,overwrite=False, sdssxjplus=False)\n",
    "\n"
   ]
  },
  {
   "cell_type": "code",
   "execution_count": null,
   "metadata": {},
   "outputs": [],
   "source": [
    "\n",
    "\n",
    "print dcone.dtype\n",
    "\n",
    "f_j0660 = jplus.datasets.fetch_jplus_filter('J0660') # Filter transmission curve\n",
    "\n",
    "w_oii = 3727.0 # OII rest-frame\n",
    "z_oii = elg.zline(w_oii, f_j0660.wave, f_j0660.throughput)\n",
    "\n",
    "w_ha = 6563.0\n",
    "z_ha = elg.zline(w_ha, f_j0660.wave, f_j0660.throughput)\n",
    "\n",
    "w_hb = 4861.0\n",
    "z_hb = elg.zline(w_hb, f_j0660.wave, f_j0660.throughput)\n",
    "\n",
    "w_oiii = 5007.0\n",
    "z_oiii = elg.zline(w_oiii, f_j0660.wave, f_j0660.throughput)\n",
    "\n",
    "\n",
    "print z_oii\n",
    "\n"
   ]
  },
  {
   "cell_type": "code",
   "execution_count": null,
   "metadata": {
    "scrolled": false
   },
   "outputs": [],
   "source": [
    "\n",
    "from scipy.interpolate import interp1d\n",
    "\n",
    "# Shortcuts for magnitudes\n",
    "\n",
    "r_mock     = mtools.app_mag(dcone, 'rSDSS')\n",
    "g_mock     = mtools.app_mag(dcone, 'gSDSS')\n",
    "i_mock     = mtools.app_mag(dcone, 'iSDSS')\n",
    "z_mock     = mtools.app_mag(dcone, 'zSDSS')\n",
    "j0660_mock     = mtools.app_mag(dcone, 'J0660')\n",
    "j0861_mock     = mtools.app_mag(dcone, 'J0861')\n",
    "\n",
    "g_jplus = jplus_clean['gJAVA'][:,0]\n",
    "r_jplus = jplus_clean['rSDSS'][:,0]\n",
    "z_jplus = jplus_clean['zJAVA'][:,0]\n",
    "i_jplus = jplus_clean['iSDSS'][:,0]\n",
    "j0660_jplus = jplus_clean['J0660'][:,0]\n",
    "j0861_jplus = jplus_clean['J0861'][:,0]\n",
    "\n",
    "\n",
    "j0660_spec = photo_spec['J0660'][:,0]\n",
    "j0861_spec = photo_spec['J0861'][:,0]\n",
    "r_spec = photo_spec['rJAVA'][:,0]\n",
    "i_spec = photo_spec['iJAVA'][:,0]\n",
    "g_spec = photo_spec['gJAVA'][:,0]  # gJAVA, zJAVA are not fully sampled by VIMOS spectra (VVDS, VIPERS)\n",
    "z_spec = photo_spec['zJAVA'][:,0]  # gJAVA, zJAVA are not fully sampled by VIMOS spectra (VVDS, VIPERS)\n",
    "\n",
    "\n",
    "\n",
    "\n",
    "# Computing 3FM on each dataset\n",
    "print 'Computing 3FM on mocks and J-PLUS ...'\n",
    "\n",
    "dm_mocks = mtools.tfm(dcone,broad_noline='iSDSS')\n",
    "dm_jplus = mtools.gen_3fm(jplus_clean['J0660'][:,0], jplus_clean['rSDSS'][:,0], \n",
    "                          jplus_clean['iSDSS'][:,0],Broad_NoLineName='iSDSS')\n",
    "\n",
    "dm_java = mtools.gen_3fm(jplus_clean['J0660'][:,0], jplus_clean['rJAVA'][:,0], \n",
    "                          jplus_clean['iJAVA'][:,0],Broad_NoLineName='iSDSS')\n",
    "\n",
    "\n",
    "dm_spec = mtools.gen_3fm(photo_spec['J0660'][:,0], photo_spec['rJAVA'][:,0], \n",
    "                          photo_spec['iJAVA'][:,0],Broad_NoLineName='iSDSS')\n",
    "\n",
    "\n",
    "print 'done'\n",
    "\n",
    "mock_rlim = 21.3\n",
    "\n",
    "\n",
    "cond_mocks = (dm_mocks > 0.4) & (r_mock > 20)\n",
    "cond_jplus = (dm_jplus > 0.4) & (jplus_clean['rSDSS'][:,0] > 20) & (~np.isnan(dm_jplus)) & (jplus_clean['rSDSS'][:,0] < mock_rlim)\n",
    "cond_spec  = (dm_spec > 0.4) & (r_spec > 20)\n",
    "\n",
    "\n",
    "#m_ha = cond_mocks & (dcone['redshift'] > z_ha[0]) & (dcone['redshift'] < z_ha[1])\n",
    "#m_hb = cond_mocks & (dcone['redshift'] > z_hb[0]) & (dcone['redshift'] < z_hb[1])\n",
    "#m_oii = cond_mocks & (dcone['redshift'] > z_oii[0]) & (dcone['redshift'] < z_oii[1])\n",
    "#m_oiii = cond_mocks & (dcone['redshift'] > z_oiii[0]) & (dcone['redshift'] < z_oiii[1])\n",
    "\n",
    "\n",
    "plt.figure(111)\n",
    "nbins = 50\n",
    "r_arr = np.linspace(16,24,nbins)\n",
    "rbin = r_arr[1] - r_arr[0]\n",
    "pp = np.zeros(nbins)\n",
    "pp2 = np.zeros(nbins)\n",
    "plt.plot(jplus_clean['rSDSS'][:,0],dm_jplus,',', color='gray')\n",
    "\n",
    "rj = jplus_clean['rSDSS'][:,0]\n",
    "for i in range(nbins):\n",
    "    sel = np.where((rj > r_arr[i] - rbin/2. ) & (rj < r_arr[i] + rbin/2.))[0]\n",
    "    dm_r = dm_jplus[sel]\n",
    "    \n",
    "    if len(dm_r) > 0:\n",
    "        pp[i] = np.percentile(dm_jplus[sel],84.)\n",
    "        pp2[i] = np.percentile(dm_java[sel],84)\n",
    "    \n",
    "nzero = pp > 0    \n",
    "plt.plot(r_arr[nzero],pp[nzero],color='green',linewidth=5)\n",
    "plt.plot(r_arr[nzero],pp2[nzero],color='yellow',linewidth=5)\n",
    "plt.ylim([-1,1])\n",
    "plt.xlabel('rSDSS',fontsize=20)\n",
    "plt.ylabel(r'$\\Delta m$',fontsize=20)\n",
    "\n",
    "pline = interp1d(r_arr[nzero],pp[nzero])\n",
    "\n",
    "print np.max(jplus_clean['rSDSS'][:,0])\n",
    "print np.min(jplus_clean['rSDSS'][:,0])\n",
    "print r_arr[nzero]\n",
    "jplus_clean['dm'] = dm_jplus \n",
    "jplus_clean['dmsigma']  = jplus_clean['dm']/(pline(jplus_clean['rSDSS'][:,0]))\n",
    "mask = jplus_clean['dmsigma'] > 2.0\n",
    "\n",
    "elgs = jplus.tools.select_object(jplus_clean, mask)\n",
    "\n",
    "plt.plot(elgs['rSDSS'][:,0],elgs['dm'],'r.')\n",
    "\n",
    "plt.xlim([17,22.5])\n",
    "plt.ylim([-1,1])\n",
    "\n",
    "\n",
    "\n"
   ]
  },
  {
   "cell_type": "code",
   "execution_count": null,
   "metadata": {},
   "outputs": [],
   "source": [
    "# Computing errors in the 3FM\n",
    "\n",
    "reload(mtools)\n",
    "\n",
    "\n",
    "# Error from propagation:\n",
    "err_dm_jplus = mtools.gen_3fm_err(jplus_clean['J0660'][:,0], jplus_clean['J0660'][:,1], jplus_clean['rSDSS'][:,0], jplus_clean['rSDSS'][:,1], \n",
    "                          jplus_clean['iSDSS'][:,0], jplus_clean['iSDSS'][:,1],Broad_NoLineName='iSDSS')\n",
    "\n",
    "\n",
    "# Error from Monte-Carlo:\n",
    "\n",
    "\n",
    "\n",
    "Nsamp = 30\n",
    "Niter = 10\n",
    "\n",
    "\n",
    "shuff_ind = np.random.permutation(range(len(jplus_clean['J0660'][:,0])))[0:Nsamp]\n",
    "err_MC = np.zeros(Nsamp)\n",
    "print 'running MC ...'\n",
    "for i in range(Nsamp):\n",
    "    idd = shuff_ind[i]\n",
    "    _j0660 = jplus_clean['J0660'][idd,:]\n",
    "    _r     = jplus_clean['rSDSS'][idd,:]\n",
    "    _i     = jplus_clean['iSDSS'][idd,:]\n",
    "    \n",
    "    err_MC[i] = np.std([mtools.gen_3fm(_j0660[0]+ np.random.normal(0,_j0660[1]), _r[0] + np.random.normal(0,_r[1]), \n",
    "                          _i[0] + np.random.normal(0,_i[1]),Broad_NoLineName='iSDSS') for j in range(Niter)])\n",
    "    \n",
    "        \n",
    "    if i%10 == 0:\n",
    "        print '%.1f percent done' % (float(i)/Nsamp*100)\n",
    "        \n",
    "print 'done!'\n",
    "plt.figure('Errors in delta-m')\n",
    "\n",
    "#plt.plot(jplus_clean['rSDSS'][shuff_ind,0], err_dm_jplus[shuff_ind],'.', color='black',label='Error propagation')\n",
    "plt.plot(jplus_clean['rSDSS'][shuff_ind,0], err_MC,'.', color='red',label='STD of MC runs')\n",
    "plt.legend(loc='upper left',fontsize=20)\n",
    "\n",
    "print err_dm_jplus[shuff_ind]\n",
    "print err_MC\n",
    "plt.show()\n",
    "        \n",
    "\n",
    "\n",
    "\n",
    "\n"
   ]
  },
  {
   "cell_type": "code",
   "execution_count": 64,
   "metadata": {},
   "outputs": [
    {
     "name": "stdout",
     "output_type": "stream",
     "text": [
      "6.06947995556e-19\n",
      "5.57764798626e-19\n",
      "1.77437185916e-18\n",
      "2.83331883119e-16\n",
      "d_a  -1090.48913958\n",
      "Err_cont :0.000000\n",
      "ErrM: 0.000000 ErrN: 0.000000\n",
      "Err mags: 1.004849 1.374521\n",
      "1.00714204981\n"
     ]
    }
   ],
   "source": [
    "reload(mtools)\n",
    "\n",
    "err_dm_jplus = mtools.gen_3fm_err(jplus_clean['J0660'][23,0], jplus_clean['J0660'][23,1], jplus_clean['rSDSS'][23,0], jplus_clean['rSDSS'][23,1], \n",
    "                          jplus_clean['iSDSS'][23,0], jplus_clean['iSDSS'][23,1],Broad_NoLineName='iSDSS')\n",
    "\n",
    "\n",
    "print err_dm_jplus\n"
   ]
  },
  {
   "cell_type": "code",
   "execution_count": 60,
   "metadata": {},
   "outputs": [
    {
     "name": "stdout",
     "output_type": "stream",
     "text": [
      "2\n"
     ]
    }
   ],
   "source": [
    "print 1222%10\n"
   ]
  },
  {
   "cell_type": "code",
   "execution_count": null,
   "metadata": {},
   "outputs": [],
   "source": [
    "\n",
    "\n",
    "plt.figure(111)\n",
    "nbins = 50\n",
    "r_arr = np.linspace(16,24,nbins)\n",
    "rbin = r_arr[1] - r_arr[0]\n",
    "pp = np.zeros(nbins)\n",
    "plt.plot(jplus_clean['rSDSS'][:,0],dm_jplus,',', color='gray')\n",
    "\n",
    "rj = jplus_clean['rJAVA'][:,0]\n",
    "for i in range(nbins):\n",
    "    sel = np.where((rj > r_arr[i] - rbin/2. ) & (rj < r_arr[i] + rbin/2.))[0]\n",
    "    dm_r = dm_jplus[sel]\n",
    "    if len(dm_r > 10):\n",
    "        pp[i] = np.percentile(dm_r,99.)\n",
    "    \n",
    "nzero = pp > 0    \n",
    "plt.plot(r_arr[nzero],pp[nzero],color='green',linewidth=5)\n",
    "plt.ylim([-2,2])\n",
    "plt.xlabel('rJAVA',fontsize=20)\n",
    "plt.ylabel(r'$\\Delta m$',fontsize=20)\n",
    "\n",
    "pline = interp1d(r_arr[nzero],pp[nzero])\n",
    "\n",
    "print np.max(jplus_clean['rSDSS'][:,0])\n",
    "print np.min(jplus_clean['rSDSS'][:,0])\n",
    "jplus_clean['dm'] = dm_jplus \n",
    "jplus_clean['dmsigma']  = jplus_clean['dm']/(pline(jplus_clean['rSDSS'][:,0]))\n",
    "mask = jplus_clean['dmsigma'] > 1.0\n",
    "\n",
    "elgs = jplus.tools.select_object(jplus_clean, mask)\n",
    "\n",
    "plt.plot(elgs['rSDSS'][:,0],elgs['dm'],'r.')\n",
    "\n",
    "plt.xlim([17,22.5])\n",
    "plt.ylim([-1,1])\n"
   ]
  },
  {
   "cell_type": "code",
   "execution_count": null,
   "metadata": {},
   "outputs": [],
   "source": [
    "# Find Outliers with huge flux excess in J0660\n",
    "\n",
    "bright = np.where((jplus_clean['dmsigma'] > 1.0) & (jplus_clean['rSDSS'][:,0] < 19))[0]\n",
    "print bright\n",
    "\n",
    "for b in bright:\n",
    "    print b\n",
    "    gal = jplus_clean\n",
    "    print \"http://upad.cefca.es/catalogues/jplus-v02/object_query.html?image=%s&number=%s\"%(str(np.int(gal['tile_id'][b])),str(np.int(gal['object_id'][b])))\n",
    "    #print gal['coords'][b]\n",
    "    #print gal[]\n",
    "    ##jplus.tools.inspect_object(jplus.tools.select_object(gal_elgs,b))\n",
    "\n"
   ]
  },
  {
   "cell_type": "code",
   "execution_count": null,
   "metadata": {},
   "outputs": [],
   "source": []
  },
  {
   "cell_type": "code",
   "execution_count": null,
   "metadata": {},
   "outputs": [],
   "source": []
  },
  {
   "cell_type": "code",
   "execution_count": null,
   "metadata": {},
   "outputs": [],
   "source": [
    "# Cross-match with ALHAMBRA catalogue\n",
    "\n",
    "print 'Reading and performing cross-match with ALHAMBRA objects'\n",
    "import deepdish as dd\n",
    "AlhambraFile = '/home/CEFCA/aaorsi/work/alhambra/Alhambra.hdf5'\n",
    "\n",
    "alh = dd.io.load(AlhambraFile)\n",
    "print alh.keys()\n",
    "\n",
    "\n",
    "alh_d,alh_ind = jplus.tools.crossmatch_angular(jplus_clean['coords'],alh['coords'],max_distance=3e-4)\n",
    "alh_m = ((alh_d != np.inf))\n",
    "\n",
    "jp_alh = jplus.tools.select_object(jplus_clean, alh_m)\n",
    "\n",
    "\n",
    "print 'Cross match between Alhambra and J-PLUS results in %ld objects' % len(jp_alh['tile_id'])\n",
    "\n",
    "# Cross match with ELG selection.... \n",
    "alh_d2, alh_ind2 = jplus.tools.crossmatch_angular(elgs['coords'],alh['coords'], max_distance=3e-4)\n",
    "mask = ((alh_d2 != np.inf))\n",
    "\n",
    "elg_xalha = jplus.tools.select_object(elgs, mask)\n",
    "alha_xelg = jplus.tools.select_object(alh, alh_ind2[mask])\n",
    "\n",
    "\n",
    "\n",
    "elg_xalha['zphoto'] = alha_xelg['zphoto']\n",
    "\n",
    "# z_elgs_alh = zph_alh[alh_ind2[alh_m2]]\n",
    "# dm_alh = dm_jplus[alh_m2]\n",
    "# jp_alh2['dm'] = dm_alh\n",
    "#jp_alh2['z'] = z_elgs_alh\n",
    "\n",
    "# alh_cstar = np.asarray(alh['cstar'])\n",
    "# jp_alh2['alh_cstar'] = alh_cstar[alh_ind2[alh_m2]]\n",
    "\n",
    "print 'Cross match between Alhambra and J-PLUS ELGs results in %ld objects' % len(elg_xalha['tile_id'])\n",
    "#alh.keys()\n"
   ]
  },
  {
   "cell_type": "code",
   "execution_count": null,
   "metadata": {},
   "outputs": [],
   "source": []
  },
  {
   "cell_type": "code",
   "execution_count": null,
   "metadata": {},
   "outputs": [],
   "source": [
    "\n",
    "for b in range(len(elg_xalha['tile_id'])):\n",
    "    print \"http://upad.cefca.es/catalogues/jplus-v02/object_query.html?image=%s&number=%s\"%(str(np.int(elg_xalha['tile_id'][b])),str(np.int(elg_xalha['object_id'][b])))\n",
    "    print \"Redshift in Alhambra {0}\".format(elg_xalha['zphoto'][b])\n",
    "    print \"CSTAR in Alhambra {0}, in JPLUS {1}\".format(alha_xelg['cstar'][b], elg_xalha['cstar'][b])\n",
    "    print elg_xalha['coords']\n",
    "    \n",
    "plt.figure()\n",
    "plt.hist(elg_xalha['zphoto'], bins=100)\n",
    "plt.show()"
   ]
  },
  {
   "cell_type": "code",
   "execution_count": null,
   "metadata": {},
   "outputs": [],
   "source": [
    "jp_alh2['in_sdss']\n",
    "import strings \n",
    "alhambra_flist = [u'F365W',\n",
    " u'F396W',\n",
    " u'F427W',\n",
    " u'F458W',\n",
    " u'F489W',\n",
    " u'F520W',\n",
    " u'F551W',\n",
    " u'F582W',\n",
    " u'F613W',\n",
    " u'F644W',\n",
    " u'F675W',\n",
    " u'F706W',\n",
    " u'F737W',\n",
    " u'F768W',\n",
    " u'F799W',\n",
    " u'F814W',\n",
    " u'F830W',\n",
    " u'F861W',\n",
    " u'F892W',\n",
    " u'F923W',\n",
    " u'F954W']\n",
    "\n",
    "nfilt = len(alhambra_flist)\n",
    "\n",
    "w_alhambra = np.zeros(nfilt)\n",
    "for i in range(nfilt):\n",
    "    w_alhambra[i] = str.\n",
    "\n"
   ]
  },
  {
   "cell_type": "code",
   "execution_count": null,
   "metadata": {
    "scrolled": false
   },
   "outputs": [],
   "source": [
    "\n",
    "plt.figure(666)\n",
    "plt.hist(z_jp_alh,bins=100)\n",
    "plt.xlabel('redshift',fontsize=20)\n",
    "plt.title('redshift distribution of Alhambra galaxies in J-PLUS',fontsize=25)\n",
    "\n",
    "\n",
    "cmap = plt.cm.Reds(np.linspace(0.25,0.99,len(z_jp_alh)))\n",
    "\n",
    "plt.figure(667)\n",
    "plt.scatter(jp_alh['rJAVA'][:,0], f814_alh[alh_ind[alh_m]], c=z_jp_alh,cmap=plt.cm.Reds)\n",
    "plt.colorbar()\n",
    "plt.xlabel('rJAVA', fontsize=20)\n",
    "plt.ylabel('F814W',fontsize=20)\n",
    "\n",
    "\n",
    "sel = (jp_alh2['alh_cstar'] < 0.3) & (dm_alh > 0.4)\n",
    "\n",
    "#######\n",
    "\n",
    "plt.figure(668)\n",
    "plt.hist(z_elgs_alh[sel],bins=100)\n",
    "plt.xlabel('redshift',fontsize=20)\n",
    "plt.title('redshift distribution of Alhambra galaxies in J-PLUS ELG candidates',fontsize=25)\n",
    "\n",
    "\n",
    "plt.figure(669)\n",
    "plt.plot(dm_alh,z_elgs_alh,'o')\n",
    "plt.xlabel(r'$\\Delta m$',fontsize=20)\n",
    "plt.ylabel(r'redshift',fontsize=20)\n",
    "\n",
    "\n",
    "ha_jp = (z_elgs_alh >= z_ha[0]) & (z_elgs_alh <= z_ha[1])\n",
    "hb_jp = (z_elgs_alh >= z_hb[0]) & (z_elgs_alh <= z_hb[1])\n",
    "oiii_jp = (z_elgs_alh >= z_oiii[0]) & (z_elgs_alh <= z_oiii[1])\n",
    "oii_jp = (z_elgs_alh >= z_oii[0]) & (z_elgs_alh <= z_oii[1])\n",
    "\n",
    "print z_ha\n",
    "print ha_jp\n",
    "print z_oii\n",
    "print oii_jp\n",
    "print z_oiii\n",
    "print oiii_jp\n",
    "print z_elgs_alh\n",
    "\n",
    "plt.figure(670)\n",
    "\n",
    "plt.plot(g_jplus[alh_m2] - r_jplus[alh_m2], r_jplus[alh_m2]-z_jplus[alh_m2],'.',color='darkgray')\n",
    "\n",
    "plt.plot(jp_alh2['gJAVA'][ha_jp,0] - jp_alh2['rJAVA'][ha_jp,0], \n",
    "         jp_alh2['rJAVA'][ha_jp,0]-jp_alh2['zJAVA'][ha_jp,0],\n",
    "         'o',color='red',label=r'$H\\alpha\\lambda 6562')\n",
    "\n",
    "plt.plot(jp_alh2['gJAVA'][oii_jp,0] - jp_alh2['rJAVA'][oii_jp,0], \n",
    "         jp_alh2['rJAVA'][oii_jp,0]-jp_alh2['zJAVA'][oii_jp,0],\n",
    "         'o',color='blue',label=r'$[OII]\\lambda 3727')\n",
    "\n",
    "plt.plot(jp_alh2['gJAVA'][hb_jp,0] - jp_alh2['rJAVA'][hb_jp,0], \n",
    "         jp_alh2['rJAVA'][hb_jp,0]-jp_alh2['zJAVA'][hb_jp,0],\n",
    "         'o',color='green',label=r'$H\\beta\\lambda 4861')\n",
    "\n",
    "\n",
    "plt.plot(jp_alh2['gJAVA'][oiii_jp,0] - jp_alh2['rJAVA'][oiii_jp,0], \n",
    "         jp_alh2['rJAVA'][oiii_jp,0]-jp_alh2['zJAVA'][oiii_jp,0],\n",
    "         'o',color='magenta',label=r'$[OIII] \\lambda 5007')\n",
    "\n",
    "\n",
    "plt.xlabel(r'$g - r$',fontsize=20)\n",
    "plt.ylabel(r'$r - z$',fontsize=20)\n",
    "plt.xlim([0,3])\n",
    "plt.ylim([-1,3])\n",
    "\n",
    "plt.legend()\n",
    "\n"
   ]
  },
  {
   "cell_type": "code",
   "execution_count": null,
   "metadata": {},
   "outputs": [],
   "source": [
    "# Find Outliers in cross match with ALHAMBRA\n",
    "\n",
    "#bright = np.where((z_jp_alh > 2) & (jp_alh['rJAVA'][:,0] < 20))[0]\n",
    "bright = np.arange(len(jp_alh2['tile_id']))\n",
    "print bright\n",
    "\n",
    "for b in bright:\n",
    "    gal = jp_alh2\n",
    "    print \"http://upad.cefca.es/catalogues/jplus-v02/object_query.html?image=%s&number=%s\"%(str(np.int(gal['tile_id'][b])),str(np.int(gal['object_id'][b])))\n",
    "    print gal['coords'][b]\n",
    "    print gal['dm'][b]\n",
    "    print gal['z_alh'][b]\n",
    "    print gal['alh_cstar'][b]\n",
    "    print gal['in_sdss'][b]\n",
    "    \n",
    "    #jplus.tools.inspect_object(jplus.tools.select_object(gal,b))\n"
   ]
  },
  {
   "cell_type": "code",
   "execution_count": null,
   "metadata": {
    "collapsed": true
   },
   "outputs": [],
   "source": [
    "# Compare Alhambra and J-PLUS photometry\n",
    "\n",
    "\n",
    "\n"
   ]
  },
  {
   "cell_type": "code",
   "execution_count": null,
   "metadata": {
    "collapsed": true,
    "scrolled": false
   },
   "outputs": [],
   "source": [
    "print photo_spec.keys()\n",
    "\n",
    "plt.figure(4)\n",
    "\n",
    "dm_bins = np.arange(0.4, 3., 0.05)\n",
    "\n",
    "plt.hist(dm_spec[cond_spec],bins=dm_bins, label='spectroscopy', normed=True, alpha=0.75)\n",
    "plt.hist(dm_mocks[cond_mocks],dm_bins,normed=True,facecolor='green',label='Mocks', alpha=0.75)\n",
    "plt.hist(dm_jplus[cond_jplus],dm_bins,normed=True,facecolor='red',alpha=0.35,label='J-PLUS', log=True)\n",
    "plt.xlim([0,3])\n",
    "plt.ylim([1e-2, 2e1])\n",
    "plt.xlabel(r'$\\Delta m$', fontsize=20)\n",
    "plt.legend(loc='upper right', fontsize=20)\n",
    "\n",
    "\n",
    "plt.figure(5)\n",
    "plt.plot(r_jplus[cond_jplus]-j0660_jplus[cond_jplus],i_jplus[cond_jplus]-j0660_jplus[cond_jplus],',',color='green', label='J-PLUS')\n",
    "plt.plot(r_mock[cond_mocks]-j0660_mock[cond_mocks],i_mock[cond_mocks]-j0660_mock[cond_mocks],'.',color='blue', label='Lightcone')\n",
    "plt.plot(r_spec[cond_spec]-j0660_spec[cond_spec],i_spec[cond_spec]-j0660_spec[cond_spec],'.',color='magenta',label='Spectra')\n",
    "\n",
    "plt.xlabel('r-j0660',fontsize=20)\n",
    "plt.ylabel('i-j0660',fontsize=20)\n",
    "plt.legend(fontsize=20)\n",
    "\n",
    "\n",
    "plt.figure(6)\n",
    "\n",
    "plt.plot(r_jplus[cond_jplus],i_jplus[cond_jplus],',',color='green')\n",
    "plt.plot(r_mock[cond_mocks],i_mock[cond_mocks],'.',color='blue')\n",
    "plt.plot(r_spec[cond_spec],i_spec[cond_spec],'.',color='magenta')\n",
    "\n",
    "plt.figure(8)\n",
    "\n",
    "plt.plot(r_jplus[cond_jplus]-i_jplus[cond_jplus],j0660_jplus[cond_jplus]-j0861_jplus[cond_jplus],',',color='green', label='J-PLUS')\n",
    "plt.plot(r_mock[cond_mocks]-i_mock[cond_mocks],j0660_mock[cond_mocks]-j0861_mock[cond_mocks],'.',color='blue', label='Mock')\n",
    "plt.plot(r_spec[cond_spec]-i_spec[cond_spec],j0660_spec[cond_spec]-j0861_spec[cond_spec],'.',color='magenta',label='Spectra')\n",
    "\n",
    "#plt.plot(r_mock[m_ha]-i_mock[m_ha],j0660_mock[m_ha]-j0861_mock[m_ha],'o',color='black', label=r'$H\\alpha~{\\rm Mock}$')\n",
    "#plt.plot(r_mock[m_hb]-i_mock[m_hb],j0660_mock[m_hb]-j0861_mock[m_hb],'o',color='darkgray', label=r'$H\\beta~{\\rm Mock}$')\n",
    "#plt.plot(r_mock[m_oii]-i_mock[m_oii],j0660_mock[m_oii]-j0861_mock[m_oii],'o',color='lightgray', label=r'[O \\textsc{ii}] Mock')\n",
    "plt.xlabel('r - i',fontsize=20)\n",
    "plt.ylabel('J0660 - J0861',fontsize=20)\n",
    "plt.xlim([-0.5,2])\n",
    "plt.ylim([-3,2])\n",
    "plt.legend()\n",
    "\n",
    "plt.figure(9)\n",
    "\n",
    "plt.plot(r_jplus[cond_jplus],j0660_jplus[cond_jplus]-j0861_jplus[cond_jplus],',',color='green', label='J-PLUS')\n",
    "plt.plot(r_mock[cond_mocks],j0660_mock[cond_mocks]-j0861_mock[cond_mocks],'.',color='blue', label='Mock')\n",
    "plt.plot(r_spec[cond_spec],j0660_spec[cond_spec]-j0861_spec[cond_spec],'.',color='magenta',label='Spectra')\n",
    "plt.xlabel('r ',fontsize=20)\n",
    "plt.ylabel('J0660 - J0861',fontsize=20)\n",
    "plt.xlim([20,22])\n",
    "plt.ylim([-3,2])\n",
    "plt.legend()\n",
    "\n"
   ]
  },
  {
   "cell_type": "code",
   "execution_count": null,
   "metadata": {
    "collapsed": true,
    "scrolled": true
   },
   "outputs": [],
   "source": [
    "len(allspec)"
   ]
  },
  {
   "cell_type": "code",
   "execution_count": null,
   "metadata": {
    "collapsed": true
   },
   "outputs": [],
   "source": [
    "      \n"
   ]
  },
  {
   "cell_type": "code",
   "execution_count": null,
   "metadata": {
    "collapsed": true
   },
   "outputs": [],
   "source": []
  },
  {
   "cell_type": "code",
   "execution_count": null,
   "metadata": {
    "collapsed": true
   },
   "outputs": [],
   "source": [
    "# Test on EDR\n",
    "\n",
    "\n",
    "\n",
    "UseSDSSPhot = True # Use SDSS BB photometry instead of J-PLUS?\n",
    "AddedPlots = True\n",
    "\n",
    "\n",
    "plt.figure('PlotSDSSPhotometry_EDAM')\n",
    "import matplotlib.gridspec as gsc\n",
    "gs = gsc.GridSpec(3,2)\n",
    "gs.update(wspace=0.0, hspace=0.0)\n",
    "\n",
    "mag_excess = \"AND (m.MAG_APER_3_0[jplus::rSDSS]- m.MAG_APER_3_0[jplus::J0660]) > 0\"\n",
    "gal_jplus = jplus.datasets.fetch_jplus_stars(mag_type=\"aper6Mags\", overwrite=False, \n",
    "                                                 mag_limit=[16,21],\n",
    "                                                db='edr')\n",
    "    \n",
    "if UseSDSSPhot:\n",
    "    gal_sdss  = jplus.datasets.fetch_sdss_stars(mag_type=\"modelMags\",overwrite=False,mag_limit=[16,24],nchunks=10)\n",
    "    print 'Replacing J-PUS BBs with SDSS BBs...'\n",
    "    d2,ind2 = jplus.tools.crossmatch_angular(gal_jplus['coords'],gal_sdss['coords'],max_distance=3e-4)\n",
    "    m2 = ((d2 != np.inf))\n",
    "   \n",
    "#    plt.figure(99)\n",
    "#    plt.plot(gal_jplus['rJAVA'][m2,0] - gal_jplus['iJAVA'][m2,0],\n",
    "#             gal_sdss['rSDSS'][ind2[m2],0] - gal_sdss['iSDSS'][ind2[m2],0],',')\n",
    "#    plt.xlim([-2,2])\n",
    "#    plt.ylim([-2,2])\n",
    "#    plt.plot([-2,2],[-2,2],'--')\n",
    "#    plt.show()\n",
    "\n",
    "    ix = 0\n",
    "    iy = 0\n",
    "    for f_jplus, f_sdss in zip(jplus.datasets.jplus_filter_names(only_bb = True), jplus.datasets.sdss_filter_names()):\n",
    "        if AddedPlots:\n",
    "            ax = plt.subplot(gs[ix,iy]) \n",
    "            print f_jplus, f_sdss\n",
    "            ax.plot(gal_jplus[f_jplus][m2,0][0::5], \n",
    "                gal_sdss[f_sdss][ind2[m2],0][0::5]-gal_jplus[f_jplus][m2,0][0::5],'.',\n",
    "                color='black')\n",
    "            ax.text(0.15,0.75,f_jplus,transform=ax.transAxes,fontsize=18)\n",
    "            ax.set_xlim([16.1,23])\n",
    "            ax.set_ylim([-.5,.5])\n",
    "            ax.plot([16,23],[0,0],'--',color='black')\n",
    "            if iy >0:\n",
    "                ax.set_yticklabels([])\n",
    "                \n",
    "            ix += 1                \n",
    "            if ix == 3:\n",
    "                iy += 1\n",
    "                ix = 0\n",
    "                    \n",
    "            plt.draw()    \n",
    "      \n",
    "        gal_jplus[f_jplus][m2,:] = gal_sdss[f_sdss][ind2[m2],:]\n",
    "        \n",
    "    print 'Done replacing filters'\n",
    "\n",
    "\n"
   ]
  },
  {
   "cell_type": "code",
   "execution_count": null,
   "metadata": {
    "collapsed": true
   },
   "outputs": [],
   "source": []
  }
 ],
 "metadata": {
  "anaconda-cloud": {},
  "kernelspec": {
   "display_name": "Python 2",
   "language": "python",
   "name": "python2"
  },
  "language_info": {
   "codemirror_mode": {
    "name": "ipython",
    "version": 2
   },
   "file_extension": ".py",
   "mimetype": "text/x-python",
   "name": "python",
   "nbconvert_exporter": "python",
   "pygments_lexer": "ipython2",
   "version": "2.7.13"
  }
 },
 "nbformat": 4,
 "nbformat_minor": 2
}
