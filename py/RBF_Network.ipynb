{
 "cells": [
  {
   "cell_type": "markdown",
   "metadata": {},
   "source": [
    "# Here I implement Radial Basis Function Networks"
   ]
  },
  {
   "cell_type": "code",
   "execution_count": 87,
   "metadata": {},
   "outputs": [],
   "source": [
    "# This is taken from \n",
    "# http://www.rueckstiess.net/research/snippets/show/72d2363e\n",
    "# and modified subsequently to allow for the Least Squares algorithm to build the hidden layer.\n",
    "\n",
    "#from scipy import *\n",
    "from scipy.linalg import norm, pinv\n",
    "from matplotlib import pyplot as plt\n",
    "import numpy as np\n",
    "\n",
    "class RBF:\n",
    "     \n",
    "    def __init__(self, indim, centers, betas, outdim,):\n",
    "        self.indim = indim\n",
    "        self.outdim = outdim\n",
    "        numCenters = len(centers)\n",
    "        if numCenters != len(betas):\n",
    "            print 'number of centers and betas must be the same.'\n",
    "#        self.numCenters = numCenters\n",
    "        self.numCenters = numCenters\n",
    "#        self.centers = [random.uniform(-1, 1, indim) for i in xrange(numCenters)]\n",
    "        self.centers = centers\n",
    "        self.beta    = betas\n",
    "#        self.beta = 8\n",
    "        self.W = np.random.rand(self.numCenters, self.outdim)\n",
    "         \n",
    "    def _basisfunc(self, c, d, bval):\n",
    "        assert len(d) == self.indim\n",
    "        return np.exp(-1 * norm(bval*(c-d)**2))\n",
    "      \n",
    "     \n",
    "    def _calcAct(self, X):\n",
    "        # calculate activations of RBFs\n",
    "#        G = np.zeros((np.array(X).shape[0], self.numCenters), float)\n",
    "        G = np.zeros([len(X), self.numCenters])\n",
    "        for ci, c in enumerate(self.centers):\n",
    "            beta_ci = self.beta[ci]\n",
    "            for xi, x in enumerate(X):\n",
    "                G[xi,ci] = self._basisfunc(c, x, beta_ci)\n",
    "        return G\n",
    "     \n",
    "    def train(self, X, Y):\n",
    "        \"\"\" X: matrix of dimensions n x indim \n",
    "            y: column vector of dimension n x 1\n",
    "            idx: indices of training set objects acting as prototypes \"\"\"\n",
    "         \n",
    "        # choose random center vectors from training set\n",
    "        #rnd_idx = random.permutation(X.shape[0])[:self.numCenters]\n",
    "        #self.centers = [X[i,:] for i in rnd_idx]\n",
    "        #self.centers = [X[i,:] for i in idx] \n",
    "        #print \"center\", self.centers\n",
    "        # calculate activations of RBFs\n",
    "        G = self._calcAct(X)\n",
    "        print G\n",
    "         \n",
    "        # calculate output weights (pseudoinverse)\n",
    "        self.W = np.dot(pinv(G), Y)\n",
    "         \n",
    "    def test(self, X):\n",
    "        \"\"\" X: matrix of dimensions n x indim \"\"\"\n",
    "         \n",
    "        G = self._calcAct(X)\n",
    "        Y = np.dot(G, self.W)\n",
    "        return Y\n",
    " \n",
    " \n"
   ]
  },
  {
   "cell_type": "code",
   "execution_count": 88,
   "metadata": {},
   "outputs": [
    {
     "name": "stdout",
     "output_type": "stream",
     "text": [
      "['rSDSS', 'iSDSS', 'obj', 'gSDSS', 'J0395', 'zSDSS', 'J0378', 'J0430', 'uSDSS', 'dm_j0660', 'J0660', 'J0410', 'J0515', 'J0861', 'class']\n",
      "All colours: 10\n",
      "['dm_j0660', 'J0378', 'J0395', 'J0410', 'J0430', 'J0515', 'J0660', 'J0861', 'uSDSS', 'gSDSS', 'rSDSS', 'iSDSS', 'zSDSS', 'uSDSS - gSDSS', 'uSDSS - rSDSS', 'uSDSS - iSDSS', 'uSDSS - zSDSS', 'gSDSS - rSDSS', 'gSDSS - iSDSS', 'gSDSS - zSDSS', 'rSDSS - iSDSS', 'rSDSS - zSDSS', 'iSDSS - zSDSS'] 23\n"
     ]
    }
   ],
   "source": [
    "#load databases\n",
    "#DataDir = './data/'\n",
    "DataDir = '.'\n",
    "import pickle\n",
    "dset = pickle.load(open('%s/training_full.data'%DataDir))\n",
    "print dset.keys()\n",
    "\n",
    "\n",
    "featnames = ['dm_j0660','J0378','J0395','J0410','J0430','J0515',\n",
    "             'J0660','J0861','uSDSS','gSDSS','rSDSS','iSDSS','zSDSS']\n",
    "\n",
    "ntrain = len(dset['obj'])\n",
    "feat_arr = []\n",
    "err_arr = []\n",
    "import itertools\n",
    "\n",
    "colfeats = ['uSDSS','gSDSS','rSDSS','iSDSS','zSDSS']\n",
    "\n",
    "terms = colfeats # create all colour combinations\n",
    "nterms = len(terms)\n",
    "ncomb = int(nterms*(nterms-1)/2.)\n",
    "print 'All colours:', ncomb\n",
    "comb = list(itertools.combinations(terms,2))\n",
    "lcomb = list(comb)\n",
    "colournames = ['%s - %s'%(x[0], x[1]) for x in list(comb)]\n",
    "\n",
    "for x in range(ntrain):\n",
    "    fx = []\n",
    "    ex = []\n",
    "    for y in featnames:\n",
    "        fx.append(dset[y][x,0])\n",
    "        ex.append(dset[y][x,1])\n",
    "    for z in range(ncomb):\n",
    "        fx.append(dset[lcomb[z][0]][x,0] - dset[lcomb[z][1]][x,0])\n",
    "        ex.append(np.sqrt((dset[lcomb[z][0]][x,1])**2 + (dset[lcomb[z][1]][x,1])**2))\n",
    "    \n",
    "    feat_arr.append(fx)\n",
    "    err_arr.append(ex)\n",
    "class_arr = dset['class']\n",
    "featnames += colournames\n",
    "print featnames, len(featnames)\n",
    "nfeat = len(featnames)\n",
    "\n"
   ]
  },
  {
   "cell_type": "code",
   "execution_count": 89,
   "metadata": {},
   "outputs": [
    {
     "name": "stdout",
     "output_type": "stream",
     "text": [
      "scaling data... done\n",
      "[[5.25298794e-02 4.35289026e-01 3.27869612e-04 ... 1.60234123e-01\n",
      "  9.03021032e-08 1.15942836e-04]\n",
      " [4.79513497e-01 4.37465120e-01 2.27866256e-02 ... 3.36155067e-01\n",
      "  2.50722033e-03 3.64846613e-01]\n",
      " [2.21052855e-01 3.12859859e-01 1.25934180e-02 ... 2.60498658e-01\n",
      "  3.42272847e-01 1.26128412e-01]\n",
      " ...\n",
      " [5.85889347e-01 2.91704683e-01 8.29542320e-02 ... 1.34150075e-02\n",
      "  6.37380527e-13 2.12435927e-02]\n",
      " [6.23096252e-01 6.97661681e-01 1.54634346e-01 ... 2.40135532e-01\n",
      "  1.58722580e-06 1.12129762e-01]\n",
      " [4.58814981e-01 4.21382797e-01 2.11972654e-01 ... 2.69718786e-01\n",
      "  1.27934293e-04 5.07625907e-01]]\n"
     ]
    }
   ],
   "source": [
    "\n",
    "Xt = feat_arr\n",
    "y  = dset['class']\n",
    "def class_to_int(istr):\n",
    "    if istr == 'Halpha':\n",
    "        return 0\n",
    "    elif istr == 'OIII+Hbeta':\n",
    "        return 1\n",
    "    if istr == 'OII':\n",
    "        return 2\n",
    "    elif istr == 'contaminant':\n",
    "        return 3\n",
    "    else:\n",
    "        print '%s not recognised'%istr\n",
    "        return -99\n",
    "\n",
    "\n",
    "y_train_int = [class_to_int(x) for x in y]\n",
    "\n",
    "from sklearn.preprocessing import StandardScaler \n",
    "Scaledata = True\n",
    "if Scaledata:\n",
    "    print 'scaling data...',\n",
    "    scaler = StandardScaler()\n",
    "    scaler.fit(Xt)\n",
    "    Xt = scaler.transform(Xt)\n",
    "    #x_test  = scaler.transform(x_test)\n",
    "    print 'done'\n",
    "\n",
    "\n",
    "\n",
    "# Choose prototypes\n",
    "\n",
    "idarr = np.random.permutation(np.arange(0,ntrain))[0:100]\n",
    "mu_arr = np.array(Xt)[idarr]\n",
    "beta_arr = np.array(err_arr)[idarr]\n",
    "outdim = len(np.unique(y_train_int))\n",
    "\n",
    "\n",
    "rbf = RBF(nfeat,mu_arr,beta_arr,outdim)\n",
    "rbf.train(Xt,y_train_int)\n",
    "z = rbf.test(Xt)\n",
    "    \n",
    "    "
   ]
  },
  {
   "cell_type": "code",
   "execution_count": 91,
   "metadata": {},
   "outputs": [
    {
     "name": "stdout",
     "output_type": "stream",
     "text": [
      "Error rate 0.13315579227696406\n"
     ]
    }
   ],
   "source": [
    "pred = [np.round(x) for x in z]\n",
    "gt3 = pred >3\n",
    "pred[gt3] = 3 # those that were rounded to 4 are set to 3\n",
    "\n",
    "from sklearn.metrics import accuracy_score\n",
    "err = 1 - accuracy_score(y_train_int, pred)\n",
    "print 'Error rate', err\n",
    "\n"
   ]
  },
  {
   "cell_type": "code",
   "execution_count": 57,
   "metadata": {},
   "outputs": [
    {
     "name": "stdout",
     "output_type": "stream",
     "text": [
      "> \u001b[0;32m<ipython-input-55-d1536fa401d1>\u001b[0m(40)\u001b[0;36m_calcAct\u001b[0;34m()\u001b[0m\n",
      "\u001b[0;32m     38 \u001b[0;31m        \u001b[0;32mfor\u001b[0m \u001b[0mci\u001b[0m\u001b[0;34m,\u001b[0m \u001b[0mc\u001b[0m \u001b[0;32min\u001b[0m \u001b[0menumerate\u001b[0m\u001b[0;34m(\u001b[0m\u001b[0mself\u001b[0m\u001b[0;34m.\u001b[0m\u001b[0mcenters\u001b[0m\u001b[0;34m)\u001b[0m\u001b[0;34m:\u001b[0m\u001b[0;34m\u001b[0m\u001b[0m\n",
      "\u001b[0m\u001b[0;32m     39 \u001b[0;31m            \u001b[0;32mfor\u001b[0m \u001b[0mxi\u001b[0m\u001b[0;34m,\u001b[0m \u001b[0mx\u001b[0m \u001b[0;32min\u001b[0m \u001b[0menumerate\u001b[0m\u001b[0;34m(\u001b[0m\u001b[0mX\u001b[0m\u001b[0;34m)\u001b[0m\u001b[0;34m:\u001b[0m\u001b[0;34m\u001b[0m\u001b[0m\n",
      "\u001b[0m\u001b[0;32m---> 40 \u001b[0;31m                \u001b[0mG\u001b[0m\u001b[0;34m[\u001b[0m\u001b[0mxi\u001b[0m\u001b[0;34m,\u001b[0m\u001b[0mci\u001b[0m\u001b[0;34m]\u001b[0m \u001b[0;34m=\u001b[0m \u001b[0mself\u001b[0m\u001b[0;34m.\u001b[0m\u001b[0m_basisfunc\u001b[0m\u001b[0;34m(\u001b[0m\u001b[0mc\u001b[0m\u001b[0;34m,\u001b[0m \u001b[0mx\u001b[0m\u001b[0;34m,\u001b[0m \u001b[0mci\u001b[0m\u001b[0;34m)\u001b[0m\u001b[0;34m\u001b[0m\u001b[0m\n",
      "\u001b[0m\u001b[0;32m     41 \u001b[0;31m        \u001b[0;32mreturn\u001b[0m \u001b[0mG\u001b[0m\u001b[0;34m\u001b[0m\u001b[0m\n",
      "\u001b[0m\u001b[0;32m     42 \u001b[0;31m\u001b[0;34m\u001b[0m\u001b[0m\n",
      "\u001b[0m\n",
      "ipdb> print c,x,ci\n",
      "[ 0.4542976 22.5581036 21.820425  22.2046375 21.6205902 21.3017254\n",
      " 20.7645779 20.5660629 22.07925   21.97476   21.28776   21.23176\n",
      " 21.13188    0.10449    0.79149    0.84749    0.94737    0.687\n",
      "  0.743      0.84288    0.056      0.15588    0.09988  ] [0.42384229559276676, 19.741518, 19.7199173, 19.4592686, 19.3471756, 18.8479252, 18.3643951, 18.4916306, 20.20517, 19.10778, 18.78146, 18.596, 18.41959, 1.0973899999999972, 1.4237099999999998, 1.6091699999999989, 1.7855799999999995, 0.3263200000000026, 0.5117800000000017, 0.6881900000000023, 0.18545999999999907, 0.3618699999999997, 0.17641000000000062] 0\n",
      "ipdb> q\n"
     ]
    }
   ],
   "source": []
  },
  {
   "cell_type": "code",
   "execution_count": null,
   "metadata": {},
   "outputs": [],
   "source": []
  }
 ],
 "metadata": {
  "kernelspec": {
   "display_name": "Python 2",
   "language": "python",
   "name": "python2"
  },
  "language_info": {
   "codemirror_mode": {
    "name": "ipython",
    "version": 2
   },
   "file_extension": ".py",
   "mimetype": "text/x-python",
   "name": "python",
   "nbconvert_exporter": "python",
   "pygments_lexer": "ipython2",
   "version": "2.7.3"
  }
 },
 "nbformat": 4,
 "nbformat_minor": 2
}
