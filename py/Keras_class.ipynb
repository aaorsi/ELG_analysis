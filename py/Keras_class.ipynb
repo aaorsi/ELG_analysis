{
 "cells": [
  {
   "cell_type": "code",
   "execution_count": 1,
   "metadata": {},
   "outputs": [
    {
     "name": "stderr",
     "output_type": "stream",
     "text": [
      "Using TensorFlow backend.\n",
      "/Users/aaorsi/anaconda/lib/python2.7/site-packages/cryptography/hazmat/primitives/constant_time.py:26: CryptographyDeprecationWarning: Support for your Python version is deprecated. The next version of cryptography will remove support. Please upgrade to a 2.7.x release that supports hmac.compare_digest as soon as possible.\n",
      "  utils.DeprecatedIn23,\n"
     ]
    }
   ],
   "source": [
    "import keras\n",
    "from keras.models import Sequential\n",
    "from keras.layers import Dense, Dropout, Activation\n",
    "from keras.optimizers import SGD\n",
    "from imblearn.over_sampling import SMOTE\n",
    "import numpy as np\n",
    "#import jplus\n",
    "\n"
   ]
  },
  {
   "cell_type": "code",
   "execution_count": 2,
   "metadata": {},
   "outputs": [
    {
     "name": "stdout",
     "output_type": "stream",
     "text": [
      "['rSDSS', 'iSDSS', 'obj', 'gSDSS', 'J0395', 'zSDSS', 'J0378', 'J0430', 'uSDSS', 'dm_j0660', 'J0660', 'J0410', 'J0515', 'J0861', 'class']\n",
      "751\n"
     ]
    }
   ],
   "source": [
    "#load databases\n",
    "\n",
    "#DataDir = './data/'\n",
    "DataDir = '.'\n",
    "import pickle\n",
    "dset = pickle.load(open('%s/training_full.data'%DataDir))\n",
    "print dset.keys()\n",
    "ngal = len(dset['class'])\n",
    "print ngal\n",
    "dset_original = dset.copy() # keeping a copy of original datapoints for \n"
   ]
  },
  {
   "cell_type": "markdown",
   "metadata": {},
   "source": [
    "** Here I add the option to resample all datasets sampling from their photometric errors. Each new sample has attribute $m$ drawn from a Gaussian with $\\mu = m$ and $\\sigma = \\delta_m$, where $\\delta_m$ is the photometric error of the attribute $m$."
   ]
  },
  {
   "cell_type": "code",
   "execution_count": 48,
   "metadata": {},
   "outputs": [
    {
     "name": "stdout",
     "output_type": "stream",
     "text": [
      "Re-sampling dset 10 times\n",
      "done\n"
     ]
    }
   ],
   "source": [
    "Resample_errors = True\n",
    "\n",
    "Split_test = 0.2 # Separate fraction to use for testing.\n",
    "\n",
    "ids_shuffled = np.random.permutation(np.arange(ngal))\n",
    "# TODO: remove a fixed fraction from all classes. Then, keep those as a separate dictionary, \n",
    "# and use the rest to build a resampled set as below.\n",
    "\n",
    "nr = 10 #sampling each object nr times.\n",
    "if Resample_errors:\n",
    "    print 'Re-sampling dset %d times'%nr\n",
    "    rs_dset = {} #dictionary storing resamplings\n",
    "    for key in dset.keys():\n",
    "        rs_dset[key] = []\n",
    "    for i in range(ngal):\n",
    "        for key in dset.keys():\n",
    "            rs_dset[key].append(dset[key][i]) #First add the original object\n",
    "            for j in range(nr):\n",
    "                if len(dset[key][i]) ==2:\n",
    "                    rs_dset[key].append([np.random.normal(dset[key][i,0], \n",
    "                                        np.max([dset[key][i,1],0])),dset[key][i,1]])\n",
    "                else:\n",
    "                    rs_dset[key].append(dset[key][i])\n",
    "    for key in dset.keys():\n",
    "        rs_dset[key] = np.array(rs_dset[key])\n",
    "            \n",
    "    dset = rs_dset\n",
    "    \n",
    "    print 'done'\n"
   ]
  },
  {
   "cell_type": "code",
   "execution_count": 49,
   "metadata": {},
   "outputs": [
    {
     "name": "stdout",
     "output_type": "stream",
     "text": [
      "8261 8261\n"
     ]
    }
   ],
   "source": [
    "print len(dset['class']), 11*ngal"
   ]
  },
  {
   "cell_type": "code",
   "execution_count": 50,
   "metadata": {},
   "outputs": [
    {
     "name": "stdout",
     "output_type": "stream",
     "text": [
      "All colours: 66\n"
     ]
    }
   ],
   "source": [
    "featnames = ['dm_j0660','J0378','J0395','J0410','J0430','J0515',\n",
    "             'J0660','J0861','uSDSS','gSDSS','rSDSS','iSDSS','zSDSS']\n",
    "\n",
    "ntrain = len(dset['obj'])\n",
    "feat_arr = []\n",
    "\n",
    "import itertools\n",
    "\n",
    "terms = featnames[1:] # create all colour combinations\n",
    "nterms = len(terms)\n",
    "ncomb = int(nterms*(nterms-1)/2.)\n",
    "print 'All colours:', ncomb\n",
    "comb = list(itertools.combinations(terms,2))\n",
    "lcomb = list(comb)\n",
    "colournames = ['%s - %s'%(x[0], x[1]) for x in list(comb)]\n",
    "\n",
    "for x in range(ntrain):\n",
    "    fx = []\n",
    "    for y in featnames:\n",
    "        fx.append(dset[y][x,0])\n",
    "    for z in range(ncomb):\n",
    "        fx.append(dset[lcomb[z][0]][x,0] - dset[lcomb[z][1]][x,0])\n",
    "        \n",
    "#    fx.append(dset['uSDSS'][x,0]-dset['gSDSS'][x,0])\n",
    "#    fx.append(dset['gSDSS'][x,0]-dset['rSDSS'][x,0])\n",
    "#    fx.append(dset['rSDSS'][x,0]-dset['iSDSS'][x,0])\n",
    "#    fx.append(dset['uSDSS'][x,0]-dset['gSDSS'][x,0])\n",
    "#    fx.append(dset['iSDSS'][x,0]-dset['zSDSS'][x,0])\n",
    "#    fx.append(dset['uSDSS'][x,0]-dset['zSDSS'][x,0])\n",
    "#    fx.append(dset['rSDSS'][x,0]-dset['zSDSS'][x,0])\n",
    "    \n",
    "    feat_arr.append(fx)\n",
    "class_arr = dset['class']\n",
    "featnames += colournames"
   ]
  },
  {
   "cell_type": "code",
   "execution_count": 44,
   "metadata": {},
   "outputs": [
    {
     "name": "stdout",
     "output_type": "stream",
     "text": [
      "> \u001b[0;32m<ipython-input-43-a5ec1835a9b6>\u001b[0m(20)\u001b[0;36m<module>\u001b[0;34m()\u001b[0m\n",
      "\u001b[0;32m     18 \u001b[0;31m    \u001b[0mfx\u001b[0m \u001b[0;34m=\u001b[0m \u001b[0;34m[\u001b[0m\u001b[0;34m]\u001b[0m\u001b[0;34m\u001b[0m\u001b[0m\n",
      "\u001b[0m\u001b[0;32m     19 \u001b[0;31m    \u001b[0;32mfor\u001b[0m \u001b[0my\u001b[0m \u001b[0;32min\u001b[0m \u001b[0mfeatnames\u001b[0m\u001b[0;34m:\u001b[0m\u001b[0;34m\u001b[0m\u001b[0m\n",
      "\u001b[0m\u001b[0;32m---> 20 \u001b[0;31m        \u001b[0mfx\u001b[0m\u001b[0;34m.\u001b[0m\u001b[0mappend\u001b[0m\u001b[0;34m(\u001b[0m\u001b[0mdset\u001b[0m\u001b[0;34m[\u001b[0m\u001b[0my\u001b[0m\u001b[0;34m]\u001b[0m\u001b[0;34m[\u001b[0m\u001b[0mx\u001b[0m\u001b[0;34m,\u001b[0m\u001b[0;36m0\u001b[0m\u001b[0;34m]\u001b[0m\u001b[0;34m)\u001b[0m\u001b[0;34m\u001b[0m\u001b[0m\n",
      "\u001b[0m\u001b[0;32m     21 \u001b[0;31m    \u001b[0;32mfor\u001b[0m \u001b[0mz\u001b[0m \u001b[0;32min\u001b[0m \u001b[0mrange\u001b[0m\u001b[0;34m(\u001b[0m\u001b[0mncomb\u001b[0m\u001b[0;34m)\u001b[0m\u001b[0;34m:\u001b[0m\u001b[0;34m\u001b[0m\u001b[0m\n",
      "\u001b[0m\u001b[0;32m     22 \u001b[0;31m        \u001b[0mfx\u001b[0m\u001b[0;34m.\u001b[0m\u001b[0mappend\u001b[0m\u001b[0;34m(\u001b[0m\u001b[0mdset\u001b[0m\u001b[0;34m[\u001b[0m\u001b[0mlcomb\u001b[0m\u001b[0;34m[\u001b[0m\u001b[0mz\u001b[0m\u001b[0;34m]\u001b[0m\u001b[0;34m[\u001b[0m\u001b[0;36m0\u001b[0m\u001b[0;34m]\u001b[0m\u001b[0;34m]\u001b[0m\u001b[0;34m[\u001b[0m\u001b[0mx\u001b[0m\u001b[0;34m,\u001b[0m\u001b[0;36m0\u001b[0m\u001b[0;34m]\u001b[0m \u001b[0;34m-\u001b[0m \u001b[0mdset\u001b[0m\u001b[0;34m[\u001b[0m\u001b[0mlcomb\u001b[0m\u001b[0;34m[\u001b[0m\u001b[0mz\u001b[0m\u001b[0;34m]\u001b[0m\u001b[0;34m[\u001b[0m\u001b[0;36m1\u001b[0m\u001b[0;34m]\u001b[0m\u001b[0;34m]\u001b[0m\u001b[0;34m[\u001b[0m\u001b[0mx\u001b[0m\u001b[0;34m,\u001b[0m\u001b[0;36m0\u001b[0m\u001b[0;34m]\u001b[0m\u001b[0;34m)\u001b[0m\u001b[0;34m\u001b[0m\u001b[0m\n",
      "\u001b[0m\n",
      "ipdb> print dset[y][x]\n",
      "[0.4238423  0.04010769]\n",
      "ipdb> print y\n",
      "dm_j0660\n",
      "ipdb> print dset[y][x,0]\n",
      "*** TypeError: list indices must be integers, not tuple\n",
      "ipdb> print np.array(dset[y])[x,0]\n",
      "0.42384229559276676\n",
      "ipdb> q\n"
     ]
    }
   ],
   "source": [
    "%debug\n",
    "\n"
   ]
  },
  {
   "cell_type": "code",
   "execution_count": 51,
   "metadata": {},
   "outputs": [],
   "source": [
    "#Example sets\n",
    "\n",
    "def class_to_int(istr):\n",
    "    if istr == 'Halpha':\n",
    "        return 0\n",
    "    elif istr == 'OIII+Hbeta':\n",
    "        return 1\n",
    "    if istr == 'OII':\n",
    "        return 2\n",
    "    elif istr == 'contaminant':\n",
    "        return 3\n",
    "    else:\n",
    "        print '%s not recognised'%istr\n",
    "        return -99\n",
    "\n",
    "    \n",
    "def int_to_class(i):\n",
    "    if i == 0:\n",
    "        return 'Halpha'\n",
    "    elif i == 1:\n",
    "        return 'OIII+Hbeta'\n",
    "    elif i == 2:\n",
    "        return 'OII'\n",
    "    elif i == 3:\n",
    "        return 'contaminant'\n",
    "    else:\n",
    "        print '%d not recognised'%i\n",
    "        return 'None'\n",
    "\n",
    "\n",
    "y_train_int = [class_to_int(x) for x in class_arr]\n",
    "y_train_cat = keras.utils.to_categorical(y_train_int, num_classes=len(np.unique(y_train_int)))\n",
    "x_train = feat_arr\n",
    "nfeat = len(feat_arr[0])\n",
    "\n",
    "\n"
   ]
  },
  {
   "cell_type": "markdown",
   "metadata": {},
   "source": [
    "***Before resampling, I'll look at the Feature Importances from Extra Trees***\n",
    "\n",
    "The following is adapted from Sklearn's example of Feature Importances in\n",
    "\n",
    "https://scikit-learn.org/stable/auto_examples/ensemble/plot_forest_importances.html\n"
   ]
  },
  {
   "cell_type": "code",
   "execution_count": 53,
   "metadata": {},
   "outputs": [
    {
     "name": "stdout",
     "output_type": "stream",
     "text": [
      "Feature ranking:\n",
      "1. feature 10 (0.040918): $rSDSS$\n",
      "2. feature 6 (0.039613): $J0660$\n",
      "3. feature 9 (0.038209): $gSDSS$\n",
      "4. feature 76 (0.029170): $rSDSS - iSDSS$\n",
      "5. feature 5 (0.026776): $J0515$\n",
      "6. feature 62 (0.025376): $J0660 - iSDSS$\n",
      "7. feature 4 (0.023490): $J0430$\n",
      "8. feature 74 (0.022903): $gSDSS - iSDSS$\n",
      "9. feature 69 (0.020142): $uSDSS - gSDSS$\n",
      "10. feature 11 (0.019295): $iSDSS$\n",
      "11. feature 3 (0.018346): $J0410$\n",
      "12. feature 70 (0.017484): $uSDSS - rSDSS$\n",
      "13. feature 59 (0.017121): $J0660 - uSDSS$\n",
      "14. feature 46 (0.016145): $J0430 - uSDSS$\n",
      "15. feature 2 (0.015843): $J0395$\n",
      "16. feature 60 (0.015336): $J0660 - gSDSS$\n",
      "17. feature 53 (0.015152): $J0515 - uSDSS$\n",
      "18. feature 56 (0.014728): $J0515 - iSDSS$\n",
      "19. feature 44 (0.014369): $J0430 - J0660$\n",
      "20. feature 58 (0.013722): $J0660 - J0861$\n",
      "21. feature 7 (0.013384): $J0861$\n",
      "22. feature 1 (0.013052): $J0378$\n",
      "23. feature 65 (0.012827): $J0861 - gSDSS$\n",
      "24. feature 12 (0.012678): $zSDSS$\n",
      "25. feature 49 (0.012589): $J0430 - iSDSS$\n",
      "26. feature 8 (0.012185): $uSDSS$\n",
      "27. feature 61 (0.011989): $J0660 - rSDSS$\n",
      "28. feature 38 (0.011664): $J0410 - uSDSS$\n",
      "29. feature 48 (0.011643): $J0430 - rSDSS$\n",
      "30. feature 66 (0.011579): $J0861 - rSDSS$\n",
      "31. feature 47 (0.011476): $J0430 - gSDSS$\n",
      "32. feature 51 (0.011277): $J0515 - J0660$\n",
      "33. feature 52 (0.011238): $J0515 - J0861$\n",
      "34. feature 71 (0.011156): $uSDSS - iSDSS$\n",
      "35. feature 73 (0.010811): $gSDSS - rSDSS$\n",
      "36. feature 29 (0.010782): $J0395 - uSDSS$\n",
      "37. feature 45 (0.010778): $J0430 - J0861$\n",
      "38. feature 17 (0.010653): $J0378 - J0660$\n",
      "39. feature 63 (0.010542): $J0660 - zSDSS$\n",
      "40. feature 54 (0.010533): $J0515 - gSDSS$\n",
      "41. feature 75 (0.010499): $gSDSS - zSDSS$\n",
      "42. feature 36 (0.010156): $J0410 - J0660$\n",
      "43. feature 41 (0.009906): $J0410 - iSDSS$\n",
      "44. feature 20 (0.009714): $J0378 - gSDSS$\n",
      "45. feature 77 (0.009520): $rSDSS - zSDSS$\n",
      "46. feature 19 (0.009441): $J0378 - uSDSS$\n",
      "47. feature 55 (0.009391): $J0515 - rSDSS$\n",
      "48. feature 27 (0.009361): $J0395 - J0660$\n",
      "49. feature 32 (0.009290): $J0395 - iSDSS$\n",
      "50. feature 15 (0.009263): $J0378 - J0430$\n",
      "51. feature 64 (0.009251): $J0861 - uSDSS$\n",
      "52. feature 0 (0.009121): $dm_j0660$\n",
      "53. feature 21 (0.009074): $J0378 - rSDSS$\n",
      "54. feature 67 (0.009063): $J0861 - iSDSS$\n",
      "55. feature 39 (0.008912): $J0410 - gSDSS$\n",
      "56. feature 50 (0.008832): $J0430 - zSDSS$\n",
      "57. feature 22 (0.008750): $J0378 - iSDSS$\n",
      "58. feature 72 (0.008646): $uSDSS - zSDSS$\n",
      "59. feature 57 (0.008557): $J0515 - zSDSS$\n",
      "60. feature 30 (0.008523): $J0395 - gSDSS$\n",
      "61. feature 16 (0.008519): $J0378 - J0515$\n",
      "62. feature 40 (0.008377): $J0410 - rSDSS$\n",
      "63. feature 43 (0.008327): $J0430 - J0515$\n",
      "64. feature 37 (0.007967): $J0410 - J0861$\n",
      "65. feature 18 (0.007815): $J0378 - J0861$\n",
      "66. feature 28 (0.007792): $J0395 - J0861$\n",
      "67. feature 31 (0.007703): $J0395 - rSDSS$\n",
      "68. feature 34 (0.007675): $J0410 - J0430$\n",
      "69. feature 26 (0.007369): $J0395 - J0515$\n",
      "70. feature 35 (0.007238): $J0410 - J0515$\n",
      "71. feature 25 (0.007150): $J0395 - J0430$\n",
      "72. feature 42 (0.006980): $J0410 - zSDSS$\n",
      "73. feature 24 (0.006794): $J0395 - J0410$\n",
      "74. feature 33 (0.006547): $J0395 - zSDSS$\n",
      "75. feature 23 (0.006479): $J0378 - zSDSS$\n",
      "76. feature 14 (0.006401): $J0378 - J0410$\n",
      "77. feature 78 (0.006366): $iSDSS - zSDSS$\n",
      "78. feature 13 (0.006304): $J0378 - J0395$\n",
      "79. feature 68 (0.005956): $J0861 - zSDSS$\n"
     ]
    },
    {
     "data": {
      "image/png": "[encoded data removed]",
      "text/plain": [
       "<Figure size 1440x720 with 1 Axes>"
      ]
     },
     "metadata": {},
     "output_type": "display_data"
    }
   ],
   "source": [
    "%matplotlib inline\n",
    "from sklearn.ensemble import ExtraTreesClassifier\n",
    "import matplotlib.pyplot as plt\n",
    "\n",
    "forest = ExtraTreesClassifier(n_estimators=1000,\n",
    "                              random_state=1323)\n",
    "\n",
    "x_train = np.array(x_train)\n",
    "forest.fit(x_train, y_train_int)\n",
    "importances = forest.feature_importances_\n",
    "std = np.std([tree.feature_importances_ for tree in forest.estimators_],\n",
    "             axis=0)\n",
    "indices = np.argsort(importances)[::-1]\n",
    "inames = [r'$%s$'%featnames[x] for x in indices]\n",
    "\n",
    "# Print the feature ranking\n",
    "print(\"Feature ranking:\")\n",
    "\n",
    "for f in range(x_train.shape[1]):\n",
    "    print(\"%d. feature %d (%f): %s\" % (f + 1, indices[f], importances[indices[f]], inames[f]))\n",
    "\n",
    "\n",
    "# Plot the feature importances of the forest\n",
    "plt.figure(1, figsize=(20,10))\n",
    "plt.title(\"Feature importances\")\n",
    "plt.bar(range(x_train.shape[1]), importances[indices],\n",
    "       color=\"r\", yerr=std[indices], align=\"center\")\n",
    "plt.xticks(range(x_train.shape[1]),inames,rotation='vertical')\n",
    "plt.xlim([-1, x_train.shape[1]])\n",
    "plt.show()\n",
    "\n",
    "# Filter those below a given threshold\n",
    "\n",
    "threshold = 0.015\n",
    "\n",
    "\n",
    "\n",
    "\n"
   ]
  },
  {
   "cell_type": "code",
   "execution_count": 54,
   "metadata": {},
   "outputs": [
    {
     "name": "stdout",
     "output_type": "stream",
     "text": [
      "[(0, 5879), (1, 5879), (2, 5879), (3, 5879)]\n",
      "[0. 0. 0. 1.]\n"
     ]
    }
   ],
   "source": [
    "from imblearn.over_sampling import SMOTE\n",
    "from collections import Counter\n",
    "from sklearn.model_selection import train_test_split\n",
    "\n",
    "X_train, X_test, y_train, y_test = train_test_split(x_train, y_train_int, test_size=0.2, random_state=1324)\n",
    "\n",
    "\n",
    "X_res, y_res = SMOTE(sampling_strategy='not majority').fit_resample(X_train, y_train)\n",
    "print(sorted(Counter(y_res).items()))\n",
    "\n",
    "y =  keras.utils.to_categorical(y_res, num_classes=len(np.unique(y_res)))\n",
    "yt = keras.utils.to_categorical(y_test, num_classes=len(np.unique(y_test)))\n",
    "\n",
    "print y[0]"
   ]
  },
  {
   "cell_type": "markdown",
   "metadata": {},
   "source": [
    "Scale data using scikit-learn StandardScaler"
   ]
  },
  {
   "cell_type": "code",
   "execution_count": 55,
   "metadata": {},
   "outputs": [
    {
     "name": "stdout",
     "output_type": "stream",
     "text": [
      "scaling data... done\n"
     ]
    }
   ],
   "source": [
    "from sklearn.preprocessing import StandardScaler \n",
    "Scaledata = True\n",
    "\n",
    "if Scaledata:\n",
    "    print 'scaling data...',\n",
    "    scaler = StandardScaler()\n",
    "    scaler.fit(X_res)\n",
    "    x_train = scaler.transform(X_res)\n",
    "    x_test = scaler.transform(X_test)\n",
    "    #x_test  = scaler.transform(x_test)\n",
    "    print 'done'\n"
   ]
  },
  {
   "cell_type": "code",
   "execution_count": 56,
   "metadata": {},
   "outputs": [],
   "source": [
    "# Balance the training set by sub-sampling the contaminant class\n",
    "Balance = False\n",
    "if Balance:\n",
    "    all_classes = [0,1,2,3]\n",
    "    nclass = []\n",
    "    selclass = []\n",
    "    yarr = np.asarray(y_train_int)\n",
    "    for ic in all_classes:\n",
    "        sel = np.where(np.asarray(yarr) == ic)[0]\n",
    "        nclass.append(len(yarr[sel]))\n",
    "        selclass.append(sel)\n",
    "\n",
    "\n",
    "    idd = list(np.random.choice(selclass[3], nclass[2]))\n",
    "    print idd, yarr[idd]\n",
    "    nff = sum(nclass)\n",
    "\n",
    "    new_idd = []\n",
    "    for ic in [0,1,2]:\n",
    "        sel = np.where(yarr == ic)[0]\n",
    "        new_idd += list(sel)\n",
    "\n",
    "    new_idd += idd\n",
    "\n",
    "    y_new = np.asarray([y_train[x] for x in new_idd])\n",
    "    x_new = np.asarray([x_train[x] for x in new_idd])\n",
    "\n"
   ]
  },
  {
   "cell_type": "code",
   "execution_count": 57,
   "metadata": {},
   "outputs": [
    {
     "name": "stdout",
     "output_type": "stream",
     "text": [
      "_________________________________________________________________\n",
      "Layer (type)                 Output Shape              Param #   \n",
      "=================================================================\n",
      "dense_1 (Dense)              (None, 26)                2080      \n",
      "_________________________________________________________________\n",
      "dense_2 (Dense)              (None, 39)                1053      \n",
      "_________________________________________________________________\n",
      "dense_3 (Dense)              (None, 4)                 160       \n",
      "=================================================================\n",
      "Total params: 3,293\n",
      "Trainable params: 3,293\n",
      "Non-trainable params: 0\n",
      "_________________________________________________________________\n"
     ]
    }
   ],
   "source": [
    "# Keras MLP\n",
    "\n",
    "from keras import metrics\n",
    "\n",
    "model = Sequential()\n",
    "model.add(Dense(nfeat/3, activation='sigmoid', input_dim=nfeat))\n",
    "#model.add(Dropout(0.2))\n",
    "model.add(Dense(nfeat/2, activation='sigmoid'))\n",
    "#model.add(Dropout(0.2))\n",
    "model.add(Dense(4, activation='softmax'))\n",
    "\n",
    "sgd = SGD(lr=0.01, decay=1e-6, momentum=0.9, nesterov=True)\n",
    "model.compile(loss='categorical_crossentropy',\n",
    "              optimizer='adam')\n",
    "\n",
    "model.summary()\n",
    "\n"
   ]
  },
  {
   "cell_type": "code",
   "execution_count": 58,
   "metadata": {},
   "outputs": [
    {
     "name": "stdout",
     "output_type": "stream",
     "text": [
      "Epoch 1/10\n",
      "23516/23516 [==============================] - 4s 166us/step - loss: 0.6638\n",
      "Epoch 2/10\n",
      "23516/23516 [==============================] - 2s 86us/step - loss: 0.2777\n",
      "Epoch 3/10\n",
      "23516/23516 [==============================] - 2s 87us/step - loss: 0.1818\n",
      "Epoch 4/10\n",
      "23516/23516 [==============================] - 2s 104us/step - loss: 0.1291\n",
      "Epoch 5/10\n",
      "23516/23516 [==============================] - 2s 94us/step - loss: 0.0992\n",
      "Epoch 6/10\n",
      "23516/23516 [==============================] - 2s 88us/step - loss: 0.0813\n",
      "Epoch 7/10\n",
      "23516/23516 [==============================] - 2s 89us/step - loss: 0.0690\n",
      "Epoch 8/10\n",
      "23516/23516 [==============================] - 2s 89us/step - loss: 0.0600\n",
      "Epoch 9/10\n",
      "23516/23516 [==============================] - 2s 89us/step - loss: 0.0531\n",
      "Epoch 10/10\n",
      "23516/23516 [==============================] - 2s 89us/step - loss: 0.0478\n"
     ]
    },
    {
     "data": {
      "text/plain": [
       "<keras.callbacks.History at 0x1a3c3c8d50>"
      ]
     },
     "execution_count": 58,
     "metadata": {},
     "output_type": "execute_result"
    }
   ],
   "source": [
    "model.fit(x_train, y,\n",
    "          shuffle=True,\n",
    "          verbose=1,\n",
    "          epochs=10,\n",
    "          batch_size=50\n",
    "          )\n",
    "\n"
   ]
  },
  {
   "cell_type": "code",
   "execution_count": 59,
   "metadata": {},
   "outputs": [
    {
     "name": "stdout",
     "output_type": "stream",
     "text": [
      "1653/1653 [==============================] - 0s 144us/step\n",
      "[8.1088615e-04 4.7370072e-06 4.0235234e-05 9.9914408e-01]\n",
      "3 3\n"
     ]
    }
   ],
   "source": [
    "score = model.evaluate(x_test,yt)\n",
    "pred = model.predict(x_test)\n",
    "pred_class = [np.argmax(x) for x in pred]\n",
    "y_new_num = [np.argmax(x) for x in yt]\n",
    "print pred[0]\n",
    "\n",
    "print y_new_num[0], pred_class[0]"
   ]
  },
  {
   "cell_type": "code",
   "execution_count": 60,
   "metadata": {},
   "outputs": [
    {
     "name": "stdout",
     "output_type": "stream",
     "text": [
      "[0.79432624]\n",
      "['Halpha', 'OIII+Hbeta', 'OII', 'contaminant']\n"
     ]
    },
    {
     "name": "stderr",
     "output_type": "stream",
     "text": [
      "/Users/aaorsi/anaconda/lib/python2.7/site-packages/sklearn/metrics/classification.py:1052: UserWarning: Note that pos_label (set to 2) is ignored when average != 'binary' (got None). You may use labels=[pos_label] to specify a single positive class.\n",
      "  % (pos_label, average), UserWarning)\n"
     ]
    }
   ],
   "source": [
    "from sklearn.metrics import f1_score\n",
    "\n",
    "score = f1_score(y_new_num, pred_class,average=None, labels=[2], pos_label=2)\n",
    "print score\n",
    "pred_names = [int_to_class(x) for x in range(4)]\n",
    "print pred_names\n",
    "\n"
   ]
  },
  {
   "cell_type": "markdown",
   "metadata": {},
   "source": [
    "**Here I try GridSearchCV**"
   ]
  },
  {
   "cell_type": "code",
   "execution_count": 12,
   "metadata": {},
   "outputs": [],
   "source": [
    "from keras.wrappers.scikit_learn import KerasClassifier\n",
    "from sklearn.model_selection import GridSearchCV\n",
    "from keras import optimizers\n",
    "\n",
    "def build_classifier(optim='sgd',drop=0.0,Neurons=nfeat,init='uniform'):\n",
    "   #   from keras.optimizers import SGD\n",
    "    model = Sequential()\n",
    "    model.add(Dense(Neurons, input_dim=nfeat, kernel_initializer=init, activation='sigmoid'))\n",
    "    model.add(Dropout(drop))\n",
    "    model.add(Dense(Neurons/2, activation='sigmoid'))\n",
    "#    model.add(Dropout(drop))\n",
    "    model.add(Dense(4, activation='softmax'))\n",
    "    # Compile model\n",
    "    model.compile(loss='sparse_categorical_crossentropy', optimizer=optim)\n",
    "    return model\n",
    "\n",
    "seed = 7132\n",
    "np.random.seed(seed)\n",
    "\n",
    "model = KerasClassifier(build_fn=build_classifier, verbose=0)\n",
    "\n",
    "optim = ['sgd','adam']#,'rmsprop','sgd'] #['rmsprop', 'adam']\n",
    "init = ['uniform']#['glorot_uniform', 'normal', 'uniform']\n",
    "epochs = [10, 20]\n",
    "batches = [50,100]#,200,500]#,500]#, 500]\n",
    "dropout = [.1]#1e-3,1e-2,1e-1]#,0.5,0.75]\n",
    "Neurons = [nfeat/2]\n",
    "param_grid = dict(optim=optim, epochs=epochs, batch_size=batches, init=init,drop=dropout,\n",
    "                 Neurons=Neurons)\n",
    "\n"
   ]
  },
  {
   "cell_type": "code",
   "execution_count": 14,
   "metadata": {},
   "outputs": [
    {
     "name": "stdout",
     "output_type": "stream",
     "text": [
      "[0. 0. 0. 1.]\n"
     ]
    }
   ],
   "source": [
    "print y[0]"
   ]
  },
  {
   "cell_type": "code",
   "execution_count": 18,
   "metadata": {},
   "outputs": [
    {
     "name": "stdout",
     "output_type": "stream",
     "text": [
      "Fitting 3 folds for each of 8 candidates, totalling 24 fits\n"
     ]
    },
    {
     "name": "stderr",
     "output_type": "stream",
     "text": [
      "[Parallel(n_jobs=4)]: Using backend LokyBackend with 4 concurrent workers.\n",
      "[Parallel(n_jobs=4)]: Done   5 tasks      | elapsed:   22.7s\n",
      "[Parallel(n_jobs=4)]: Done  10 tasks      | elapsed:   38.0s\n",
      "[Parallel(n_jobs=4)]: Done  17 tasks      | elapsed:   53.8s\n",
      "[Parallel(n_jobs=4)]: Done  20 out of  24 | elapsed:  1.0min remaining:   12.1s\n",
      "[Parallel(n_jobs=4)]: Done  24 out of  24 | elapsed:  1.2min finished\n"
     ]
    }
   ],
   "source": [
    "from sklearn.metrics import make_scorer, fbeta_score,f1_score\n",
    "\n",
    "# pos_label below optimises the f score for a particular label\n",
    "f2_score = make_scorer(fbeta_score, beta=1,average='macro')\n",
    "grid = GridSearchCV(estimator=model, param_grid=param_grid,scoring=f2_score,verbose=10,n_jobs=4)\n",
    "grid_result = grid.fit(x_train, y_res)\n",
    "\n",
    "best= grid_result.best_estimator_"
   ]
  },
  {
   "cell_type": "code",
   "execution_count": 25,
   "metadata": {},
   "outputs": [
    {
     "name": "stdout",
     "output_type": "stream",
     "text": [
      "1848/1848 [==============================] - 0s 35us/step\n",
      "[0.98717949 0.98189563 0.95020747 0.91015169]\n",
      "['Halpha', 'OIII+Hbeta', 'OII', 'contaminant']\n",
      "226/226 [==============================] - 0s 78us/step\n",
      "[0.57142857 0.15384615 0.54545455 0.89304813]\n",
      "['Halpha', 'OIII+Hbeta', 'OII', 'contaminant']\n"
     ]
    }
   ],
   "source": [
    "y_pred = best.predict(x_train, verbose=1)\n",
    "\n",
    "score = f1_score(y_res,y_pred,average=None, labels=range(4))\n",
    "print score\n",
    "pred_names = [int_to_class(x) for x in range(4)]\n",
    "print pred_names\n",
    "\n",
    "y_pt = best.predict(x_test, verbose=1)\n",
    "\n",
    "score = f1_score(y_new_num,y_pt,average=None, labels=range(4))\n",
    "print score\n",
    "pred_names = [int_to_class(x) for x in range(4)]\n",
    "print pred_names\n",
    "\n",
    "\n"
   ]
  },
  {
   "cell_type": "code",
   "execution_count": 23,
   "metadata": {},
   "outputs": [
    {
     "name": "stdout",
     "output_type": "stream",
     "text": [
      "Best: 0.382194 using {'optim': 'adam', 'drop': 0.1, 'batch_size': 50, 'epochs': 20, 'init': 'uniform', 'Neurons': 39}\n",
      "0.096303 (0.136194) with: {'optim': 'sgd', 'drop': 0.1, 'batch_size': 50, 'epochs': 10, 'init': 'uniform', 'Neurons': 39}\n",
      "0.272857 (0.032636) with: {'optim': 'adam', 'drop': 0.1, 'batch_size': 50, 'epochs': 10, 'init': 'uniform', 'Neurons': 39}\n",
      "0.082085 (0.116085) with: {'optim': 'sgd', 'drop': 0.1, 'batch_size': 50, 'epochs': 20, 'init': 'uniform', 'Neurons': 39}\n",
      "0.382194 (0.178128) with: {'optim': 'adam', 'drop': 0.1, 'batch_size': 50, 'epochs': 20, 'init': 'uniform', 'Neurons': 39}\n",
      "0.041133 (0.058170) with: {'optim': 'sgd', 'drop': 0.1, 'batch_size': 100, 'epochs': 10, 'init': 'uniform', 'Neurons': 39}\n",
      "0.240718 (0.011006) with: {'optim': 'adam', 'drop': 0.1, 'batch_size': 100, 'epochs': 10, 'init': 'uniform', 'Neurons': 39}\n",
      "0.055749 (0.078841) with: {'optim': 'sgd', 'drop': 0.1, 'batch_size': 100, 'epochs': 20, 'init': 'uniform', 'Neurons': 39}\n",
      "0.275809 (0.035041) with: {'optim': 'adam', 'drop': 0.1, 'batch_size': 100, 'epochs': 20, 'init': 'uniform', 'Neurons': 39}\n"
     ]
    }
   ],
   "source": [
    "df = grid_result.cv_results_\n",
    "# summarize results\n",
    "print(\"Best: %f using %s\" % (grid_result.best_score_, grid_result.best_params_))\n",
    "means = grid_result.cv_results_['mean_test_score']\n",
    "stds = grid_result.cv_results_['std_test_score']\n",
    "params = grid_result.cv_results_['params']\n",
    "\n",
    "for mean, stdev, param in zip(means, stds, params):\n",
    "    print(\"%f (%f) with: %r\" % (mean, stdev, param))\n",
    "\n",
    "\n"
   ]
  },
  {
   "cell_type": "code",
   "execution_count": null,
   "metadata": {},
   "outputs": [],
   "source": []
  }
 ],
 "metadata": {
  "kernelspec": {
   "display_name": "Python 2",
   "language": "python",
   "name": "python2"
  },
  "language_info": {
   "codemirror_mode": {
    "name": "ipython",
    "version": 2
   },
   "file_extension": ".py",
   "mimetype": "text/x-python",
   "name": "python",
   "nbconvert_exporter": "python",
   "pygments_lexer": "ipython2",
   "version": "2.7.3"
  }
 },
 "nbformat": 4,
 "nbformat_minor": 2
}
