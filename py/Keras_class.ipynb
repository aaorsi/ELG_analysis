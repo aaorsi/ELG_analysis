{
 "cells": [
  {
   "cell_type": "code",
   "execution_count": 1,
   "metadata": {},
   "outputs": [
    {
     "name": "stdout",
     "output_type": "stream",
     "text": [
      "q chucha\n"
     ]
    },
    {
     "name": "stderr",
     "output_type": "stream",
     "text": [
      "Using TensorFlow backend.\n",
      "/Users/aaorsi/anaconda/lib/python2.7/site-packages/cryptography/hazmat/primitives/constant_time.py:26: CryptographyDeprecationWarning: Support for your Python version is deprecated. The next version of cryptography will remove support. Please upgrade to a 2.7.x release that supports hmac.compare_digest as soon as possible.\n",
      "  utils.DeprecatedIn23,\n"
     ]
    }
   ],
   "source": [
    "import keras\n",
    "from keras.models import Sequential\n",
    "from keras.layers import Dense, Dropout, Activation\n",
    "from keras.optimizers import SGD\n",
    "\n",
    "import numpy as np\n",
    "#import jplus\n",
    "\n"
   ]
  },
  {
   "cell_type": "code",
   "execution_count": 2,
   "metadata": {},
   "outputs": [
    {
     "name": "stdout",
     "output_type": "stream",
     "text": [
      "['tfeatures', 'vclass', 'tclass', 'vfeatures']\n",
      "\n",
      "19\n",
      "['Halpha' 'OII' 'OIII+Hbeta' 'contaminant']\n",
      "n_dataset:95300\n"
     ]
    }
   ],
   "source": [
    "#load databases\n",
    "\n",
    "#DataDir = './data/'\n",
    "DataDir = '.'\n",
    "import pickle\n",
    "dset = pickle.load(open('%s/dataset.data'%DataDir))\n",
    "print dset.keys()\n",
    "\n",
    "print \n",
    "\n",
    "x_train = np.asarray(dset['tfeatures'])\n",
    "y_train = np.asarray(dset['tclass'])\n",
    "x_test = np.asarray(dset['vfeatures'])\n",
    "y_test    = np.asarray(dset['vclass'])\n",
    "\n",
    "\n",
    "nfeat = len(x_train[0])\n",
    "print nfeat\n",
    "print np.unique(y_train)\n",
    "print 'n_dataset:%ld'%len(y_train)\n",
    "#blippi"
   ]
  },
  {
   "cell_type": "code",
   "execution_count": 6,
   "metadata": {},
   "outputs": [
    {
     "name": "stdout",
     "output_type": "stream",
     "text": [
      "(1000, 20) (95300, 19)\n",
      "(1000, 10) (95300,)\n"
     ]
    }
   ],
   "source": [
    "#Example sets\n",
    "\n",
    "kx_train = np.random.random((1000, 20))\n",
    "ky_train = keras.utils.to_categorical(np.random.randint(10, size=(1000, 1)), num_classes=10)\n",
    "kx_test = np.random.random((100, 20))\n",
    "ky_test = keras.utils.to_categorical(np.random.randint(10, size=(100, 1)), num_classes=10)\n",
    "\n",
    "print np.shape(kx_train), np.shape(x_train)\n",
    "print np.shape(ky_train), np.shape(y_train)\n",
    "\n",
    "def class_to_int(istr):\n",
    "    if istr == 'Halpha':\n",
    "        return 0\n",
    "    elif istr == 'OIII+Hbeta':\n",
    "        return 1\n",
    "    if istr == 'OII':\n",
    "        return 2\n",
    "    elif istr == 'contaminant':\n",
    "        return 3\n",
    "    else:\n",
    "        print '%s not recognised'%istr\n",
    "        return -99\n",
    "\n",
    "\n",
    "y_train_int = [class_to_int(x) for x in y_train]\n",
    "y_test_int = [class_to_int(x) for x in y_test]\n",
    "\n",
    "y2_train = keras.utils.to_categorical(y_train_int, num_classes=len(np.unique(y_train_int)))\n",
    "y2_test = keras.utils.to_categorical(y_test_int, num_classes=len(np.unique(y_test_int)))\n",
    "\n"
   ]
  },
  {
   "cell_type": "markdown",
   "metadata": {},
   "source": [
    "Scale data using scikit-learn StandardScaler"
   ]
  },
  {
   "cell_type": "code",
   "execution_count": 7,
   "metadata": {},
   "outputs": [
    {
     "name": "stdout",
     "output_type": "stream",
     "text": [
      "scaling data... done\n"
     ]
    }
   ],
   "source": [
    "from sklearn.preprocessing import StandardScaler \n",
    "Scaledata = True\n",
    "\n",
    "if Scaledata:\n",
    "    print 'scaling data...',\n",
    "    scaler = StandardScaler()\n",
    "    scaler.fit(x_train)\n",
    "    x_train = scaler.transform(x_train)\n",
    "    x_test  = scaler.transform(x_test)\n",
    "    print 'done'\n"
   ]
  },
  {
   "cell_type": "code",
   "execution_count": 10,
   "metadata": {},
   "outputs": [
    {
     "name": "stdout",
     "output_type": "stream",
     "text": [
      "doing stuff\n",
      "(95300, 19)\n",
      "(95300, 4)\n",
      "_________________________________________________________________\n",
      "Layer (type)                 Output Shape              Param #   \n",
      "=================================================================\n",
      "dense_4 (Dense)              (None, 19)                380       \n",
      "_________________________________________________________________\n",
      "dense_5 (Dense)              (None, 19)                380       \n",
      "_________________________________________________________________\n",
      "dense_6 (Dense)              (None, 4)                 80        \n",
      "=================================================================\n",
      "Total params: 840\n",
      "Trainable params: 840\n",
      "Non-trainable params: 0\n",
      "_________________________________________________________________\n"
     ]
    }
   ],
   "source": [
    "# Keras MLP\n",
    "\n",
    "from keras import metrics\n",
    "\n",
    "model = Sequential()\n",
    "# Dense(64) is a fully-connected layer with 64 hidden units.\n",
    "# in the first layer, you must specify the expected input data shape:\n",
    "# here, 20-dimensional vectors.\n",
    "model.add(Dense(19, activation='relu', input_dim=nfeat))\n",
    "#model.add(Dropout(0.5))\n",
    "model.add(Dense(19, activation='relu'))\n",
    "#model.add(Dropout(0.5))\n",
    "model.add(Dense(4, activation='softmax'))\n",
    "\n",
    "sgd = SGD(lr=0.01, decay=1e-6, momentum=0.9, nesterov=True)\n",
    "model.compile(loss='categorical_crossentropy',\n",
    "              optimizer=sgd,\n",
    "              metrics=[metrics.categorical_accuracy])\n",
    "print 'doing stuff'\n",
    "\n",
    "print np.shape(x_train)\n",
    "print np.shape(y2_train)\n",
    "\n",
    "model.summary()\n",
    "\n"
   ]
  },
  {
   "cell_type": "code",
   "execution_count": 12,
   "metadata": {},
   "outputs": [
    {
     "name": "stdout",
     "output_type": "stream",
     "text": [
      "Train on 95300 samples, validate on 95300 samples\n",
      "Epoch 1/20\n",
      " - 1s - loss: 0.4535 - categorical_accuracy: 0.8114 - val_loss: 0.4489 - val_categorical_accuracy: 0.8104\n",
      "Epoch 2/20\n",
      " - 1s - loss: 0.4477 - categorical_accuracy: 0.8136 - val_loss: 0.4464 - val_categorical_accuracy: 0.8212\n",
      "Epoch 3/20\n",
      " - 1s - loss: 0.4424 - categorical_accuracy: 0.8159 - val_loss: 0.4394 - val_categorical_accuracy: 0.8193\n",
      "Epoch 4/20\n",
      " - 1s - loss: 0.4378 - categorical_accuracy: 0.8181 - val_loss: 0.4336 - val_categorical_accuracy: 0.8206\n",
      "Epoch 5/20\n",
      " - 1s - loss: 0.4332 - categorical_accuracy: 0.8201 - val_loss: 0.4314 - val_categorical_accuracy: 0.8259\n",
      "Epoch 6/20\n",
      " - 1s - loss: 0.4289 - categorical_accuracy: 0.8222 - val_loss: 0.4259 - val_categorical_accuracy: 0.8303\n",
      "Epoch 7/20\n",
      " - 2s - loss: 0.4252 - categorical_accuracy: 0.8245 - val_loss: 0.4216 - val_categorical_accuracy: 0.8250\n",
      "Epoch 8/20\n",
      " - 2s - loss: 0.4216 - categorical_accuracy: 0.8262 - val_loss: 0.4177 - val_categorical_accuracy: 0.8214\n",
      "Epoch 9/20\n",
      " - 2s - loss: 0.4170 - categorical_accuracy: 0.8279 - val_loss: 0.4124 - val_categorical_accuracy: 0.8339\n",
      "Epoch 10/20\n",
      " - 2s - loss: 0.4134 - categorical_accuracy: 0.8286 - val_loss: 0.4101 - val_categorical_accuracy: 0.8315\n",
      "Epoch 11/20\n",
      " - 1s - loss: 0.4098 - categorical_accuracy: 0.8309 - val_loss: 0.4073 - val_categorical_accuracy: 0.8244\n",
      "Epoch 12/20\n",
      " - 1s - loss: 0.4062 - categorical_accuracy: 0.8323 - val_loss: 0.4045 - val_categorical_accuracy: 0.8292\n",
      "Epoch 13/20\n",
      " - 1s - loss: 0.4025 - categorical_accuracy: 0.8338 - val_loss: 0.3989 - val_categorical_accuracy: 0.8346\n",
      "Epoch 14/20\n",
      " - 1s - loss: 0.3987 - categorical_accuracy: 0.8350 - val_loss: 0.3965 - val_categorical_accuracy: 0.8373\n",
      "Epoch 15/20\n",
      " - 1s - loss: 0.3960 - categorical_accuracy: 0.8368 - val_loss: 0.3951 - val_categorical_accuracy: 0.8404\n",
      "Epoch 16/20\n",
      " - 1s - loss: 0.3925 - categorical_accuracy: 0.8385 - val_loss: 0.3902 - val_categorical_accuracy: 0.8421\n",
      "Epoch 17/20\n",
      " - 1s - loss: 0.3895 - categorical_accuracy: 0.8388 - val_loss: 0.3856 - val_categorical_accuracy: 0.8458\n",
      "Epoch 18/20\n",
      " - 1s - loss: 0.3873 - categorical_accuracy: 0.8410 - val_loss: 0.3826 - val_categorical_accuracy: 0.8461\n",
      "Epoch 19/20\n",
      " - 1s - loss: 0.3836 - categorical_accuracy: 0.8420 - val_loss: 0.3798 - val_categorical_accuracy: 0.8440\n",
      "Epoch 20/20\n",
      " - 1s - loss: 0.3808 - categorical_accuracy: 0.8441 - val_loss: 0.3798 - val_categorical_accuracy: 0.8437\n"
     ]
    },
    {
     "data": {
      "text/plain": [
       "<keras.callbacks.History at 0xb6947bd50>"
      ]
     },
     "execution_count": 12,
     "metadata": {},
     "output_type": "execute_result"
    }
   ],
   "source": [
    "model.fit(x_train, y2_train,\n",
    "          epochs=20,\n",
    "          batch_size=500,\n",
    "          validation_data=(x_test,y2_test),\n",
    "          shuffle=True,\n",
    "          verbose=2\n",
    "          )\n",
    "\n"
   ]
  },
  {
   "cell_type": "code",
   "execution_count": 24,
   "metadata": {},
   "outputs": [
    {
     "name": "stdout",
     "output_type": "stream",
     "text": [
      "95300/95300 [==============================] - 3s 28us/step\n"
     ]
    }
   ],
   "source": [
    "pred = model.predict(x_train,verbose=1)\n",
    "pred_class = [np.argmax(x) for x in pred]\n",
    "#print x_train[0:10]\n"
   ]
  },
  {
   "cell_type": "code",
   "execution_count": 25,
   "metadata": {},
   "outputs": [
    {
     "name": "stdout",
     "output_type": "stream",
     "text": [
      "[0.95306203 0.796263   0.83577079 0.78684193]\n",
      "[0 1 2 3]\n"
     ]
    }
   ],
   "source": [
    "from sklearn.metrics import f1_score\n",
    "score = f1_score(y_train_int, pred_class,average=None)\n",
    "print score\n",
    "print np.unique(pred_class)"
   ]
  }
 ],
 "metadata": {
  "kernelspec": {
   "display_name": "Python 2",
   "language": "python",
   "name": "python2"
  },
  "language_info": {
   "codemirror_mode": {
    "name": "ipython",
    "version": 2
   },
   "file_extension": ".py",
   "mimetype": "text/x-python",
   "name": "python",
   "nbconvert_exporter": "python",
   "pygments_lexer": "ipython2",
   "version": "2.7.3"
  }
 },
 "nbformat": 4,
 "nbformat_minor": 2
}
