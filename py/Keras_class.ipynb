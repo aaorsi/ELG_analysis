{
 "cells": [
  {
   "cell_type": "code",
   "execution_count": 1,
   "metadata": {},
   "outputs": [
    {
     "name": "stderr",
     "output_type": "stream",
     "text": [
      "Using TensorFlow backend.\n",
      "/Users/aaorsi/anaconda/lib/python2.7/site-packages/cryptography/hazmat/primitives/constant_time.py:26: CryptographyDeprecationWarning: Support for your Python version is deprecated. The next version of cryptography will remove support. Please upgrade to a 2.7.x release that supports hmac.compare_digest as soon as possible.\n",
      "  utils.DeprecatedIn23,\n"
     ]
    }
   ],
   "source": [
    "import keras\n",
    "from keras.models import Sequential\n",
    "from keras.layers import Dense, Dropout, Activation\n",
    "from keras.optimizers import SGD\n",
    "from imblearn.over_sampling import SMOTE\n",
    "import numpy as np\n",
    "#import jplus\n",
    "\n"
   ]
  },
  {
   "cell_type": "code",
   "execution_count": 2,
   "metadata": {},
   "outputs": [
    {
     "name": "stdout",
     "output_type": "stream",
     "text": [
      "['rSDSS', 'iSDSS', 'obj', 'gSDSS', 'J0395', 'zSDSS', 'J0378', 'J0430', 'uSDSS', 'dm_j0660', 'J0660', 'J0410', 'J0515', 'J0861', 'class']\n",
      "All colours: 66\n"
     ]
    }
   ],
   "source": [
    "#load databases\n",
    "\n",
    "#DataDir = './data/'\n",
    "DataDir = '.'\n",
    "import pickle\n",
    "dset = pickle.load(open('%s/training_full.data'%DataDir))\n",
    "print dset.keys()\n",
    "\n",
    "\n",
    "featnames = ['dm_j0660','J0378','J0395','J0410','J0430','J0515',\n",
    "             'J0660','J0861','uSDSS','gSDSS','rSDSS','iSDSS','zSDSS']\n",
    "\n",
    "ntrain = len(dset['obj'])\n",
    "feat_arr = []\n",
    "\n",
    "import itertools\n",
    "\n",
    "terms = featnames[1:] # create all colour combinations\n",
    "nterms = len(terms)\n",
    "ncomb = int(nterms*(nterms-1)/2.)\n",
    "print 'All colours:', ncomb\n",
    "comb = list(itertools.combinations(terms,2))\n",
    "lcomb = list(comb)\n",
    "colournames = ['%s - %s'%(x[0], x[1]) for x in list(comb)]\n",
    "\n",
    "for x in range(ntrain):\n",
    "    fx = []\n",
    "    for y in featnames:\n",
    "        fx.append(dset[y][x,0])\n",
    "    for z in range(ncomb):\n",
    "        fx.append(dset[lcomb[z][0]][x,0] - dset[lcomb[z][1]][x,0])\n",
    "        \n",
    "#    fx.append(dset['uSDSS'][x,0]-dset['gSDSS'][x,0])\n",
    "#    fx.append(dset['gSDSS'][x,0]-dset['rSDSS'][x,0])\n",
    "#    fx.append(dset['rSDSS'][x,0]-dset['iSDSS'][x,0])\n",
    "#    fx.append(dset['uSDSS'][x,0]-dset['gSDSS'][x,0])\n",
    "#    fx.append(dset['iSDSS'][x,0]-dset['zSDSS'][x,0])\n",
    "#    fx.append(dset['uSDSS'][x,0]-dset['zSDSS'][x,0])\n",
    "#    fx.append(dset['rSDSS'][x,0]-dset['zSDSS'][x,0])\n",
    "    \n",
    "    feat_arr.append(fx)\n",
    "class_arr = dset['class']\n",
    "featnames += colournames\n"
   ]
  },
  {
   "cell_type": "code",
   "execution_count": 3,
   "metadata": {},
   "outputs": [
    {
     "data": {
      "text/plain": [
       "79"
      ]
     },
     "execution_count": 3,
     "metadata": {},
     "output_type": "execute_result"
    }
   ],
   "source": [
    "len(featnames)\n",
    "\n"
   ]
  },
  {
   "cell_type": "code",
   "execution_count": 4,
   "metadata": {},
   "outputs": [],
   "source": [
    "#Example sets\n",
    "\n",
    "def class_to_int(istr):\n",
    "    if istr == 'Halpha':\n",
    "        return 0\n",
    "    elif istr == 'OIII+Hbeta':\n",
    "        return 1\n",
    "    if istr == 'OII':\n",
    "        return 2\n",
    "    elif istr == 'contaminant':\n",
    "        return 3\n",
    "    else:\n",
    "        print '%s not recognised'%istr\n",
    "        return -99\n",
    "\n",
    "    \n",
    "def int_to_class(i):\n",
    "    if i == 0:\n",
    "        return 'Halpha'\n",
    "    elif i == 1:\n",
    "        return 'OIII+Hbeta'\n",
    "    elif i == 2:\n",
    "        return 'OII'\n",
    "    elif i == 3:\n",
    "        return 'contaminant'\n",
    "    else:\n",
    "        print '%d not recognised'%i\n",
    "        return 'None'\n",
    "\n",
    "\n",
    "y_train_int = [class_to_int(x) for x in class_arr]\n",
    "y_train_cat = keras.utils.to_categorical(y_train_int, num_classes=len(np.unique(y_train_int)))\n",
    "x_train = feat_arr\n",
    "nfeat = len(feat_arr[0])\n",
    "\n",
    "\n"
   ]
  },
  {
   "cell_type": "code",
   "execution_count": 5,
   "metadata": {},
   "outputs": [
    {
     "name": "stdout",
     "output_type": "stream",
     "text": [
      "[(0, 462), (1, 462), (2, 462), (3, 462)]\n",
      "[0. 0. 0. 1.]\n"
     ]
    }
   ],
   "source": [
    "from imblearn.over_sampling import SMOTE\n",
    "from collections import Counter\n",
    "from sklearn.model_selection import train_test_split\n",
    "\n",
    "X_train, X_test, y_train, y_test = train_test_split(x_train, y_train_int, test_size=0.3, random_state=1324)\n",
    "\n",
    "\n",
    "X_res, y_res = SMOTE(sampling_strategy='not majority').fit_resample(X_train, y_train)\n",
    "print(sorted(Counter(y_res).items()))\n",
    "\n",
    "y =  keras.utils.to_categorical(y_res, num_classes=len(np.unique(y_res)))\n",
    "yt = keras.utils.to_categorical(y_test, num_classes=len(np.unique(y_test)))\n",
    "\n",
    "print y[0]"
   ]
  },
  {
   "cell_type": "markdown",
   "metadata": {},
   "source": [
    "Scale data using scikit-learn StandardScaler"
   ]
  },
  {
   "cell_type": "code",
   "execution_count": 6,
   "metadata": {},
   "outputs": [
    {
     "name": "stdout",
     "output_type": "stream",
     "text": [
      "scaling data... done\n"
     ]
    }
   ],
   "source": [
    "from sklearn.preprocessing import StandardScaler \n",
    "Scaledata = True\n",
    "\n",
    "if Scaledata:\n",
    "    print 'scaling data...',\n",
    "    scaler = StandardScaler()\n",
    "    scaler.fit(X_res)\n",
    "    x_train = scaler.transform(X_res)\n",
    "    x_test = scaler.transform(X_test)\n",
    "    #x_test  = scaler.transform(x_test)\n",
    "    print 'done'\n"
   ]
  },
  {
   "cell_type": "code",
   "execution_count": 7,
   "metadata": {},
   "outputs": [],
   "source": [
    "# Balance the training set by sub-sampling the contaminant class\n",
    "Balance = False\n",
    "if Balance:\n",
    "    all_classes = [0,1,2,3]\n",
    "    nclass = []\n",
    "    selclass = []\n",
    "    yarr = np.asarray(y_train_int)\n",
    "    for ic in all_classes:\n",
    "        sel = np.where(np.asarray(yarr) == ic)[0]\n",
    "        nclass.append(len(yarr[sel]))\n",
    "        selclass.append(sel)\n",
    "\n",
    "\n",
    "    idd = list(np.random.choice(selclass[3], nclass[2]))\n",
    "    print idd, yarr[idd]\n",
    "    nff = sum(nclass)\n",
    "\n",
    "    new_idd = []\n",
    "    for ic in [0,1,2]:\n",
    "        sel = np.where(yarr == ic)[0]\n",
    "        new_idd += list(sel)\n",
    "\n",
    "    new_idd += idd\n",
    "\n",
    "    y_new = np.asarray([y_train[x] for x in new_idd])\n",
    "    x_new = np.asarray([x_train[x] for x in new_idd])\n",
    "\n"
   ]
  },
  {
   "cell_type": "code",
   "execution_count": 8,
   "metadata": {},
   "outputs": [
    {
     "name": "stdout",
     "output_type": "stream",
     "text": [
      "_________________________________________________________________\n",
      "Layer (type)                 Output Shape              Param #   \n",
      "=================================================================\n",
      "dense_1 (Dense)              (None, 26)                2080      \n",
      "_________________________________________________________________\n",
      "dense_2 (Dense)              (None, 39)                1053      \n",
      "_________________________________________________________________\n",
      "dense_3 (Dense)              (None, 4)                 160       \n",
      "=================================================================\n",
      "Total params: 3,293\n",
      "Trainable params: 3,293\n",
      "Non-trainable params: 0\n",
      "_________________________________________________________________\n"
     ]
    }
   ],
   "source": [
    "# Keras MLP\n",
    "\n",
    "from keras import metrics\n",
    "\n",
    "model = Sequential()\n",
    "model.add(Dense(nfeat/3, activation='sigmoid', input_dim=nfeat))\n",
    "#model.add(Dropout(0.2))\n",
    "model.add(Dense(nfeat/2, activation='sigmoid'))\n",
    "#model.add(Dropout(0.2))\n",
    "model.add(Dense(4, activation='softmax'))\n",
    "\n",
    "sgd = SGD(lr=0.01, decay=1e-6, momentum=0.9, nesterov=True)\n",
    "model.compile(loss='categorical_crossentropy',\n",
    "              optimizer='adam')\n",
    "\n",
    "model.summary()\n",
    "\n"
   ]
  },
  {
   "cell_type": "code",
   "execution_count": 9,
   "metadata": {},
   "outputs": [
    {
     "name": "stdout",
     "output_type": "stream",
     "text": [
      "Epoch 1/10\n",
      "1848/1848 [==============================] - 1s 782us/step - loss: 1.2773\n",
      "Epoch 2/10\n",
      "1848/1848 [==============================] - 0s 108us/step - loss: 1.0158\n",
      "Epoch 3/10\n",
      "1848/1848 [==============================] - 0s 116us/step - loss: 0.7887\n",
      "Epoch 4/10\n",
      "1848/1848 [==============================] - 0s 99us/step - loss: 0.6277\n",
      "Epoch 5/10\n",
      "1848/1848 [==============================] - 0s 103us/step - loss: 0.5152\n",
      "Epoch 6/10\n",
      "1848/1848 [==============================] - 0s 101us/step - loss: 0.4380\n",
      "Epoch 7/10\n",
      "1848/1848 [==============================] - 0s 101us/step - loss: 0.3827\n",
      "Epoch 8/10\n",
      "1848/1848 [==============================] - 0s 101us/step - loss: 0.3413\n",
      "Epoch 9/10\n",
      "1848/1848 [==============================] - 0s 107us/step - loss: 0.3094\n",
      "Epoch 10/10\n",
      "1848/1848 [==============================] - 0s 107us/step - loss: 0.2837\n"
     ]
    },
    {
     "data": {
      "text/plain": [
       "<keras.callbacks.History at 0x10b104310>"
      ]
     },
     "execution_count": 9,
     "metadata": {},
     "output_type": "execute_result"
    }
   ],
   "source": [
    "model.fit(x_train, y,\n",
    "          shuffle=True,\n",
    "          verbose=1,\n",
    "          epochs=10,\n",
    "          batch_size=50\n",
    "          )\n",
    "\n"
   ]
  },
  {
   "cell_type": "code",
   "execution_count": 10,
   "metadata": {},
   "outputs": [
    {
     "name": "stdout",
     "output_type": "stream",
     "text": [
      "226/226 [==============================] - 0s 770us/step\n",
      "[0.00108241 0.01822006 0.8492242  0.13147327]\n",
      "2 2\n"
     ]
    }
   ],
   "source": [
    "score = model.evaluate(x_test,yt)\n",
    "pred = model.predict(x_test)\n",
    "pred_class = [np.argmax(x) for x in pred]\n",
    "y_new_num = [np.argmax(x) for x in yt]\n",
    "print pred[0]\n",
    "\n",
    "print y_new_num[0], pred_class[0]"
   ]
  },
  {
   "cell_type": "code",
   "execution_count": 11,
   "metadata": {},
   "outputs": [
    {
     "name": "stdout",
     "output_type": "stream",
     "text": [
      "[0.48]\n",
      "['Halpha', 'OIII+Hbeta', 'OII', 'contaminant']\n"
     ]
    },
    {
     "name": "stderr",
     "output_type": "stream",
     "text": [
      "/Users/aaorsi/anaconda/lib/python2.7/site-packages/sklearn/metrics/classification.py:1052: UserWarning: Note that pos_label (set to 2) is ignored when average != 'binary' (got None). You may use labels=[pos_label] to specify a single positive class.\n",
      "  % (pos_label, average), UserWarning)\n"
     ]
    }
   ],
   "source": [
    "from sklearn.metrics import f1_score\n",
    "\n",
    "score = f1_score(y_new_num, pred_class,average=None, labels=[2], pos_label=2)\n",
    "print score\n",
    "pred_names = [int_to_class(x) for x in range(4)]\n",
    "print pred_names\n",
    "\n"
   ]
  },
  {
   "cell_type": "markdown",
   "metadata": {},
   "source": [
    "**Here I try GridSearchCV**"
   ]
  },
  {
   "cell_type": "code",
   "execution_count": 12,
   "metadata": {},
   "outputs": [],
   "source": [
    "from keras.wrappers.scikit_learn import KerasClassifier\n",
    "from sklearn.model_selection import GridSearchCV\n",
    "from keras import optimizers\n",
    "\n",
    "def build_classifier(optim='sgd',drop=0.0,Neurons=nfeat,init='uniform'):\n",
    "   #   from keras.optimizers import SGD\n",
    "    model = Sequential()\n",
    "    model.add(Dense(Neurons, input_dim=nfeat, kernel_initializer=init, activation='sigmoid'))\n",
    "    model.add(Dropout(drop))\n",
    "    model.add(Dense(Neurons/2, activation='sigmoid'))\n",
    "#    model.add(Dropout(drop))\n",
    "    model.add(Dense(4, activation='softmax'))\n",
    "    # Compile model\n",
    "    model.compile(loss='sparse_categorical_crossentropy', optimizer=optim)\n",
    "    return model\n",
    "\n",
    "seed = 7132\n",
    "np.random.seed(seed)\n",
    "\n",
    "model = KerasClassifier(build_fn=build_classifier, verbose=0)\n",
    "\n",
    "optim = ['sgd','adam']#,'rmsprop','sgd'] #['rmsprop', 'adam']\n",
    "init = ['uniform']#['glorot_uniform', 'normal', 'uniform']\n",
    "epochs = [10, 20]\n",
    "batches = [50,100]#,200,500]#,500]#, 500]\n",
    "dropout = [.1]#1e-3,1e-2,1e-1]#,0.5,0.75]\n",
    "Neurons = [nfeat/2]\n",
    "param_grid = dict(optim=optim, epochs=epochs, batch_size=batches, init=init,drop=dropout,\n",
    "                 Neurons=Neurons)\n",
    "\n"
   ]
  },
  {
   "cell_type": "code",
   "execution_count": 14,
   "metadata": {},
   "outputs": [
    {
     "name": "stdout",
     "output_type": "stream",
     "text": [
      "[0. 0. 0. 1.]\n"
     ]
    }
   ],
   "source": [
    "print y[0]"
   ]
  },
  {
   "cell_type": "code",
   "execution_count": 18,
   "metadata": {},
   "outputs": [
    {
     "name": "stdout",
     "output_type": "stream",
     "text": [
      "Fitting 3 folds for each of 8 candidates, totalling 24 fits\n"
     ]
    },
    {
     "name": "stderr",
     "output_type": "stream",
     "text": [
      "[Parallel(n_jobs=4)]: Using backend LokyBackend with 4 concurrent workers.\n",
      "[Parallel(n_jobs=4)]: Done   5 tasks      | elapsed:   22.7s\n",
      "[Parallel(n_jobs=4)]: Done  10 tasks      | elapsed:   38.0s\n",
      "[Parallel(n_jobs=4)]: Done  17 tasks      | elapsed:   53.8s\n",
      "[Parallel(n_jobs=4)]: Done  20 out of  24 | elapsed:  1.0min remaining:   12.1s\n",
      "[Parallel(n_jobs=4)]: Done  24 out of  24 | elapsed:  1.2min finished\n"
     ]
    }
   ],
   "source": [
    "from sklearn.metrics import make_scorer, fbeta_score,f1_score\n",
    "\n",
    "# pos_label below optimises the f score for a particular label\n",
    "f2_score = make_scorer(fbeta_score, beta=1,average='macro')\n",
    "grid = GridSearchCV(estimator=model, param_grid=param_grid,scoring=f2_score,verbose=10,n_jobs=4)\n",
    "grid_result = grid.fit(x_train, y_res)\n",
    "\n",
    "best= grid_result.best_estimator_"
   ]
  },
  {
   "cell_type": "code",
   "execution_count": 25,
   "metadata": {},
   "outputs": [
    {
     "name": "stdout",
     "output_type": "stream",
     "text": [
      "1848/1848 [==============================] - 0s 35us/step\n",
      "[0.98717949 0.98189563 0.95020747 0.91015169]\n",
      "['Halpha', 'OIII+Hbeta', 'OII', 'contaminant']\n",
      "226/226 [==============================] - 0s 78us/step\n",
      "[0.57142857 0.15384615 0.54545455 0.89304813]\n",
      "['Halpha', 'OIII+Hbeta', 'OII', 'contaminant']\n"
     ]
    }
   ],
   "source": [
    "y_pred = best.predict(x_train, verbose=1)\n",
    "\n",
    "score = f1_score(y_res,y_pred,average=None, labels=range(4))\n",
    "print score\n",
    "pred_names = [int_to_class(x) for x in range(4)]\n",
    "print pred_names\n",
    "\n",
    "y_pt = best.predict(x_test, verbose=1)\n",
    "\n",
    "score = f1_score(y_new_num,y_pt,average=None, labels=range(4))\n",
    "print score\n",
    "pred_names = [int_to_class(x) for x in range(4)]\n",
    "print pred_names\n",
    "\n",
    "\n"
   ]
  },
  {
   "cell_type": "code",
   "execution_count": 23,
   "metadata": {},
   "outputs": [
    {
     "name": "stdout",
     "output_type": "stream",
     "text": [
      "Best: 0.382194 using {'optim': 'adam', 'drop': 0.1, 'batch_size': 50, 'epochs': 20, 'init': 'uniform', 'Neurons': 39}\n",
      "0.096303 (0.136194) with: {'optim': 'sgd', 'drop': 0.1, 'batch_size': 50, 'epochs': 10, 'init': 'uniform', 'Neurons': 39}\n",
      "0.272857 (0.032636) with: {'optim': 'adam', 'drop': 0.1, 'batch_size': 50, 'epochs': 10, 'init': 'uniform', 'Neurons': 39}\n",
      "0.082085 (0.116085) with: {'optim': 'sgd', 'drop': 0.1, 'batch_size': 50, 'epochs': 20, 'init': 'uniform', 'Neurons': 39}\n",
      "0.382194 (0.178128) with: {'optim': 'adam', 'drop': 0.1, 'batch_size': 50, 'epochs': 20, 'init': 'uniform', 'Neurons': 39}\n",
      "0.041133 (0.058170) with: {'optim': 'sgd', 'drop': 0.1, 'batch_size': 100, 'epochs': 10, 'init': 'uniform', 'Neurons': 39}\n",
      "0.240718 (0.011006) with: {'optim': 'adam', 'drop': 0.1, 'batch_size': 100, 'epochs': 10, 'init': 'uniform', 'Neurons': 39}\n",
      "0.055749 (0.078841) with: {'optim': 'sgd', 'drop': 0.1, 'batch_size': 100, 'epochs': 20, 'init': 'uniform', 'Neurons': 39}\n",
      "0.275809 (0.035041) with: {'optim': 'adam', 'drop': 0.1, 'batch_size': 100, 'epochs': 20, 'init': 'uniform', 'Neurons': 39}\n"
     ]
    }
   ],
   "source": [
    "df = grid_result.cv_results_\n",
    "# summarize results\n",
    "print(\"Best: %f using %s\" % (grid_result.best_score_, grid_result.best_params_))\n",
    "means = grid_result.cv_results_['mean_test_score']\n",
    "stds = grid_result.cv_results_['std_test_score']\n",
    "params = grid_result.cv_results_['params']\n",
    "\n",
    "for mean, stdev, param in zip(means, stds, params):\n",
    "    print(\"%f (%f) with: %r\" % (mean, stdev, param))\n",
    "\n",
    "\n"
   ]
  },
  {
   "cell_type": "code",
   "execution_count": null,
   "metadata": {},
   "outputs": [],
   "source": []
  }
 ],
 "metadata": {
  "kernelspec": {
   "display_name": "Python 2",
   "language": "python",
   "name": "python2"
  },
  "language_info": {
   "codemirror_mode": {
    "name": "ipython",
    "version": 2
   },
   "file_extension": ".py",
   "mimetype": "text/x-python",
   "name": "python",
   "nbconvert_exporter": "python",
   "pygments_lexer": "ipython2",
   "version": "2.7.3"
  }
 },
 "nbformat": 4,
 "nbformat_minor": 2
}
