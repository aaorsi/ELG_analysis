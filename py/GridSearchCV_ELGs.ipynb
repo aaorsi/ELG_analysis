{
 "cells": [
  {
   "cell_type": "markdown",
   "metadata": {},
   "source": [
    "### This notebook implements a custom `GridSearchCV` on the ELG dataset, including resampling of the training set at each CV split"
   ]
  },
  {
   "cell_type": "code",
   "execution_count": 1,
   "metadata": {},
   "outputs": [
    {
     "name": "stderr",
     "output_type": "stream",
     "text": [
      "Using TensorFlow backend.\n"
     ]
    }
   ],
   "source": [
    "import keras\n",
    "from keras.models import Sequential\n",
    "from keras.layers import Dense, Dropout, Activation\n",
    "from keras.optimizers import SGD\n",
    "from imblearn.over_sampling import SMOTE\n",
    "import numpy as np\n",
    "#import jplus\n",
    "import class_tools as tools \n",
    "from sklearn.preprocessing import StandardScaler \n",
    "\n",
    "import os\n",
    "import tensorflow as tf\n",
    "# The following removes deprecation messages from tensorflow\n",
    "os.environ['TF_CPP_MIN_LOG_LEVEL'] = '3'\n",
    "\n",
    "\n"
   ]
  },
  {
   "cell_type": "code",
   "execution_count": 2,
   "metadata": {},
   "outputs": [],
   "source": [
    "#from keras import metrics\n",
    "from sklearn import metrics\n"
   ]
  },
  {
   "cell_type": "code",
   "execution_count": 3,
   "metadata": {},
   "outputs": [
    {
     "name": "stdout",
     "output_type": "stream",
     "text": [
      "dict_keys(['rSDSS', 'iSDSS', 'obj', 'gSDSS', 'J0395', 'zSDSS', 'J0378', 'J0430', 'uSDSS', 'dm_j0660', 'J0660', 'J0410', 'J0515', 'J0861', 'class'])\n",
      "751\n"
     ]
    }
   ],
   "source": [
    "#load databases\n",
    "\n",
    "#DataDir = './data/'\n",
    "DataDir = '.'\n",
    "import pickle\n",
    "dset = pickle.load(open('%s/training_full.data'%DataDir,mode='rb'),encoding='latin1')\n",
    "print (dset.keys())\n",
    "ngal = len(dset['class'])\n",
    "print (ngal)\n",
    "dset_original = dset.copy() # keeping a copy of original datapoints for \n"
   ]
  },
  {
   "cell_type": "code",
   "execution_count": 4,
   "metadata": {},
   "outputs": [],
   "source": [
    "def collect_pars(pars):\n",
    "    # collecting parameters\n",
    "    if 'activation' in pars:\n",
    "        activation = pars['activation']\n",
    "    else:\n",
    "        activation = 'sigmoid'\n",
    "        \n",
    "    if 'dropout' in pars:\n",
    "        dropout = pars['dropout']\n",
    "    else:\n",
    "        dropout = 0.0\n",
    "    \n",
    "    if 'nfeat' in pars:\n",
    "        nfeat = pars['nfeat']\n",
    "    else:\n",
    "        nfeat = 20\n",
    "    \n",
    "    if 'epochs' in pars:\n",
    "        epochs = pars['epochs']\n",
    "    else:\n",
    "        epochs = 10\n",
    "        \n",
    "    if 'batch_size' in pars:\n",
    "        batch_size = pars['batch_size']\n",
    "    else:\n",
    "        batch_size = 32\n",
    "        \n",
    "    if 'neurons' in pars:\n",
    "        neurons = pars['neurons']\n",
    "    else:\n",
    "        neurons = [int(nfeat/2), int(nfeat/2)]\n",
    "\n",
    "    return activation, dropout, nfeat, epochs, batch_size,neurons\n"
   ]
  },
  {
   "cell_type": "code",
   "execution_count": 5,
   "metadata": {},
   "outputs": [],
   "source": [
    "from sklearn.metrics import f1_score\n",
    "def gridsearchcv_elgs(pars, kfold, ith, index, importance, inames):\n",
    "\n",
    "    activation, dropout, nfeat, epochs, batch_size, neurons = collect_pars(pars)    \n",
    "    train, test = tools.CV_split(dset, kfold,ith)\n",
    "    train_rs = tools.resample_errors(train, nr=2500,balance_set=True)\n",
    "    feat_train, err_train, fname_train = tools.get_features(train_rs)\n",
    "    feat_test, err_test, fname_test    = tools.get_features(test)\n",
    "    y_train = [tools.class_to_int(x) for x in train_rs['class']]\n",
    "    y_test = [tools.class_to_int(x) for x in test['class']]\n",
    "    \n",
    "    feats_id = index[0:nfeat]\n",
    "    \n",
    "    x_train = [np.array(x)[feats_id] for x in feat_train]\n",
    "    x_test = [np.array(x)[feats_id] for x in feat_test]\n",
    "\n",
    "    y_train_cat = keras.utils.to_categorical(y_train, num_classes=len(np.unique(y_train)))\n",
    "    y_test_cat = keras.utils.to_categorical(y_test, num_classes=len(np.unique(y_test)))\n",
    "\n",
    "\n",
    "    Scaledata = True\n",
    "    if Scaledata:\n",
    "        scaler = StandardScaler()\n",
    "        scaler.fit(x_train)\n",
    "        x_train_sc = scaler.transform(x_train)\n",
    "        x_test_sc = scaler.transform(x_test)\n",
    "        #x_test  = scaler.transform(x_test)\n",
    "\n",
    "    nfeat = int(nfeat)\n",
    "    n_layers = len(neurons)\n",
    "    \n",
    "    model = Sequential()\n",
    "    for i in range(n_layers):\n",
    "        model.add(Dense(neurons[i], activation=activation, input_dim=nfeat))\n",
    "        model.add(Dropout(dropout))\n",
    "    \n",
    "    model.add(Dense(4, activation='softmax'))\n",
    "    sgd = SGD(lr=0.01, decay=1e-6, momentum=0.9, nesterov=True)\n",
    "    model.compile(loss='categorical_crossentropy',\n",
    "                  optimizer='adam')\n",
    "\n",
    "    model.fit(x_train_sc, y_train_cat,\n",
    "              shuffle=True,\n",
    "              verbose=0,\n",
    "              epochs=epochs,\n",
    "              batch_size=batch_size,\n",
    "              validation_data=(x_test_sc, y_test_cat)\n",
    "              )\n",
    "\n",
    "    pred_te = model.predict(x_test_sc)\n",
    "    pred_test = [np.argmax(x) for x in pred_te]\n",
    "    y_new_test = [np.argmax(x) for x in y_test_cat]\n",
    "\n",
    "    score_test = f1_score(y_new_test, pred_test,average=None)\n",
    "    return score_test[2]"
   ]
  },
  {
   "cell_type": "code",
   "execution_count": 6,
   "metadata": {},
   "outputs": [
    {
     "name": "stdout",
     "output_type": "stream",
     "text": [
      "There are 2 grid points to evaluate.\n"
     ]
    }
   ],
   "source": [
    "#define grid\n",
    "import itertools\n",
    "\n",
    "grid = {'activation':['relu','sigmoid'],\n",
    "        'dropout':[0.1],#,0.2],\n",
    "        'nfeat':[10,20],\n",
    "        'epochs':[50],\n",
    "        'batch_size':[64],\n",
    "        'neurons':[ \n",
    "            [10,10],\n",
    "            20,10,4]\n",
    "}\n",
    "\n",
    "# define other parameters\n",
    "\n",
    "kfold = 5 #k-fold CV\n",
    "score_func = metrics.f1_score\n",
    "\n",
    "\n",
    "ngridpoints = 1\n",
    "for key in grid.keys():\n",
    "    ngridpoints *= len(grid[key])\n",
    "    \n",
    "print ('There are %d grid points to evaluate.'%ngridpoints)\n",
    "params = list(grid.keys())\n",
    "nparams = len(grid.keys())\n",
    "scores = np.zeros(ngridpoints)\n",
    "    \n",
    "if nparams == 3:\n",
    "    prod = itertools.product(range(len(grid[params[0]])), range(len(grid[params[1]])), \n",
    "                             range(len(grid[params[2]])))\n",
    "if nparams == 4:\n",
    "    prod = itertools.product(range(len(grid[params[0]])), range(len(grid[params[1]])), \n",
    "                             range(len(grid[params[2]])), range(len(grid[params[3]])))\n",
    "if nparams == 5:\n",
    "    prod = itertools.product(range(len(grid[params[0]])), range(len(grid[params[1]])), \n",
    "                             range(len(grid[params[2]])), range(len(grid[params[3]])),\n",
    "                             range(len(grid[params[4]])))\n",
    "if nparams == 6:\n",
    "    prod = itertools.product(range(len(grid[params[0]])), range(len(grid[params[1]])), \n",
    "                             range(len(grid[params[2]])), range(len(grid[params[3]])),\n",
    "                             range(len(grid[params[4]])), range(len(grid[params[5]])))\n",
    "\n",
    "if nparams == 7:\n",
    "    prod = itertools.product(range(len(grid[params[0]])), range(len(grid[params[1]])), \n",
    "                             range(len(grid[params[2]])), range(len(grid[params[3]])),\n",
    "                             range(len(grid[params[4]])), range(len(grid[params[5]])),\n",
    "                             range(len(grid[params[6]])))\n",
    "\n",
    "    \n",
    "\n",
    "prodlist = list(prod)\n",
    "\n",
    "#ll = list(prod)\n",
    "#print\n",
    "#print len(ll)\n",
    "#print ll[0]\n",
    "\n",
    "# TODO: Now build the function that iterates over each grid parameter and evaluates the resulting NN."
   ]
  },
  {
   "cell_type": "code",
   "execution_count": 7,
   "metadata": {},
   "outputs": [
    {
     "name": "stdout",
     "output_type": "stream",
     "text": [
      "Changed nproc=2 and npc=1\n",
      "1\n"
     ]
    }
   ],
   "source": [
    "import multiprocessing as mp\n",
    "\n",
    "\n",
    "nproc = 12\n",
    "npc = len(prodlist)/nproc\n",
    "ik = 0\n",
    "\n",
    "if npc < 1:\n",
    "    npc = 1\n",
    "    nproc = ngridpoints\n",
    "    print ('Changed nproc=%d and npc=%d'%(nproc, npc))\n",
    "\n",
    "print (npc)\n",
    "def run_conf(ip):\n",
    "    ik = 0\n",
    "    results = {}\n",
    "    results['score'] = []\n",
    "    for par in params:\n",
    "        results[par] = []\n",
    "\n",
    "    i0 = int(npc* ip)\n",
    "    i1 = int(npc* (ip+1)) if ip != nproc-1 else len(prodlist) # last proc scans grid points until the end\n",
    "    for iz in range(i0,i1):\n",
    "        z = prodlist[iz]\n",
    "        if ik == 0: # first thing to do is to define the original features pool set\n",
    "            feat_train, err_train, fname_train = tools.get_features(dset)\n",
    "            y_train = [tools.class_to_int(x) for x in dset['class']]\n",
    "            index, importance, inames = tools.feature_importance(feat_train, y_train, fname_train)\n",
    "\n",
    "        parval = {}\n",
    "        for ip in range(nparams):\n",
    "            par = params[ip]\n",
    "            parval[par] = grid[par][z[ip]]\n",
    "            results[par].append(parval[par])\n",
    "\n",
    "        scores_cv = []\n",
    "        #kfold = parval['kfold']\n",
    "        for kf in range(kfold):  # create a CV split\n",
    "            scores_cv.append(gridsearchcv_elgs(parval, kfold, kf, index, importance, inames))\n",
    "        results['score'].append(np.mean(scores_cv))\n",
    "        print(z,'->','%.3f'%results['score'][ik])\n",
    "        ik += 1\n",
    "    return results"
   ]
  },
  {
   "cell_type": "code",
   "execution_count": 8,
   "metadata": {
    "scrolled": false
   },
   "outputs": [
    {
     "name": "stdout",
     "output_type": "stream",
     "text": [
      "WARNING:tensorflow:From /home/aaorsi/.local/lib/python3.7/site-packages/keras/backend/tensorflow_backend.py:66: The name tf.get_default_graph is deprecated. Please use tf.compat.v1.get_default_graph instead.\n",
      "\n",
      "WARNING:tensorflow:From /home/aaorsi/.local/lib/python3.7/site-packages/keras/backend/tensorflow_backend.py:541: The name tf.placeholder is deprecated. Please use tf.compat.v1.placeholder instead.\n",
      "\n",
      "WARNING:tensorflow:From /home/aaorsi/.local/lib/python3.7/site-packages/keras/backend/tensorflow_backend.py:4432: The name tf.random_uniform is deprecated. Please use tf.random.uniform instead.\n",
      "\n",
      "WARNING:tensorflow:From /home/aaorsi/.local/lib/python3.7/site-packages/keras/backend/tensorflow_backend.py:148: The name tf.placeholder_with_default is deprecated. Please use tf.compat.v1.placeholder_with_default instead.\n",
      "\n",
      "WARNING:tensorflow:From /home/aaorsi/.local/lib/python3.7/site-packages/keras/backend/tensorflow_backend.py:3733: calling dropout (from tensorflow.python.ops.nn_ops) with keep_prob is deprecated and will be removed in a future version.\n",
      "Instructions for updating:\n",
      "Please use `rate` instead of `keep_prob`. Rate should be set to `rate = 1 - keep_prob`.\n",
      "WARNING:tensorflow:From /home/aaorsi/.local/lib/python3.7/site-packages/keras/optimizers.py:793: The name tf.train.Optimizer is deprecated. Please use tf.compat.v1.train.Optimizer instead.\n",
      "\n",
      "WARNING:tensorflow:From /home/aaorsi/.local/lib/python3.7/site-packages/keras/backend/tensorflow_backend.py:3576: The name tf.log is deprecated. Please use tf.math.log instead.\n",
      "\n",
      "WARNING:tensorflow:From /home/aaorsi/.local/lib/python3.7/site-packages/keras/backend/tensorflow_backend.py:66: The name tf.get_default_graph is deprecated. Please use tf.compat.v1.get_default_graph instead.\n",
      "\n",
      "WARNING:tensorflow:From /home/aaorsi/.local/lib/python3.7/site-packages/keras/backend/tensorflow_backend.py:541: The name tf.placeholder is deprecated. Please use tf.compat.v1.placeholder instead.\n",
      "\n",
      "WARNING:tensorflow:From /home/aaorsi/.local/lib/python3.7/site-packages/keras/backend/tensorflow_backend.py:4432: The name tf.random_uniform is deprecated. Please use tf.random.uniform instead.\n",
      "\n",
      "WARNING:tensorflow:From /home/aaorsi/.local/lib/python3.7/site-packages/tensorflow/python/ops/math_grad.py:1250: add_dispatch_support.<locals>.wrapper (from tensorflow.python.ops.array_ops) is deprecated and will be removed in a future version.\n",
      "Instructions for updating:\n",
      "Use tf.where in 2.0, which has the same broadcast rule as np.where\n",
      "WARNING:tensorflow:From /home/aaorsi/.local/lib/python3.7/site-packages/keras/backend/tensorflow_backend.py:148: The name tf.placeholder_with_default is deprecated. Please use tf.compat.v1.placeholder_with_default instead.\n",
      "\n",
      "WARNING:tensorflow:From /home/aaorsi/.local/lib/python3.7/site-packages/keras/backend/tensorflow_backend.py:3733: calling dropout (from tensorflow.python.ops.nn_ops) with keep_prob is deprecated and will be removed in a future version.\n",
      "Instructions for updating:\n",
      "Please use `rate` instead of `keep_prob`. Rate should be set to `rate = 1 - keep_prob`.\n",
      "WARNING:tensorflow:From /home/aaorsi/.local/lib/python3.7/site-packages/keras/optimizers.py:793: The name tf.train.Optimizer is deprecated. Please use tf.compat.v1.train.Optimizer instead.\n",
      "\n",
      "WARNING:tensorflow:From /home/aaorsi/.local/lib/python3.7/site-packages/keras/backend/tensorflow_backend.py:3576: The name tf.log is deprecated. Please use tf.math.log instead.\n",
      "\n",
      "WARNING:tensorflow:From /home/aaorsi/.local/lib/python3.7/site-packages/tensorflow/python/ops/math_grad.py:1250: add_dispatch_support.<locals>.wrapper (from tensorflow.python.ops.array_ops) is deprecated and will be removed in a future version.\n",
      "Instructions for updating:\n",
      "Use tf.where in 2.0, which has the same broadcast rule as np.where\n",
      "(0, 0, 1, 0, 0, 0) -> 0.450\n",
      "(0, 0, 0, 0, 0, 0) -> 0.445\n",
      " Best configuration found  {'score': [0.4497139240794602], 'activation': ['relu'], 'dropout': [0.1], 'nfeat': [20], 'epochs': [50], 'batch_size': [64], 'neurons': [[10, 10]]}\n",
      "Scores: 0.4497139240794602\n"
     ]
    }
   ],
   "source": [
    "RunInParallel = True\n",
    "\n",
    "if RunInParallel:\n",
    "    pool = mp.Pool(processes=nproc)\n",
    "    res = [pool.apply_async(run_conf, args=(x,)) for x in range(nproc)]\n",
    "    sc = [p.get() for p in res]\n",
    "    scores = [x['score'] for x in sc]\n",
    "    scores = [x for y in scores for x in y]\n",
    "    id_best = np.argmax(scores)\n",
    "    best_pars = sc[id_best]\n",
    "    print (' Best configuration found ',best_pars)\n",
    "#res = run_conf(0)\n",
    "    print ('Scores:',scores[id_best])\n",
    "else:\n",
    "    run_conf(0)"
   ]
  },
  {
   "cell_type": "code",
   "execution_count": 9,
   "metadata": {},
   "outputs": [
    {
     "name": "stdout",
     "output_type": "stream",
     "text": [
      "[0.444704045000501, 0.4497139240794602]\n"
     ]
    }
   ],
   "source": [
    "print (scores)"
   ]
  },
  {
   "cell_type": "code",
   "execution_count": 10,
   "metadata": {},
   "outputs": [
    {
     "name": "stdout",
     "output_type": "stream",
     "text": [
      "WARNING:tensorflow:From /home/aaorsi/.local/lib/python3.7/site-packages/keras/backend/tensorflow_backend.py:190: The name tf.get_default_session is deprecated. Please use tf.compat.v1.get_default_session instead.\n",
      "\n",
      "WARNING:tensorflow:From /home/aaorsi/.local/lib/python3.7/site-packages/keras/backend/tensorflow_backend.py:197: The name tf.ConfigProto is deprecated. Please use tf.compat.v1.ConfigProto instead.\n",
      "\n",
      "WARNING:tensorflow:From /home/aaorsi/.local/lib/python3.7/site-packages/keras/backend/tensorflow_backend.py:203: The name tf.Session is deprecated. Please use tf.compat.v1.Session instead.\n",
      "\n",
      "WARNING:tensorflow:From /home/aaorsi/.local/lib/python3.7/site-packages/keras/backend/tensorflow_backend.py:207: The name tf.global_variables is deprecated. Please use tf.compat.v1.global_variables instead.\n",
      "\n"
     ]
    },
    {
     "data": {
      "text/plain": [
       "[]"
      ]
     },
     "execution_count": 10,
     "metadata": {},
     "output_type": "execute_result"
    }
   ],
   "source": [
    "from keras import backend as K\n",
    "K.tensorflow_backend._get_available_gpus()\n"
   ]
  },
  {
   "cell_type": "code",
   "execution_count": null,
   "metadata": {},
   "outputs": [],
   "source": []
  },
  {
   "cell_type": "code",
   "execution_count": null,
   "metadata": {},
   "outputs": [],
   "source": []
  }
 ],
 "metadata": {
  "kernelspec": {
   "display_name": "Python 3",
   "language": "python",
   "name": "python3"
  },
  "language_info": {
   "codemirror_mode": {
    "name": "ipython",
    "version": 3
   },
   "file_extension": ".py",
   "mimetype": "text/x-python",
   "name": "python",
   "nbconvert_exporter": "python",
   "pygments_lexer": "ipython3",
   "version": "3.7.3"
  }
 },
 "nbformat": 4,
 "nbformat_minor": 4
}
