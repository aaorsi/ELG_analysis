{
 "cells": [
  {
   "cell_type": "markdown",
   "metadata": {},
   "source": [
    "### This notebook implements a custom `GridSearchCV` on the ELG dataset, including resampling of the training set at each CV split"
   ]
  },
  {
   "cell_type": "code",
   "execution_count": 1,
   "metadata": {},
   "outputs": [
    {
     "name": "stderr",
     "output_type": "stream",
     "text": [
      "Using TensorFlow backend.\n",
      "/Users/aaorsi/anaconda/lib/python2.7/site-packages/cryptography/hazmat/primitives/constant_time.py:26: CryptographyDeprecationWarning: Support for your Python version is deprecated. The next version of cryptography will remove support. Please upgrade to a 2.7.x release that supports hmac.compare_digest as soon as possible.\n",
      "  utils.DeprecatedIn23,\n"
     ]
    }
   ],
   "source": [
    "import keras\n",
    "from keras.models import Sequential\n",
    "from keras.layers import Dense, Dropout, Activation\n",
    "from keras.optimizers import SGD\n",
    "from imblearn.over_sampling import SMOTE\n",
    "import numpy as np\n",
    "#import jplus\n",
    "import class_tools as tools \n",
    "from sklearn.preprocessing import StandardScaler \n"
   ]
  },
  {
   "cell_type": "code",
   "execution_count": 2,
   "metadata": {},
   "outputs": [],
   "source": [
    "#from keras import metrics\n",
    "from sklearn import metrics\n"
   ]
  },
  {
   "cell_type": "code",
   "execution_count": 3,
   "metadata": {},
   "outputs": [
    {
     "name": "stdout",
     "output_type": "stream",
     "text": [
      "['rSDSS', 'iSDSS', 'obj', 'gSDSS', 'J0395', 'zSDSS', 'J0378', 'J0430', 'uSDSS', 'dm_j0660', 'J0660', 'J0410', 'J0515', 'J0861', 'class']\n",
      "751\n"
     ]
    }
   ],
   "source": [
    "#load databases\n",
    "\n",
    "#DataDir = './data/'\n",
    "DataDir = '.'\n",
    "import pickle\n",
    "dset = pickle.load(open('%s/training_full.data'%DataDir))\n",
    "print dset.keys()\n",
    "ngal = len(dset['class'])\n",
    "print ngal\n",
    "dset_original = dset.copy() # keeping a copy of original datapoints for \n"
   ]
  },
  {
   "cell_type": "code",
   "execution_count": 4,
   "metadata": {},
   "outputs": [],
   "source": [
    "def collect_pars(pars):\n",
    "    # collecting parameters\n",
    "    if 'activation' in pars:\n",
    "        activation = pars['activation']\n",
    "    else:\n",
    "        activation = 'sigmoid'\n",
    "        \n",
    "    if 'dropout' in pars:\n",
    "        dropout = pars['dropout']\n",
    "    else:\n",
    "        dropout = 0.0\n",
    "    \n",
    "    if 'nfeat' in pars:\n",
    "        nfeat = pars['nfeat']\n",
    "    else:\n",
    "        nfeat = 20\n",
    "    \n",
    "    if 'epochs' in pars:\n",
    "        epochs = pars['epochs']\n",
    "    else:\n",
    "        epochs = 10\n",
    "\n",
    "    return activation, dropout, nfeat, epochs\n"
   ]
  },
  {
   "cell_type": "code",
   "execution_count": 5,
   "metadata": {},
   "outputs": [],
   "source": [
    "from sklearn.metrics import f1_score\n",
    "def gridsearchcv_elgs(pars, kfold, ith, index, importance, inames):\n",
    "\n",
    "    activation, dropout, nfeat, epochs = collect_pars(pars)    \n",
    "    train, test = tools.CV_split(dset, kfold,ith)\n",
    "    train_rs = tools.resample_errors(train, nr=2500,balance_set=True)\n",
    "    feat_train, err_train, fname_train = tools.get_features(train_rs)\n",
    "    feat_test, err_test, fname_test    = tools.get_features(test)\n",
    "    y_train = [tools.class_to_int(x) for x in train_rs['class']]\n",
    "    y_test = [tools.class_to_int(x) for x in test['class']]\n",
    "    \n",
    "    feats_id = index[0:nfeat]\n",
    "\n",
    "    x_train = [np.array(x)[feats_id] for x in feat_train]\n",
    "    x_test = [np.array(x)[feats_id] for x in feat_test]\n",
    "\n",
    "    y_train_cat = keras.utils.to_categorical(y_train, num_classes=len(np.unique(y_train)))\n",
    "    y_test_cat = keras.utils.to_categorical(y_test, num_classes=len(np.unique(y_test)))\n",
    "\n",
    "\n",
    "    Scaledata = True\n",
    "    if Scaledata:\n",
    "        scaler = StandardScaler()\n",
    "        scaler.fit(x_train)\n",
    "        x_train_sc = scaler.transform(x_train)\n",
    "        x_test_sc = scaler.transform(x_test)\n",
    "        #x_test  = scaler.transform(x_test)\n",
    "\n",
    "    model = Sequential()\n",
    "    model.add(Dense(nfeat/2, activation=activation, input_dim=nfeat))\n",
    "    model.add(Dropout(dropout))\n",
    "    model.add(Dense(nfeat/2, activation=activation, input_dim=nfeat))\n",
    "    model.add(Dense(4, activation='softmax'))\n",
    "\n",
    "    sgd = SGD(lr=0.01, decay=1e-6, momentum=0.9, nesterov=True)\n",
    "    model.compile(loss='categorical_crossentropy',\n",
    "                  optimizer='adam')\n",
    "\n",
    "    model.fit(x_train_sc, y_train_cat,\n",
    "              shuffle=True,\n",
    "              verbose=0,\n",
    "              epochs=epochs,\n",
    "              batch_size=200,\n",
    "              validation_data=(x_test_sc, y_test_cat)\n",
    "              )\n",
    "\n",
    "    pred_te = model.predict(x_test_sc)\n",
    "    pred_test = [np.argmax(x) for x in pred_te]\n",
    "    y_new_test = [np.argmax(x) for x in y_test_cat]\n",
    "\n",
    "    score_test = f1_score(y_new_test, pred_test,average=None)\n",
    "    return score_test[2]"
   ]
  },
  {
   "cell_type": "code",
   "execution_count": 6,
   "metadata": {},
   "outputs": [
    {
     "name": "stdout",
     "output_type": "stream",
     "text": [
      "There are 16 grid points to evaluate.\n"
     ]
    }
   ],
   "source": [
    "#define grid\n",
    "import itertools\n",
    "\n",
    "grid = {'activation':['relu','sigmoid'],\n",
    "        'dropout':[0.0,0.2],\n",
    "        'nfeat':[10,20],\n",
    "        'epochs':[10,30]\n",
    "}\n",
    "\n",
    "# define other parameters\n",
    "\n",
    "kfold = 5 #k-fold CV\n",
    "score_func = metrics.f1_score\n",
    "\n",
    "\n",
    "ngridpoints = 1\n",
    "for key in grid.keys():\n",
    "    ngridpoints *= len(grid[key])\n",
    "    \n",
    "print 'There are %d grid points to evaluate.'%ngridpoints\n",
    "params = grid.keys()\n",
    "nparams = len(grid.keys())\n",
    "scores = np.zeros(ngridpoints)\n",
    "    \n",
    "if nparams == 3:\n",
    "    prod = itertools.product(range(len(grid[params[0]])), range(len(grid[params[1]])), \n",
    "                             range(len(grid[params[2]])))\n",
    "if nparams == 4:\n",
    "    prod = itertools.product(range(len(grid[params[0]])), range(len(grid[params[1]])), \n",
    "                             range(len(grid[params[2]])), range(len(grid[params[3]])))\n",
    "if nparams == 5:\n",
    "    prod = itertools.product(range(len(grid[params[0]])), range(len(grid[params[1]])), \n",
    "                             range(len(grid[params[2]])), range(len(grid[params[3]])),\n",
    "                             range(len(grid[params[4]])))\n",
    "if nparams == 6:\n",
    "    prod = itertools.product(range(len(grid[params[0]])), range(len(grid[params[1]])), \n",
    "                             range(len(grid[params[2]])), range(len(grid[params[3]])),\n",
    "                             range(len(grid[params[4]])), range(len(grid[params[5]])))\n",
    "\n",
    "    \n",
    "\n",
    "prodlist = list(prod)\n",
    "\n",
    "#ll = list(prod)\n",
    "#print\n",
    "#print len(ll)\n",
    "#print ll[0]\n",
    "\n",
    "# TODO: Now build the function that iterates over each grid parameter and evaluates the resulting NN."
   ]
  },
  {
   "cell_type": "code",
   "execution_count": null,
   "metadata": {},
   "outputs": [],
   "source": [
    "import multiprocessing as mp\n",
    "\n",
    "\n",
    "nproc = 4\n",
    "npc = len(prodlist)/nproc\n",
    "ik = 0\n",
    "\n",
    "def run_conf(ip):\n",
    "    ik = 0\n",
    "    results = {}\n",
    "    for par in params:\n",
    "        results[par] = []\n",
    "\n",
    "    i0 = npc* ip\n",
    "    i1 = npc* (ip+1) if ip != 3 else len(prodlist)-1 # last proc scans grid points until the end\n",
    "    print i0, i1\n",
    "    for iz in range(i0,i1):\n",
    "        z = prodlist[iz]\n",
    "        print z\n",
    "        if ik == 0: # first thing to do is to define the original features pool set\n",
    "            feat_train, err_train, fname_train = tools.get_features(dset)\n",
    "            y_train = [tools.class_to_int(x) for x in dset['class']]\n",
    "            index, importance, inames = tools.feature_importance(feat_train, y_train, fname_train)\n",
    "\n",
    "        parval = {}\n",
    "        for ip in range(nparams):\n",
    "            par = params[ip]\n",
    "            parval[par] = grid[par][z[ip]]\n",
    "            results[par].append(parval[par])\n",
    "\n",
    "        scores_cv = []\n",
    "        for kf in range(kfold):  # create a CV split\n",
    "            scores_cv.append(gridsearchcv_elgs(parval, kfold, kf, index, importance, inames))\n",
    "        results['score'] = np.mean(scores_cv)\n",
    "        ik += 1\n",
    "    return results\n",
    "\n",
    "pool = mp.Pool(processes=nproc)\n",
    "res = [pool.apply_async(run_conf, args=(x,)) for x in range(nproc)]"
   ]
  },
  {
   "cell_type": "code",
   "execution_count": 11,
   "metadata": {
    "scrolled": false
   },
   "outputs": [
    {
     "name": "stdout",
     "output_type": "stream",
     "text": [
      "{'epochs': [10, 10, 10, 10], 'activation': ['sigmoid', 'sigmoid', 'sigmoid', 'sigmoid'], 'score': 0.34926009139209285, 'dropout': [0.0, 0.0, 0.2, 0.2], 'nfeat': [10, 20, 10, 20]}\n",
      "[0.40310770837157656, 0.34926009139209285, 0.4381112037132738, 0.3537178279799984]\n"
     ]
    }
   ],
   "source": [
    "sc = [p.get() for p in res]\n",
    "scores = [x['score'] for x in sc]\n",
    "id_best = np.argmin(scores)\n",
    "best_pars = sc[id_best]\n",
    "print best_pars\n",
    "\n",
    "#res = run_conf(0)\n",
    "\n",
    "\n",
    "print scores\n",
    "\n",
    "\n",
    "    \n",
    "    "
   ]
  },
  {
   "cell_type": "code",
   "execution_count": 8,
   "metadata": {},
   "outputs": [
    {
     "name": "stdout",
     "output_type": "stream",
     "text": [
      "[{'epochs': [10, 10, 10, 10], 'activation': ['relu', 'relu', 'relu', 'relu'], 'score': 0.40310770837157656, 'dropout': [0.0, 0.0, 0.2, 0.2], 'nfeat': [10, 20, 10, 20]}, {'epochs': [10, 10, 10, 10], 'activation': ['sigmoid', 'sigmoid', 'sigmoid', 'sigmoid'], 'score': 0.34926009139209285, 'dropout': [0.0, 0.0, 0.2, 0.2], 'nfeat': [10, 20, 10, 20]}, {'epochs': [30, 30, 30, 30], 'activation': ['relu', 'relu', 'relu', 'relu'], 'score': 0.4381112037132738, 'dropout': [0.0, 0.0, 0.2, 0.2], 'nfeat': [10, 20, 10, 20]}, {'epochs': [30, 30, 30], 'activation': ['sigmoid', 'sigmoid', 'sigmoid'], 'score': 0.3537178279799984, 'dropout': [0.0, 0.0, 0.2], 'nfeat': [10, 20, 10]}]\n"
     ]
    }
   ],
   "source": [
    "print sc"
   ]
  },
  {
   "cell_type": "code",
   "execution_count": null,
   "metadata": {},
   "outputs": [],
   "source": []
  },
  {
   "cell_type": "code",
   "execution_count": null,
   "metadata": {},
   "outputs": [],
   "source": []
  }
 ],
 "metadata": {
  "kernelspec": {
   "display_name": "Python 2",
   "language": "python",
   "name": "python2"
  },
  "language_info": {
   "codemirror_mode": {
    "name": "ipython",
    "version": 2
   },
   "file_extension": ".py",
   "mimetype": "text/x-python",
   "name": "python",
   "nbconvert_exporter": "python",
   "pygments_lexer": "ipython2",
   "version": "2.7.3"
  }
 },
 "nbformat": 4,
 "nbformat_minor": 2
}
