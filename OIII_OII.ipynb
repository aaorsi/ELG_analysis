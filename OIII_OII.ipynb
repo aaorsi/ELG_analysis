{
 "cells": [
  {
   "cell_type": "code",
   "execution_count": 3,
   "metadata": {},
   "outputs": [
    {
     "name": "stderr",
     "output_type": "stream",
     "text": [
      "j-plus [INFO]: Fetching J-PLUS galaxies\n",
      "j-plus [INFO]:    Loading /home/CEFCA/aaorsi/photoz/jplus_data/jplus_jplus_pz_gpsfMags_dr1_dual_magmax24.0.h5\n"
     ]
    },
    {
     "name": "stdout",
     "output_type": "stream",
     "text": [
      "Loading J-PLUS\n"
     ]
    }
   ],
   "source": [
    "# Searching for high OIII/OII emitters in J-PLUS\n",
    "# and stacking their GALEX FUV to search for Lyc flux\n",
    "\n",
    "import numpy as np\n",
    "import jplus\n",
    "import get_3dhst as hst\n",
    "from astropy.io import fits\n",
    "import elgtools as elg\n",
    "import MockJPLUS as mtools\n",
    "import matplotlib.pyplot as plt\n",
    "import Read_Mocks as read\n",
    "\n",
    "\n",
    "plotsdir = 'plots/'\n",
    "suff = 'JAVA'\n",
    "# Loading J-PLUS data\n",
    "print 'Loading J-PLUS'\n",
    "mag_type = 'gpsfMags'\n",
    "gal_jplus = jplus.datasets.fetch_jplus_objects(mag_type=mag_type, overwrite=False, \n",
    "                                                 object_name=\"jplus_pz\", nchunks=20, mag_limit=[16,24.],\n",
    "                                                extra_where_conds='',db='dr1', allphotoz=True, upperlimparams=True)\n",
    "\n",
    "\n",
    "#print 'Computing 3FM'\n",
    "#dm_min = 0.0 # rough number, to be computed as a function using the actual trumpet plots for individual tiles.\n",
    "\n",
    "gal_jplus['dm_j0660'], gal_jplus['f_j0660'], gal_jplus['fcont_j0660'] = mtools.gen_3fm(gal_jplus['J0660'][:,0],  gal_jplus['rJAVA'][:,0], gal_jplus['gJAVA'][:,0], \n",
    "                         Broad_NoLineName='gSDSS')\n",
    "\n",
    "gal_jplus['err_dm_j0660'] = mtools.gen_3fm_err(gal_jplus['J0660'][:,0], gal_jplus['J0660'][:,1], \n",
    "                                         gal_jplus['rJAVA'][:,0], gal_jplus['rJAVA'][:,1], \n",
    "                          gal_jplus['gJAVA'][:,0], gal_jplus['gJAVA'][:,1],Broad_NoLineName='gSDSS')\n",
    "\n",
    "gal_jplus['dm_j0861'], gal_jplus['f_j0861'],gal_jplus['fcont_j0861'] = mtools.gen_3fm(gal_jplus['J0861'][:,0], gal_jplus['z'+suff][:,0], \n",
    "                          gal_jplus['i'+suff][:,0],Broad_NoLineName='iSDSS', \n",
    "                          LineFilterName='J0861', Broad_LineName='zSDSS')\n",
    "\n",
    "gal_jplus['err_dm_j0861'] = mtools.gen_3fm_err(gal_jplus['J0861'][:,0], gal_jplus['J0861'][:,1], gal_jplus['z'+suff][:,0], \n",
    "                          gal_jplus['z'+suff][:,1],gal_jplus['i'+suff][:,0], gal_jplus['i'+suff][:,1],\n",
    "                          Broad_NoLineName='iSDSS')\n",
    "\n",
    "\n",
    "\n",
    "gal_jplus['EW_j0660'] = gal_jplus['f_j0660']/gal_jplus['fcont_j0660']\n",
    "gal_jplus['EW_j0861'] = gal_jplus['f_j0861']/gal_jplus['fcont_j0861']\n",
    "\n",
    "\n",
    "#print 'setting redshift ranges of ELGs'\n",
    "#f_j0660 = jplus.datasets.fetch_jplus_filter('J0660') # Filter transmission curve\n",
    "\n",
    "#print z_oii, z_ha, z_hb, z_oiii"
   ]
  },
  {
   "cell_type": "code",
   "execution_count": 20,
   "metadata": {},
   "outputs": [
    {
     "data": {
      "text/plain": [
       "(0, 30)"
      ]
     },
     "execution_count": 20,
     "metadata": {},
     "output_type": "execute_result"
    },
    {
     "data": {
      "image/png": "[encoded data removed]",
      "text/plain": [
       "<matplotlib.figure.Figure at 0x7f21f2942c10>"
      ]
     },
     "metadata": {},
     "output_type": "display_data"
    }
   ],
   "source": [
    "%matplotlib inline\n",
    "import matplotlib.pyplot as plt\n",
    "EW_min = 40\n",
    "\n",
    "mask = ((gal_jplus['dm_j0660'] > 0.2) & \n",
    "        (gal_jplus['dm_j0861'] > 0.2) &\n",
    "        (gal_jplus['rJAVA'][:,0] > 20)   &\n",
    "        (gal_jplus['mask_flags_J0660'] == 0) & # no artifacts is J0660 photometry\n",
    "        (gal_jplus['mask_flags_J0861'] == 0) & # no artifacts is J0660 photometry\n",
    "        (gal_jplus['mask_flags_rJAVA'] == 0) &\n",
    "        (gal_jplus['single_detect_J0660'] != 0) &\n",
    "        (gal_jplus['single_detect_J0861'] != 0) &# Objects are detected in both rJAVA and J0660\n",
    "        (1./gal_jplus['J0660'][:,1] > 5) &    # SNR of J0660 is above 5\n",
    "        (1./gal_jplus['r'+suff][:,1] > 5) &  # SNR of SDSS r-band is above 5\n",
    "         (1./gal_jplus['J0861'][:,1] > 5)  \n",
    "         )\n",
    "\n",
    "cands = jplus.tools.select_object(gal_jplus, mask)\n",
    "\n",
    "cands['OIII_OII'] = cands['f_j0861']/cands['f_j0660']\n",
    "\n",
    "\n",
    "plt.hist(cands['OIII_OII'],bins=50, range=[1,30])\n",
    "plt.yscale('log', nonposy='clip')\n",
    "#plt.xscale('log', nonposy='clip')\n",
    "\n",
    "plt.xlabel(r'$O_{32}$',fontsize=20)\n",
    "plt.xlim([0,30])\n"
   ]
  }
 ],
 "metadata": {
  "kernelspec": {
   "display_name": "Python 2",
   "language": "python",
   "name": "python2"
  },
  "language_info": {
   "codemirror_mode": {
    "name": "ipython",
    "version": 2
   },
   "file_extension": ".py",
   "mimetype": "text/x-python",
   "name": "python",
   "nbconvert_exporter": "python",
   "pygments_lexer": "ipython2",
   "version": "2.7.13"
  }
 },
 "nbformat": 4,
 "nbformat_minor": 2
}
