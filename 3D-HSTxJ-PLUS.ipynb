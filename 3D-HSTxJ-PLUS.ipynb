{
 "cells": [
  {
   "cell_type": "code",
   "execution_count": 7,
   "metadata": {},
   "outputs": [
    {
     "name": "stderr",
     "output_type": "stream",
     "text": [
      "j-plus [INFO]: Fetching J-PLUS galaxies\n",
      "j-plus [INFO]:    Loading /home/CEFCA/aaorsi/photoz/jplus_data/jplus_jplus_pz_gpsfMagsIso_idr_dual_magmax24.0.h5\n",
      "j-plus [INFO]: Fetching J-PLUS Tile list\n",
      "j-plus [INFO]:    Loading /home/CEFCA/aaorsi/photoz/jplus_data/objects_tile_list_idr_dual.h5\n"
     ]
    }
   ],
   "source": [
    "%matplotlib notebook\n",
    "import os\n",
    "import pickle\n",
    "import numpy as np\n",
    "import get_3dhst as hst\n",
    "import elgtools as elg\n",
    "import matplotlib.pyplot as plt\n",
    "elgdir   = os.getcwd()\n",
    "import jplus\n",
    "import matplotlib.gridspec as gsc\n",
    "\n",
    "tiledata = 'tiles/tiles_data_new.tsv' \n",
    "t_info = np.loadtxt(tiledata)\n",
    "\n",
    "#mag_type = 'gpsfMags'\n",
    "mag_type = 'gpsfMagsIso'\n",
    "fout = '%s/out/elgs.dat' % elgdir\n",
    "\n",
    "#j0660 = jplus.datasets.fetch_jplus_filter('J0660')\n",
    "#wline = 3727.0 # OII rest-frame\n",
    "\n",
    "#z_oii = elg.zline(wline, j0660.wave, j0660.throughput)\n",
    "#print 'z-range',z_oii\n",
    "z_oii = [0.73, 0.79]\n",
    "\n",
    "hstdata = hst.select_3DHST_z(z_oii[0],z_oii[1],LineName='Ha_flux',LineMin=0.01)\n",
    "\n",
    "LoadJPLUS = False # Load a ELG catalogue of JPLUS already built\n",
    "\n",
    "if LoadJPLUS:\n",
    "    gal_elgs = pickle.load(open(fout))\n",
    "else:\n",
    "    mag_excess = \"AND (m.MAG_APER_3_0[jplus::rSDSS]- m.MAG_APER_3_0[jplus::J0660]) > 0\"\n",
    "    gal_jplus = jplus.datasets.fetch_jplus_objects(mag_type=mag_type, overwrite=False, \n",
    "                                                 object_name=\"jplus_pz\", nchunks=20, mag_limit=[16,24.],\n",
    "                                                extra_where_conds='',db='idr', allphotoz=True, upperlimparams=True)\n",
    "    \n",
    "      \n",
    "elgtiles = np.unique(gal_jplus['tile_id'])\n",
    "\n",
    "jtiles = jplus.datasets.fetch_jplus_tile_list(db='idr',overwrite=False)\n",
    "meanAEGIS = [np.mean(hstdata['ra']), np.mean(hstdata['dec'])] # rough way to find a representative ra,dec of AEGIS\n",
    "\n",
    "# tile closest to meanAEGIS:\n",
    "# pick 4 closest tiles:\n",
    "id_AEGIStile = np.argsort(elg.haversine_dist(meanAEGIS[0], meanAEGIS[1], jtiles['ra'], jtiles['dec']))\n",
    "AEGIS_tile = jtiles['tileIDs'][id_AEGIStile[0:4]]\n",
    "\n",
    "\n",
    "    "
   ]
  },
  {
   "cell_type": "code",
   "execution_count": 8,
   "metadata": {},
   "outputs": [
    {
     "name": "stdout",
     "output_type": "stream",
     "text": [
      "['ncombined', 'noise', 'min_ra', 'ADUlevel', 'tileIDs', 'texposed', 'min_dec', 'ref_tileID', 'filter', 'depth', 'effectime', 'max_dec', 'ra', 'SQL', 'date', 'max_ra', 'dec', 'fwhmg']\n",
      "[28840 31975 31450 27786]\n"
     ]
    }
   ],
   "source": [
    "print jtiles.keys()\n",
    "print AEGIS_tile"
   ]
  },
  {
   "cell_type": "code",
   "execution_count": 10,
   "metadata": {},
   "outputs": [
    {
     "name": "stdout",
     "output_type": "stream",
     "text": [
      "[28840 31975 31450 27786] [214.88279943688192, 52.857105586107011]\n"
     ]
    }
   ],
   "source": [
    "\n",
    "print AEGIS_tile, meanAEGIS\n"
   ]
  },
  {
   "cell_type": "code",
   "execution_count": 11,
   "metadata": {
    "collapsed": true
   },
   "outputs": [
    {
     "ename": "IndexError",
     "evalue": "in the future, 0-d boolean arrays will be interpreted as a valid boolean index",
     "output_type": "error",
     "traceback": [
      "\u001b[0;31m---------------------------------------------------------------------------\u001b[0m",
      "\u001b[0;31mIndexError\u001b[0m                                Traceback (most recent call last)",
      "\u001b[0;32m<ipython-input-11-d699e894dd38>\u001b[0m in \u001b[0;36m<module>\u001b[0;34m()\u001b[0m\n\u001b[0;32m----> 1\u001b[0;31m \u001b[0mjplus_aegis\u001b[0m \u001b[0;34m=\u001b[0m \u001b[0mjplus\u001b[0m\u001b[0;34m.\u001b[0m\u001b[0mtools\u001b[0m\u001b[0;34m.\u001b[0m\u001b[0mselect_object\u001b[0m\u001b[0;34m(\u001b[0m\u001b[0mgal_jplus\u001b[0m\u001b[0;34m,\u001b[0m \u001b[0mgal_jplus\u001b[0m\u001b[0;34m[\u001b[0m\u001b[0;34m'tile_id'\u001b[0m\u001b[0;34m]\u001b[0m \u001b[0;34m==\u001b[0m \u001b[0mAEGIS_tile\u001b[0m\u001b[0;34m)\u001b[0m\u001b[0;34m\u001b[0m\u001b[0m\n\u001b[0m\u001b[1;32m      2\u001b[0m \u001b[0;32mprint\u001b[0m \u001b[0mjplus_aegis\u001b[0m\u001b[0;34m\u001b[0m\u001b[0m\n\u001b[1;32m      3\u001b[0m \u001b[0;31m#jplus_aegis = gal_elgs\u001b[0m\u001b[0;34m\u001b[0m\u001b[0;34m\u001b[0m\u001b[0m\n",
      "\u001b[0;32m/home/CEFCA/aaorsi/anaconda2/envs/photozenv/lib/python2.7/site-packages/jplus-0.1-py2.7.egg/jplus/tools/tools.pyc\u001b[0m in \u001b[0;36mselect_object\u001b[0;34m(gal, position)\u001b[0m\n\u001b[1;32m     24\u001b[0m             \u001b[0;32mcontinue\u001b[0m\u001b[0;34m\u001b[0m\u001b[0m\n\u001b[1;32m     25\u001b[0m         \u001b[0;32mif\u001b[0m \u001b[0;34m(\u001b[0m\u001b[0mtype\u001b[0m\u001b[0;34m(\u001b[0m\u001b[0mgal\u001b[0m\u001b[0;34m[\u001b[0m\u001b[0mkey\u001b[0m\u001b[0;34m]\u001b[0m\u001b[0;34m)\u001b[0m \u001b[0;32mis\u001b[0m \u001b[0;32mnot\u001b[0m \u001b[0mnp\u001b[0m\u001b[0;34m.\u001b[0m\u001b[0mstr_\u001b[0m\u001b[0;34m)\u001b[0m \u001b[0;32mand\u001b[0m \u001b[0;34m(\u001b[0m\u001b[0mtype\u001b[0m\u001b[0;34m(\u001b[0m\u001b[0mgal\u001b[0m\u001b[0;34m[\u001b[0m\u001b[0mkey\u001b[0m\u001b[0;34m]\u001b[0m\u001b[0;34m)\u001b[0m \u001b[0;32mis\u001b[0m \u001b[0;32mnot\u001b[0m \u001b[0mnp\u001b[0m\u001b[0;34m.\u001b[0m\u001b[0mstr\u001b[0m\u001b[0;34m)\u001b[0m\u001b[0;34m:\u001b[0m\u001b[0;34m\u001b[0m\u001b[0m\n\u001b[0;32m---> 26\u001b[0;31m             \u001b[0mgal_sel\u001b[0m\u001b[0;34m[\u001b[0m\u001b[0mkey\u001b[0m\u001b[0;34m]\u001b[0m \u001b[0;34m=\u001b[0m \u001b[0mgal\u001b[0m\u001b[0;34m[\u001b[0m\u001b[0mkey\u001b[0m\u001b[0;34m]\u001b[0m\u001b[0;34m[\u001b[0m\u001b[0mposition\u001b[0m\u001b[0;34m]\u001b[0m\u001b[0;34m\u001b[0m\u001b[0m\n\u001b[0m\u001b[1;32m     27\u001b[0m         \u001b[0;32melse\u001b[0m\u001b[0;34m:\u001b[0m\u001b[0;34m\u001b[0m\u001b[0m\n\u001b[1;32m     28\u001b[0m             \u001b[0mgal_sel\u001b[0m\u001b[0;34m[\u001b[0m\u001b[0mkey\u001b[0m\u001b[0;34m]\u001b[0m \u001b[0;34m=\u001b[0m \u001b[0mgal\u001b[0m\u001b[0;34m[\u001b[0m\u001b[0mkey\u001b[0m\u001b[0;34m]\u001b[0m\u001b[0;34m\u001b[0m\u001b[0m\n",
      "\u001b[0;31mIndexError\u001b[0m: in the future, 0-d boolean arrays will be interpreted as a valid boolean index"
     ]
    }
   ],
   "source": [
    "jplus_aegis = jplus.tools.select_object(gal_jplus, gal_jplus['tile_id'] == AEGIS_tile)\n",
    "print jplus_aegis\n",
    "#jplus_aegis = gal_elgs"
   ]
  },
  {
   "cell_type": "code",
   "execution_count": null,
   "metadata": {},
   "outputs": [],
   "source": []
  },
  {
   "cell_type": "code",
   "execution_count": null,
   "metadata": {},
   "outputs": [],
   "source": [
    "nhst = len(hstdata['ra'])\n",
    "hst_coords = np.zeros([nhst,2])\n",
    "\n",
    "for i in range(nhst):\n",
    "    hst_coords[i,:] = [hstdata['ra'][i],hstdata['dec'][i]]\n",
    "\n",
    "print hst_coords[0:10]\n",
    "print hstdata['ra'][0:10]\n",
    "hstdata['coords'] = hst_coords"
   ]
  },
  {
   "cell_type": "code",
   "execution_count": null,
   "metadata": {
    "collapsed": true
   },
   "outputs": [],
   "source": [
    "xmatch = elg.find_xmatches(gal_jplus, hstdata,getz = True, zcoord = 'z')\n"
   ]
  },
  {
   "cell_type": "code",
   "execution_count": null,
   "metadata": {},
   "outputs": [],
   "source": [
    "print len(xmatch)"
   ]
  },
  {
   "cell_type": "code",
   "execution_count": null,
   "metadata": {},
   "outputs": [],
   "source": [
    "print xmatch.keys()\n",
    "print len(gal_jplus['coords'][:,0])"
   ]
  },
  {
   "cell_type": "code",
   "execution_count": null,
   "metadata": {
    "scrolled": true
   },
   "outputs": [],
   "source": [
    "plt.figure(2)\n",
    "\n",
    "plt.plot(hstdata['coords'][:,0], hstdata['coords'][:,1],'o',color='red')\n",
    "plt.plot(jplus_aegis['coords'][:,0], jplus_aegis['coords'][:,1],'o',color='green',markersize=5)\n",
    "plt.xlim([hstdata['ra'].min()*.9975,hstdata['ra'].max()*1.0025])\n",
    "plt.ylim([hstdata['dec'].min()*.9975,hstdata['dec'].max()*1.0025])          "
   ]
  },
  {
   "cell_type": "code",
   "execution_count": null,
   "metadata": {
    "scrolled": true
   },
   "outputs": [],
   "source": [
    "xmatch['tile_id']"
   ]
  },
  {
   "cell_type": "code",
   "execution_count": null,
   "metadata": {
    "collapsed": true
   },
   "outputs": [],
   "source": [
    "%matplotlib inline\n",
    "data_tiles = np.unique(gal_jplus['tile_id'])\n",
    "\n",
    "gs = gsc.GridSpec(4,3)\n",
    "gs.update(wspace=0.0, hspace=0.0)\n",
    "\n",
    "filternames = [ 'J0378','J0395', 'J0410','J0430','J0515', 'J0660',\n",
    "               'J0861','uJAVA', 'gJAVA', 'rJAVA', 'iJAVA','zJAVA']\n",
    "\n",
    "idf = 0\n",
    "for ix in range(4):\n",
    "    for iy in range(3):\n",
    "\n",
    "        ax = plt.subplot(gs[ix,iy])\n",
    "        for tile in data_tiles:\n",
    "            jp = jplus.tools.select_object(gal_jplus,gal_jplus['tile_id'] == tile)\n",
    "            ax.plot(jp[filternames[idf]][:,0], 1/jp[filternames[idf]][:,1], ',',color = 'gray')\n",
    "\n",
    "        jpa = jplus.tools.select_object(gal_jplus,gal_jplus['tile_id'] == AEGIS_tile)\n",
    "        ax.plot(jpa[filternames[idf]][:,0], 1/jpa[filternames[idf]][:,1], '.',color = 'red', markersize= 10,\n",
    "        label='AEGIS tile' if idf == 0 else '')\n",
    "    \n",
    "        \n",
    "        ax.text(0.8,0.85,filternames[idf],transform=ax.transAxes,fontsize=10)\n",
    "        ax.legend(loc='upper left',fontsize=10)\n",
    "        ax.set_xlim([16.1,23.9])\n",
    "        ax.set_ylim([0,99])\n",
    "        if iy >0:\n",
    "            ax.set_yticklabels([])\n",
    "            \n",
    "        idf += 1\n",
    "\n",
    "        "
   ]
  },
  {
   "cell_type": "code",
   "execution_count": null,
   "metadata": {
    "collapsed": true
   },
   "outputs": [],
   "source": []
  },
  {
   "cell_type": "code",
   "execution_count": null,
   "metadata": {
    "collapsed": true
   },
   "outputs": [],
   "source": []
  }
 ],
 "metadata": {
  "anaconda-cloud": {},
  "kernelspec": {
   "display_name": "Python 2",
   "language": "python",
   "name": "python2"
  },
  "language_info": {
   "codemirror_mode": {
    "name": "ipython",
    "version": 2
   },
   "file_extension": ".py",
   "mimetype": "text/x-python",
   "name": "python",
   "nbconvert_exporter": "python",
   "pygments_lexer": "ipython2",
   "version": "2.7.13"
  }
 },
 "nbformat": 4,
 "nbformat_minor": 2
}
