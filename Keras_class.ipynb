{
 "cells": [
  {
   "cell_type": "code",
   "execution_count": 1,
   "metadata": {},
   "outputs": [
    {
     "name": "stdout",
     "output_type": "stream",
     "text": [
      "q chucha\n"
     ]
    },
    {
     "name": "stderr",
     "output_type": "stream",
     "text": [
      "Using TensorFlow backend.\n",
      "/Users/aaorsi/anaconda/lib/python2.7/site-packages/cryptography/hazmat/primitives/constant_time.py:26: CryptographyDeprecationWarning: Support for your Python version is deprecated. The next version of cryptography will remove support. Please upgrade to a 2.7.x release that supports hmac.compare_digest as soon as possible.\n",
      "  utils.DeprecatedIn23,\n"
     ]
    }
   ],
   "source": [
    "print 'q chucha'\n",
    "import keras\n",
    "from keras.models import Sequential\n",
    "from keras.layers import Dense, Dropout, Activation\n",
    "from keras.optimizers import SGD\n",
    "\n",
    "import numpy as np\n",
    "#import jplus\n",
    "\n"
   ]
  },
  {
   "cell_type": "code",
   "execution_count": 3,
   "metadata": {},
   "outputs": [
    {
     "name": "stdout",
     "output_type": "stream",
     "text": [
      "['tfeatures', 'vclass', 'tclass', 'vfeatures']\n",
      "\n",
      "19\n",
      "['OII' 'OIII+Hbeta' 'contaminant']\n"
     ]
    }
   ],
   "source": [
    "#load databases\n",
    "\n",
    "DataDir = './data/'\n",
    "\n",
    "import pickle\n",
    "dset = pickle.load(open('%s/dataset.data'%DataDir))\n",
    "print dset.keys()\n",
    "\n",
    "print \n",
    "\n",
    "x_train = np.asarray(dset['tfeatures'])\n",
    "y_train = np.asarray(dset['tclass'])\n",
    "x_test = np.asarray(dset['vfeatures'])\n",
    "y_test    = np.asarray(dset['vclass'])\n",
    "\n",
    "\n",
    "nfeat = len(x_train[0])\n",
    "print nfeat\n",
    "print np.unique(y_train)\n",
    "#blippi"
   ]
  },
  {
   "cell_type": "code",
   "execution_count": 4,
   "metadata": {},
   "outputs": [
    {
     "name": "stdout",
     "output_type": "stream",
     "text": [
      "(1000, 20) (8675, 19)\n",
      "(1000, 10) (8675,)\n",
      "(8675, 3)\n",
      "<type 'numpy.ndarray'> <type 'numpy.ndarray'>\n",
      "[[0. 1. 0.]\n",
      " [0. 1. 0.]]\n",
      "\n",
      "[[0. 0. 1. 0. 0. 0. 0. 0. 0. 0.]\n",
      " [0. 0. 0. 0. 0. 0. 1. 0. 0. 0.]]\n"
     ]
    }
   ],
   "source": [
    "#Example sets\n",
    "\n",
    "kx_train = np.random.random((1000, 20))\n",
    "ky_train = keras.utils.to_categorical(np.random.randint(10, size=(1000, 1)), num_classes=10)\n",
    "kx_test = np.random.random((100, 20))\n",
    "ky_test = keras.utils.to_categorical(np.random.randint(10, size=(100, 1)), num_classes=10)\n",
    "\n",
    "print np.shape(kx_train), np.shape(x_train)\n",
    "print np.shape(ky_train), np.shape(y_train)\n",
    "\n",
    "def class_to_int(istr):\n",
    "    if istr == 'OII':\n",
    "        return 0\n",
    "    elif istr == 'OIII+Hbeta':\n",
    "        return 1\n",
    "    elif istr == 'contaminant':\n",
    "        return 2\n",
    "    else:\n",
    "        print '%s not recognised'%istr\n",
    "        return -99\n",
    "\n",
    "\n",
    "y_train_int = [class_to_int(x) for x in y_train]\n",
    "y_test_int = [class_to_int(x) for x in y_test]\n",
    "\n",
    "y2_train = keras.utils.to_categorical(y_train_int, num_classes=len(np.unique(y_train_int)))\n",
    "y2_test = keras.utils.to_categorical(y_test_int, num_classes=len(np.unique(y_test_int)))\n",
    "\n",
    "print np.shape(y2_train)\n",
    "\n",
    "print type(y2_train), type(ky_train)\n",
    "\n",
    "print y2_train[0:2] \n",
    "print\n",
    "print ky_train[0:2]\n"
   ]
  },
  {
   "cell_type": "markdown",
   "metadata": {},
   "source": [
    "Scale data using scikit-learn StandardScaler"
   ]
  },
  {
   "cell_type": "code",
   "execution_count": 6,
   "metadata": {},
   "outputs": [
    {
     "name": "stdout",
     "output_type": "stream",
     "text": [
      "scaling data... done\n"
     ]
    }
   ],
   "source": [
    "from sklearn.preprocessing import StandardScaler \n",
    "Scaledata = True\n",
    "\n",
    "if Scaledata:\n",
    "    print 'scaling data...',\n",
    "    scaler = StandardScaler()\n",
    "    scaler.fit(x_train)\n",
    "    x_train = scaler.transform(x_train)\n",
    "    x_test  = scaler.transform(x_test)\n",
    "    print 'done'\n"
   ]
  },
  {
   "cell_type": "code",
   "execution_count": 21,
   "metadata": {},
   "outputs": [
    {
     "name": "stdout",
     "output_type": "stream",
     "text": [
      "doing stuff\n",
      "(8675, 19)\n",
      "(8675, 3)\n",
      "_________________________________________________________________\n",
      "Layer (type)                 Output Shape              Param #   \n",
      "=================================================================\n",
      "dense_40 (Dense)             (None, 19)                380       \n",
      "_________________________________________________________________\n",
      "dense_41 (Dense)             (None, 19)                380       \n",
      "_________________________________________________________________\n",
      "dense_42 (Dense)             (None, 3)                 60        \n",
      "=================================================================\n",
      "Total params: 820\n",
      "Trainable params: 820\n",
      "Non-trainable params: 0\n",
      "_________________________________________________________________\n"
     ]
    }
   ],
   "source": [
    "# Keras MLP\n",
    "\n",
    "from keras import metrics\n",
    "\n",
    "model = Sequential()\n",
    "# Dense(64) is a fully-connected layer with 64 hidden units.\n",
    "# in the first layer, you must specify the expected input data shape:\n",
    "# here, 20-dimensional vectors.\n",
    "model.add(Dense(19, activation='relu', input_dim=nfeat))\n",
    "#model.add(Dropout(0.5))\n",
    "model.add(Dense(19, activation='relu'))\n",
    "#model.add(Dropout(0.5))\n",
    "model.add(Dense(3, activation='softmax'))\n",
    "\n",
    "sgd = SGD(lr=0.01, decay=1e-6, momentum=0.9, nesterov=True)\n",
    "model.compile(loss='categorical_crossentropy',\n",
    "              optimizer=sgd,\n",
    "              metrics=[metrics.categorical_accuracy])\n",
    "print 'doing stuff'\n",
    "\n",
    "print np.shape(x_train)\n",
    "print np.shape(y2_train)\n",
    "\n",
    "model.summary()\n",
    "\n"
   ]
  },
  {
   "cell_type": "code",
   "execution_count": 22,
   "metadata": {},
   "outputs": [
    {
     "name": "stdout",
     "output_type": "stream",
     "text": [
      "Train on 8675 samples, validate on 8675 samples\n",
      "Epoch 1/20\n",
      " - 3s - loss: 1.1353 - categorical_accuracy: 0.3277 - val_loss: 1.0687 - val_categorical_accuracy: 0.4160\n",
      "Epoch 2/20\n",
      " - 0s - loss: 1.0427 - categorical_accuracy: 0.4808 - val_loss: 1.0124 - val_categorical_accuracy: 0.5229\n",
      "Epoch 3/20\n",
      " - 0s - loss: 0.9916 - categorical_accuracy: 0.5372 - val_loss: 0.9679 - val_categorical_accuracy: 0.5505\n",
      "Epoch 4/20\n",
      " - 0s - loss: 0.9507 - categorical_accuracy: 0.5572 - val_loss: 0.9290 - val_categorical_accuracy: 0.5669\n",
      "Epoch 5/20\n",
      " - 0s - loss: 0.9136 - categorical_accuracy: 0.5720 - val_loss: 0.8938 - val_categorical_accuracy: 0.5801\n",
      "Epoch 6/20\n",
      " - 0s - loss: 0.8801 - categorical_accuracy: 0.5880 - val_loss: 0.8624 - val_categorical_accuracy: 0.5961\n",
      "Epoch 7/20\n",
      " - 0s - loss: 0.8500 - categorical_accuracy: 0.6012 - val_loss: 0.8349 - val_categorical_accuracy: 0.6081\n",
      "Epoch 8/20\n",
      " - 0s - loss: 0.8236 - categorical_accuracy: 0.6142 - val_loss: 0.8088 - val_categorical_accuracy: 0.6247\n",
      "Epoch 9/20\n",
      " - 0s - loss: 0.7980 - categorical_accuracy: 0.6302 - val_loss: 0.7838 - val_categorical_accuracy: 0.6380\n",
      "Epoch 10/20\n",
      " - 0s - loss: 0.7740 - categorical_accuracy: 0.6409 - val_loss: 0.7610 - val_categorical_accuracy: 0.6475\n",
      "Epoch 11/20\n",
      " - 0s - loss: 0.7523 - categorical_accuracy: 0.6504 - val_loss: 0.7409 - val_categorical_accuracy: 0.6552\n",
      "Epoch 12/20\n",
      " - 0s - loss: 0.7337 - categorical_accuracy: 0.6537 - val_loss: 0.7237 - val_categorical_accuracy: 0.6599\n",
      "Epoch 13/20\n",
      " - 0s - loss: 0.7177 - categorical_accuracy: 0.6636 - val_loss: 0.7091 - val_categorical_accuracy: 0.6669\n",
      "Epoch 14/20\n",
      " - 0s - loss: 0.7040 - categorical_accuracy: 0.6647 - val_loss: 0.6962 - val_categorical_accuracy: 0.6677\n",
      "Epoch 15/20\n",
      " - 0s - loss: 0.6919 - categorical_accuracy: 0.6734 - val_loss: 0.6848 - val_categorical_accuracy: 0.6770\n",
      "Epoch 16/20\n",
      " - 0s - loss: 0.6812 - categorical_accuracy: 0.6755 - val_loss: 0.6747 - val_categorical_accuracy: 0.6809\n",
      "Epoch 17/20\n",
      " - 0s - loss: 0.6718 - categorical_accuracy: 0.6807 - val_loss: 0.6657 - val_categorical_accuracy: 0.6852\n",
      "Epoch 18/20\n",
      " - 0s - loss: 0.6631 - categorical_accuracy: 0.6863 - val_loss: 0.6576 - val_categorical_accuracy: 0.6891\n",
      "Epoch 19/20\n",
      " - 0s - loss: 0.6552 - categorical_accuracy: 0.6885 - val_loss: 0.6504 - val_categorical_accuracy: 0.6908\n",
      "Epoch 20/20\n",
      " - 0s - loss: 0.6486 - categorical_accuracy: 0.6911 - val_loss: 0.6443 - val_categorical_accuracy: 0.6921\n",
      "[0.904979986828411, 0.5686455354395105]\n"
     ]
    }
   ],
   "source": [
    "model.fit(x_train, y2_train,\n",
    "          epochs=20,\n",
    "          batch_size=500,\n",
    "          validation_data=(x_test,y2_test),\n",
    "          shuffle=True,\n",
    "          verbose=2\n",
    "          )\n",
    "\n",
    "#score = model.evaluate(x_test, y2_test, batch_size=200)\n",
    "\n",
    "print score"
   ]
  },
  {
   "cell_type": "code",
   "execution_count": 23,
   "metadata": {},
   "outputs": [],
   "source": []
  }
 ],
 "metadata": {
  "kernelspec": {
   "display_name": "Python 2",
   "language": "python",
   "name": "python2"
  },
  "language_info": {
   "codemirror_mode": {
    "name": "ipython",
    "version": 2
   },
   "file_extension": ".py",
   "mimetype": "text/x-python",
   "name": "python",
   "nbconvert_exporter": "python",
   "pygments_lexer": "ipython2",
   "version": "2.7.3"
  }
 },
 "nbformat": 4,
 "nbformat_minor": 2
}
