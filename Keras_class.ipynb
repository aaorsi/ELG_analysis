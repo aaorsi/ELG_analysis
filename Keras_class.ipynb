{
 "cells": [
  {
   "cell_type": "code",
   "execution_count": 1,
   "metadata": {},
   "outputs": [
    {
     "name": "stdout",
     "output_type": "stream",
     "text": [
      "q chucha\n"
     ]
    },
    {
     "name": "stderr",
     "output_type": "stream",
     "text": [
      "/home/CEFCA/aaorsi/.local/lib/python2.7/site-packages/h5py/__init__.py:36: FutureWarning: Conversion of the second argument of issubdtype from `float` to `np.floating` is deprecated. In future, it will be treated as `np.float64 == np.dtype(float).type`.\n",
      "  from ._conv import register_converters as _register_converters\n",
      "Using TensorFlow backend.\n"
     ]
    }
   ],
   "source": [
    "print 'q chucha'\n",
    "import keras\n",
    "from keras.models import Sequential\n",
    "from keras.layers import Dense, Dropout, Activation\n",
    "from keras.optimizers import SGD\n",
    "\n",
    "import numpy as np\n",
    "#import jplus\n",
    "\n"
   ]
  },
  {
   "cell_type": "code",
   "execution_count": 1,
   "metadata": {},
   "outputs": [
    {
     "name": "stdout",
     "output_type": "stream",
     "text": [
      "['tfeatures', 'vclass', 'tclass', 'vfeatures']\n",
      "\n"
     ]
    },
    {
     "ename": "NameError",
     "evalue": "name 'np' is not defined",
     "output_type": "error",
     "traceback": [
      "\u001b[0;31m---------------------------------------------------------------------------\u001b[0m",
      "\u001b[0;31mNameError\u001b[0m                                 Traceback (most recent call last)",
      "\u001b[0;32m<ipython-input-1-1eed74705332>\u001b[0m in \u001b[0;36m<module>\u001b[0;34m()\u001b[0m\n\u001b[1;32m      7\u001b[0m \u001b[0;32mprint\u001b[0m\u001b[0;34m\u001b[0m\u001b[0m\n\u001b[1;32m      8\u001b[0m \u001b[0;34m\u001b[0m\u001b[0m\n\u001b[0;32m----> 9\u001b[0;31m \u001b[0mx_train\u001b[0m \u001b[0;34m=\u001b[0m \u001b[0mnp\u001b[0m\u001b[0;34m.\u001b[0m\u001b[0masarray\u001b[0m\u001b[0;34m(\u001b[0m\u001b[0mdset\u001b[0m\u001b[0;34m[\u001b[0m\u001b[0;34m'tfeatures'\u001b[0m\u001b[0;34m]\u001b[0m\u001b[0;34m)\u001b[0m\u001b[0;34m\u001b[0m\u001b[0m\n\u001b[0m\u001b[1;32m     10\u001b[0m \u001b[0my_train\u001b[0m \u001b[0;34m=\u001b[0m \u001b[0mnp\u001b[0m\u001b[0;34m.\u001b[0m\u001b[0masarray\u001b[0m\u001b[0;34m(\u001b[0m\u001b[0mdset\u001b[0m\u001b[0;34m[\u001b[0m\u001b[0;34m'tclass'\u001b[0m\u001b[0;34m]\u001b[0m\u001b[0;34m)\u001b[0m\u001b[0;34m\u001b[0m\u001b[0m\n\u001b[1;32m     11\u001b[0m \u001b[0mx_test\u001b[0m \u001b[0;34m=\u001b[0m \u001b[0mnp\u001b[0m\u001b[0;34m.\u001b[0m\u001b[0masarray\u001b[0m\u001b[0;34m(\u001b[0m\u001b[0mdset\u001b[0m\u001b[0;34m[\u001b[0m\u001b[0;34m'vfeatures'\u001b[0m\u001b[0;34m]\u001b[0m\u001b[0;34m)\u001b[0m\u001b[0;34m\u001b[0m\u001b[0m\n",
      "\u001b[0;31mNameError\u001b[0m: name 'np' is not defined"
     ]
    }
   ],
   "source": [
    "#load databases\n",
    "\n",
    "import pickle\n",
    "dset = pickle.load(open('dataset.data'))\n",
    "print dset.keys()\n",
    "\n",
    "print \n",
    "\n",
    "x_train = np.asarray(dset['tfeatures'])\n",
    "y_train = np.asarray(dset['tclass'])\n",
    "x_test = np.asarray(dset['vfeatures'])\n",
    "y_test    = np.asarray(dset['vclass'])\n",
    "\n",
    "\n",
    "nfeat = len(x_train[0])\n",
    "print nfeat\n",
    "print np.unique(y_train)\n",
    "#blippi"
   ]
  },
  {
   "cell_type": "code",
   "execution_count": 9,
   "metadata": {},
   "outputs": [
    {
     "name": "stdout",
     "output_type": "stream",
     "text": [
      "(1000, 20) (8675, 19)\n",
      "(1000, 10) (8675,)\n",
      "(8675, 3)\n",
      "<type 'numpy.ndarray'> <type 'numpy.ndarray'>\n",
      "[[0. 1. 0.]\n",
      " [0. 1. 0.]]\n",
      "\n",
      "[[0. 0. 0. 0. 1. 0. 0. 0. 0. 0.]\n",
      " [0. 0. 1. 0. 0. 0. 0. 0. 0. 0.]]\n"
     ]
    }
   ],
   "source": [
    "#Example sets\n",
    "\n",
    "kx_train = np.random.random((1000, 20))\n",
    "ky_train = keras.utils.to_categorical(np.random.randint(10, size=(1000, 1)), num_classes=10)\n",
    "kx_test = np.random.random((100, 20))\n",
    "ky_test = keras.utils.to_categorical(np.random.randint(10, size=(100, 1)), num_classes=10)\n",
    "\n",
    "print np.shape(kx_train), np.shape(x_train)\n",
    "print np.shape(ky_train), np.shape(y_train)\n",
    "\n",
    "def class_to_int(istr):\n",
    "    if istr == 'OII':\n",
    "        return 0\n",
    "    elif istr == 'OIII+Hbeta':\n",
    "        return 1\n",
    "    elif istr == 'contaminant':\n",
    "        return 2\n",
    "    else:\n",
    "        print '%s not recognised'%istr\n",
    "        return -99\n",
    "\n",
    "\n",
    "y_train_int = [class_to_int(x) for x in y_train]\n",
    "y_test_int = [class_to_int(x) for x in y_test]\n",
    "\n",
    "y2_train = keras.utils.to_categorical(y_train_int, num_classes=len(np.unique(y_train_int)))\n",
    "y2_test = keras.utils.to_categorical(y_test_int, num_classes=len(np.unique(y_test_int)))\n",
    "\n",
    "print np.shape(y2_train)\n",
    "\n",
    "print type(y2_train), type(ky_train)\n",
    "\n",
    "print y2_train[0:2] \n",
    "print\n",
    "print ky_train[0:2]\n"
   ]
  },
  {
   "cell_type": "code",
   "execution_count": null,
   "metadata": {},
   "outputs": [],
   "source": []
  },
  {
   "cell_type": "code",
   "execution_count": 15,
   "metadata": {},
   "outputs": [
    {
     "name": "stdout",
     "output_type": "stream",
     "text": [
      "doing stuff\n",
      "(8675, 19)\n",
      "(8675, 3)\n",
      "Epoch 1/10\n",
      "8675/8675 [==============================] - 0s 39us/step - loss: 1.1542 - acc: 0.3343\n",
      "Epoch 2/10\n",
      "8675/8675 [==============================] - 0s 10us/step - loss: 1.1118 - acc: 0.3361\n",
      "Epoch 3/10\n",
      "8675/8675 [==============================] - 0s 8us/step - loss: 1.1170 - acc: 0.3367\n",
      "Epoch 4/10\n",
      "8675/8675 [==============================] - 0s 8us/step - loss: 1.1081 - acc: 0.3333\n",
      "Epoch 5/10\n",
      "8675/8675 [==============================] - 0s 8us/step - loss: 1.1168 - acc: 0.3308\n",
      "Epoch 6/10\n",
      "8675/8675 [==============================] - 0s 7us/step - loss: 1.1018 - acc: 0.3318\n",
      "Epoch 7/10\n",
      "8675/8675 [==============================] - 0s 7us/step - loss: 1.1029 - acc: 0.3360\n",
      "Epoch 8/10\n",
      "8675/8675 [==============================] - 0s 6us/step - loss: 1.0993 - acc: 0.3333\n",
      "Epoch 9/10\n",
      "8675/8675 [==============================] - 0s 6us/step - loss: 1.1017 - acc: 0.3327\n",
      "Epoch 10/10\n",
      "8675/8675 [==============================] - 0s 6us/step - loss: 1.1029 - acc: 0.3348\n",
      "8675/8675 [==============================] - 0s 16us/step\n"
     ]
    }
   ],
   "source": [
    "# Keras MLP\n",
    "\n",
    "model = Sequential()\n",
    "# Dense(64) is a fully-connected layer with 64 hidden units.\n",
    "# in the first layer, you must specify the expected input data shape:\n",
    "# here, 20-dimensional vectors.\n",
    "model.add(Dense(3, activation='relu', input_dim=nfeat))\n",
    "model.add(Dropout(0.5))\n",
    "model.add(Dense(3, activation='relu'))\n",
    "model.add(Dropout(0.5))\n",
    "model.add(Dense(3, activation='softmax'))\n",
    "\n",
    "sgd = SGD(lr=0.01, decay=1e-6, momentum=0.9, nesterov=True)\n",
    "model.compile(loss='categorical_crossentropy',\n",
    "              optimizer=sgd,\n",
    "              metrics=['accuracy'])\n",
    "print 'doing stuff'\n",
    "\n",
    "print np.shape(x_train)\n",
    "print np.shape(y2_train)\n",
    "\n",
    "model.fit(x_train, y2_train,\n",
    "          epochs=10,\n",
    "          batch_size=200)\n",
    "\n",
    "score = model.evaluate(x_test, y2_test, batch_size=100)\n",
    "\n",
    "\n",
    "\n"
   ]
  },
  {
   "cell_type": "code",
   "execution_count": 16,
   "metadata": {},
   "outputs": [
    {
     "name": "stdout",
     "output_type": "stream",
     "text": [
      "[1.0983815650087956, 0.33475504313147375]\n"
     ]
    }
   ],
   "source": [
    "print score"
   ]
  }
 ],
 "metadata": {
  "kernelspec": {
   "display_name": "Python 2",
   "language": "python",
   "name": "python2"
  },
  "language_info": {
   "codemirror_mode": {
    "name": "ipython",
    "version": 2
   },
   "file_extension": ".py",
   "mimetype": "text/x-python",
   "name": "python",
   "nbconvert_exporter": "python",
   "pygments_lexer": "ipython2",
   "version": "2.7.13"
  }
 },
 "nbformat": 4,
 "nbformat_minor": 2
}
